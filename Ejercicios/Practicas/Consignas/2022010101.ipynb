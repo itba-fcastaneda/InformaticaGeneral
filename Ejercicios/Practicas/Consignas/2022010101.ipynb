{
 "cells": [
  {
   "cell_type": "markdown",
   "metadata": {},
   "source": [
    "# Un número triangular altamente divisible\n",
    "## Consigna"
   ]
  },
  {
   "cell_type": "markdown",
   "metadata": {},
   "source": [
    "Una serie de números triangulares se genera sumando los números naturales del 1 al n de la serie. Por ejemplo, si n=7\n",
    "S(7)=1+2+3+4+5+6+7=28.\n",
    "\n",
    "Si ahora calculamos los divisores de los números triangulares:\n",
    "\n",
    "```\n",
    " 1: 1\n",
    " 3: 1,3\n",
    " 6: 1,2,3,6\n",
    "10: 1,2,5,10\n",
    "15: 1,3,5,15\n",
    "21: 1,3,7,21\n",
    "28: 1,2,4,7,14,28\n",
    "```\n",
    "\n",
    "se puede ver que el 28 es el primer númnero triangular en tener más de 5 divisores. \n",
    "\n",
    "Cuál es el valor del primer número triangular en tener más de N divisores?"
   ]
  },
  {
   "cell_type": "markdown",
   "metadata": {},
   "source": [
    "## Respuesta"
   ]
  },
  {
   "cell_type": "markdown",
   "metadata": {},
   "source": [
    "Para N=120"
   ]
  },
  {
   "cell_type": "markdown",
   "metadata": {},
   "source": [
    "```\n",
    "157080\n",
    "```"
   ]
  },
  {
   "cell_type": "markdown",
   "metadata": {},
   "source": []
  }
 ],
 "metadata": {
  "language_info": {
   "name": "python"
  },
  "orig_nbformat": 4
 },
 "nbformat": 4,
 "nbformat_minor": 2
}
