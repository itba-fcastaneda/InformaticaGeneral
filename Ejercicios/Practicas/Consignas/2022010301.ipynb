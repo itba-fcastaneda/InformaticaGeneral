{
 "cells": [
  {
   "cell_type": "markdown",
   "metadata": {},
   "source": [
    "# Digitos elevados a la quinta\n",
    "## Consigna\n",
    "\n",
    "Curiosamente, en algunos números se da la siguiente particularidad:\n",
    "```\n",
    "1636 = 1^4 + 6^4 + 3^4 + 6^4\n",
    "8204 = 8^4 + 2^4 + 0^4 + 4^4\n",
    "9474 = 9^4 + 4^4 + 7^4 + 4^4\n",
    "```\n",
    "No se incluye 1 = 1^4 dado que no es una suma de dígitos.\n",
    "\n",
    "Encontrar la suma de todos los números menores a diez millones que puedan ser escritos como la suma de la **potencia quinta** de sus cifras."
   ]
  },
  {
   "cell_type": "markdown",
   "metadata": {},
   "source": [
    "## Respuesta\n",
    "\n",
    "```443839```"
   ]
  }
 ],
 "metadata": {
  "interpreter": {
   "hash": "31f2aee4e71d21fbe5cf8b01ff0e069b9275f58929596ceb00d14d90e3e16cd6"
  },
  "kernelspec": {
   "display_name": "Python 3.8.9 64-bit",
   "language": "python",
   "name": "python3"
  },
  "language_info": {
   "codemirror_mode": {
    "name": "ipython",
    "version": 3
   },
   "file_extension": ".py",
   "mimetype": "text/x-python",
   "name": "python",
   "nbconvert_exporter": "python",
   "pygments_lexer": "ipython3",
   "version": "3.8.9"
  },
  "orig_nbformat": 4
 },
 "nbformat": 4,
 "nbformat_minor": 2
}
