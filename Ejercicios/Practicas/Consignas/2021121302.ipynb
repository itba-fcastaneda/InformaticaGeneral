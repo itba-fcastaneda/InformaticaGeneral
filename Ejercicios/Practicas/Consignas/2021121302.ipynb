{
 "cells": [
  {
   "cell_type": "markdown",
   "metadata": {},
   "source": [
    "# Suma de diagonales espiraladas\n"
   ]
  },
  {
   "cell_type": "markdown",
   "metadata": {},
   "source": [
    "## Consigna"
   ]
  },
  {
   "cell_type": "markdown",
   "metadata": {},
   "source": [
    "Contruir una matriz de NxN siendo N un número impar. La matriz debe estar completa con una secuencia de números: 1,2,3,4,5,6,...NxN con la particularidad de el 1 debe arrncar en el centro de la matriz y en forma espiralada ir completando hasta llenarla.\n",
    "\n",
    "Un ejemplo: si N=3 se espera obtener\n",
    " \n",
    "7 8 9\n",
    "6 1 2\n",
    "5 4 3\n",
    "\n",
    "Si N=5 se espera:\n",
    "\n",
    "21 22 23 24 25\n",
    "20 7  8  9  10\n",
    "19 6  1  2  11\n",
    "18 5  4  3  12\n",
    "17 16 15 14 13\n",
    "\n",
    "Una vez obtenida la matriz se debe calcular el valor la suma de todos los números que se encuentran en la diagonal de la matriz (el 1 del centro se debe contar una sóla vez). \n",
    "\n",
    "N=3 -> 25\n",
    "n=5 -> 101"
   ]
  },
  {
   "cell_type": "markdown",
   "metadata": {},
   "source": [
    "## Desafío extra\n",
    "\n",
    "Dado el tamaño de la matriz, devolver la suma de las diagonales sin completar la matriz. "
   ]
  },
  {
   "cell_type": "markdown",
   "metadata": {},
   "source": [
    "## Respuestas"
   ]
  },
  {
   "cell_type": "markdown",
   "metadata": {},
   "source": [
    "```\n",
    "N=3 25\n",
    "N=5 101\n",
    "N=11 961\n",
    "```"
   ]
  },
  {
   "cell_type": "markdown",
   "metadata": {},
   "source": []
  }
 ],
 "metadata": {
  "interpreter": {
   "hash": "31f2aee4e71d21fbe5cf8b01ff0e069b9275f58929596ceb00d14d90e3e16cd6"
  },
  "kernelspec": {
   "display_name": "Python 3.8.9 64-bit",
   "language": "python",
   "name": "python3"
  },
  "language_info": {
   "codemirror_mode": {
    "name": "ipython",
    "version": 3
   },
   "file_extension": ".py",
   "mimetype": "text/x-python",
   "name": "python",
   "nbconvert_exporter": "python",
   "pygments_lexer": "ipython3",
   "version": "3.8.9"
  },
  "orig_nbformat": 4
 },
 "nbformat": 4,
 "nbformat_minor": 2
}
