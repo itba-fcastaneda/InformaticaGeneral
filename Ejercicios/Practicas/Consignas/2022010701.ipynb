{
 "cells": [
  {
   "cell_type": "markdown",
   "metadata": {},
   "source": [
    "# Ternas de primos potenciados\n",
    "## Consigna\n",
    "\n",
    "El 28 es el menor número que se puede expresar como ```a^2+b^3+c^4``` siendo a,b y c números primos.\n",
    "\n",
    "```28 = 2^2+2^3+2^4\n",
    "33 = 3^2+2^3+2^4\n",
    "49 = 5^2+2^3+2^4\n",
    "47 = 2^2+3^3+2^4\n",
    "```\n",
    "\n",
    "Contar todos los números menores de 50 millones que pueden ser expresados de este modo. \n",
    "\n",
    "*TIP: Hacer uso de la claúsula **break** para reducir la cantidad de iteraciones innecesarias.*"
   ]
  },
  {
   "cell_type": "markdown",
   "metadata": {},
   "source": [
    "## Respuesta\n",
    "\n",
    "```1097343```"
   ]
  }
 ],
 "metadata": {
  "interpreter": {
   "hash": "31f2aee4e71d21fbe5cf8b01ff0e069b9275f58929596ceb00d14d90e3e16cd6"
  },
  "kernelspec": {
   "display_name": "Python 3.8.9 64-bit",
   "language": "python",
   "name": "python3"
  },
  "language_info": {
   "codemirror_mode": {
    "name": "ipython",
    "version": 3
   },
   "file_extension": ".py",
   "mimetype": "text/x-python",
   "name": "python",
   "nbconvert_exporter": "python",
   "pygments_lexer": "ipython3",
   "version": "3.9.5"
  },
  "orig_nbformat": 4
 },
 "nbformat": 4,
 "nbformat_minor": 2
}
