{
 "cells": [
  {
   "cell_type": "markdown",
   "metadata": {},
   "source": [
    "# Rectangulos\n",
    "## Consigna\n",
    "\n",
    "En una grilla de NxM se puede formar muchos restangulos de distinto tamaño. \n",
    "Por ejemplo, se puede ver que en una grilla de 2x3 se pueden formar hasta 18 rectángulos \n",
    "\n",
    "![Ejemplo2x3](../imagenes/cuadrados.png)\n"
   ]
  },
  {
   "cell_type": "markdown",
   "metadata": {},
   "source": [
    "Encontrar la cantidad de rectángulos que entran en una grilla de 10x10."
   ]
  },
  {
   "cell_type": "markdown",
   "metadata": {},
   "source": [
    "## Desafío extra\n",
    "\n",
    "Encontrar el tamaño de grilla que permita formar la cantidad más cercana a dos millones de rectángulos. "
   ]
  },
  {
   "cell_type": "markdown",
   "metadata": {},
   "source": [
    "## Soluciónes\n",
    "\n",
    "Grilla 10x10: ```3025```\n",
    "\n",
    "2M de rectángulos: ```1```"
   ]
  },
  {
   "cell_type": "markdown",
   "metadata": {},
   "source": []
  }
 ],
 "metadata": {
  "language_info": {
   "name": "python"
  },
  "orig_nbformat": 4
 },
 "nbformat": 4,
 "nbformat_minor": 2
}
