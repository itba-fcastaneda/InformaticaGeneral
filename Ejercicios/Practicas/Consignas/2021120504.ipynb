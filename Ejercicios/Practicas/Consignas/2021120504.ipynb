{
 "cells": [
  {
   "cell_type": "markdown",
   "metadata": {},
   "source": [
    "# Tripletes Pitagoricos\n",
    "\n",
    "## Consigna\n",
    "\n",
    "Se llama un triplete pitagórico a un conjunto de tres números naturales tales que a < b < c para los cuales se da la condición que:\n",
    "\n",
    "a^2 + b^2 = c^2\n",
    "\n",
    "Por ejemplo, 3, 4 y 5 dado que:\n",
    "\n",
    "3^2 + 4^2 = 5^2\n",
    "\n",
    "Encontrar los varoles del único triplete que cumple que a+b+c=1000. "
   ]
  },
  {
   "cell_type": "markdown",
   "metadata": {},
   "source": [
    "## Respuesta"
   ]
  },
  {
   "cell_type": "markdown",
   "metadata": {},
   "source": [
    "a=200 b=375 c=425"
   ]
  }
 ],
 "metadata": {
  "language_info": {
   "name": "python"
  },
  "orig_nbformat": 4
 },
 "nbformat": 4,
 "nbformat_minor": 2
}
