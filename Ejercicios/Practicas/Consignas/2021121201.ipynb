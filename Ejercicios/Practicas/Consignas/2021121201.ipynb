{
 "cells": [
  {
   "cell_type": "markdown",
   "metadata": {},
   "source": [
    "# La diferencia de la suma de los cuadros\n"
   ]
  },
  {
   "cell_type": "markdown",
   "metadata": {},
   "source": [
    "## Consigna"
   ]
  },
  {
   "cell_type": "markdown",
   "metadata": {},
   "source": [
    "Dado un rango de numeros [1;N] se define la suma de los cuadrados como la suma de cada unos de los números en ese rango elevados al cuadrado. O sea:\n",
    "\n",
    "```1^2+2^2+...+N^2```\n",
    "\n",
    "El cuadrado de la suma de los numeros por otro lado, es:\n",
    "\n",
    "```(1+2+3+...+N)^2```\n",
    "\n",
    "La diferencia entre estos dos números es por los tanto\n",
    "\n",
    "```D = (1+2+3+...+N)^2 - (1^2+2^2+...+N^2)```\n",
    "\n",
    "Encontrar el D para N=100"
   ]
  },
  {
   "cell_type": "markdown",
   "metadata": {},
   "source": [
    "## Respuesta"
   ]
  },
  {
   "cell_type": "markdown",
   "metadata": {},
   "source": [
    "```25164150```"
   ]
  },
  {
   "cell_type": "markdown",
   "metadata": {},
   "source": []
  }
 ],
 "metadata": {
  "language_info": {
   "name": "python"
  },
  "orig_nbformat": 4
 },
 "nbformat": 4,
 "nbformat_minor": 2
}
