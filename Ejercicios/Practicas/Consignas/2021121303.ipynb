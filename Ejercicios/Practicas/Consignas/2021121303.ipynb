{
 "cells": [
  {
   "cell_type": "markdown",
   "metadata": {},
   "source": [
    "# Suma de los dígitos de una potencia"
   ]
  },
  {
   "cell_type": "markdown",
   "metadata": {},
   "source": [
    "## Consigna\n",
    "\n",
    "Dados dos números enteros positivos  a y b, a^b puede ser un número increiblemente largo, sin embargo la suma de los dígitos de esa potencia pueder extremadamente pequeña. Por ejemplo:\n",
    "\n",
    "100^100 nos da un número de 10000 dígitos pero la suma de todos esos dígitos es 1.\n",
    "\n",
    "Para todos los valores de a y b <100, encontar el máximo valor de la suma de dígitos de a^b."
   ]
  },
  {
   "cell_type": "markdown",
   "metadata": {},
   "source": [
    "## Respuesta"
   ]
  },
  {
   "cell_type": "markdown",
   "metadata": {},
   "source": [
    "```972```"
   ]
  },
  {
   "cell_type": "markdown",
   "metadata": {},
   "source": []
  }
 ],
 "metadata": {
  "language_info": {
   "name": "python"
  },
  "orig_nbformat": 4
 },
 "nbformat": 4,
 "nbformat_minor": 2
}
