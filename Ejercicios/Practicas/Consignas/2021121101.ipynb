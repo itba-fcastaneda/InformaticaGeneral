{
 "cells": [
  {
   "cell_type": "markdown",
   "metadata": {},
   "source": [
    "# El mayor palíndromo"
   ]
  },
  {
   "cell_type": "markdown",
   "metadata": {},
   "source": [
    "## Consigna"
   ]
  },
  {
   "cell_type": "markdown",
   "metadata": {},
   "source": [
    "Un número palíndromo es un número que puede ser leid de adelante para atrás y de atrás para adelante sin cambiar su valor. Ejemplo: 101 y 12321.\n",
    "\n",
    "El mayor número políndromo resultado del múltipo de dos números de dos cifras es 9009 (91*99).\n",
    "\n",
    "Encontrar el número políndromo más grande resultado de multiplicar dos número de tres cifras. "
   ]
  },
  {
   "cell_type": "markdown",
   "metadata": {},
   "source": [
    "## Respuesta"
   ]
  },
  {
   "cell_type": "markdown",
   "metadata": {},
   "source": [
    "906609"
   ]
  }
 ],
 "metadata": {
  "language_info": {
   "name": "python"
  },
  "orig_nbformat": 4
 },
 "nbformat": 4,
 "nbformat_minor": 2
}
