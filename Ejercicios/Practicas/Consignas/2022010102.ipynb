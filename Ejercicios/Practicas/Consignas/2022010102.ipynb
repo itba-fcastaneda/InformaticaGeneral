{
 "cells": [
  {
   "cell_type": "markdown",
   "metadata": {},
   "source": [
    "# Suma mínima de un camino (2 sentidos)\n",
    "## Consigna\n",
    "\n",
    "Dada una matriz de NxN compuesta por números enteros, hay múltiples formas de llegar desde la casilla superior izquierda a la casilla inferior derecha. \n",
    "\n",
    "Si los movimientos se limitaran a sólo ir hacia abajo o hacia la derecha, encontrar el camino cuya suma de todos las casillas por las que se pase, sea el menor posible.\n",
    "\n",
    "Ejemplo: Si N=3\n",
    "\n",
    "2  5  1\n",
    "1  1  8\n",
    "2  3  2\n",
    "\n",
    "El camino de menos valor sería: 2+1+1+3+2=9.\n",
    "\n",
    "Dado N=5 y la matríz:"
   ]
  },
  {
   "cell_type": "code",
   "execution_count": 3,
   "metadata": {},
   "outputs": [],
   "source": [
    "M = [[131, 673, 234, 103, 18],\n",
    " [201, 96, 342, 965, 150],\n",
    " [630, 803, 746, 422, 111],\n",
    " [537, 699, 497, 121, 956],\n",
    " [805, 732, 524, 37, 331]]"
   ]
  },
  {
   "cell_type": "markdown",
   "metadata": {},
   "source": [
    "Calcular el valor del mínimo camino."
   ]
  },
  {
   "cell_type": "markdown",
   "metadata": {},
   "source": [
    "## Respuesta"
   ]
  },
  {
   "cell_type": "markdown",
   "metadata": {},
   "source": [
    "```\n",
    "2427\n",
    "```"
   ]
  },
  {
   "cell_type": "markdown",
   "metadata": {},
   "source": []
  }
 ],
 "metadata": {
  "interpreter": {
   "hash": "31f2aee4e71d21fbe5cf8b01ff0e069b9275f58929596ceb00d14d90e3e16cd6"
  },
  "kernelspec": {
   "display_name": "Python 3.8.9 64-bit",
   "language": "python",
   "name": "python3"
  },
  "language_info": {
   "codemirror_mode": {
    "name": "ipython",
    "version": 3
   },
   "file_extension": ".py",
   "mimetype": "text/x-python",
   "name": "python",
   "nbconvert_exporter": "python",
   "pygments_lexer": "ipython3",
   "version": "3.8.9"
  },
  "orig_nbformat": 4
 },
 "nbformat": 4,
 "nbformat_minor": 2
}
