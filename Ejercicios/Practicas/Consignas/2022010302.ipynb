{
 "cells": [
  {
   "cell_type": "markdown",
   "metadata": {},
   "source": [
    "# Cadenas de los factorariales de los dígitos\n",
    "## Consigna\n",
    "\n",
    "El número 145 es conocido por poseer una propiedad interesante: la suma de los factoriales de sus dígitos da 145. O sea,\n",
    "```\n",
    "145 = 1! + 4! + 5!\n",
    "```\n",
    "Tal vez menos conocidos son otros números, como el 169, que aplicando la misma lógica a sus digitos genera el número 363601. Repitiendo la operación se puede ver obtener la siguientes secuencia:\n",
    "```\n",
    "169 -> 363601 -> 454 -> 169\n",
    "```\n",
    "Así mismo se pueden encontrar algunas cadenas más:\n",
    "```\n",
    "169 -> 363601 -> 454 -> 169\n",
    "871 -> 45361 -> 871\n",
    "872 -> 45362 -> 872\n",
    "```\n",
    "\n",
    "Comenzar con 69 produce una cadena de 5 teromnos sin repetición. La cadena más grande conocida por debajo del millón tiene 60 términos. \n",
    "\n",
    "Encontrar la cantidad de números por debajo del millon que generan una cadena de 60 términos. "
   ]
  },
  {
   "cell_type": "markdown",
   "metadata": {},
   "source": [
    "## Respuesta\n",
    "\n",
    "```402```"
   ]
  },
  {
   "cell_type": "markdown",
   "metadata": {},
   "source": []
  }
 ],
 "metadata": {
  "interpreter": {
   "hash": "31f2aee4e71d21fbe5cf8b01ff0e069b9275f58929596ceb00d14d90e3e16cd6"
  },
  "kernelspec": {
   "display_name": "Python 3.8.9 64-bit",
   "language": "python",
   "name": "python3"
  },
  "language_info": {
   "codemirror_mode": {
    "name": "ipython",
    "version": 3
   },
   "file_extension": ".py",
   "mimetype": "text/x-python",
   "name": "python",
   "nbconvert_exporter": "python",
   "pygments_lexer": "ipython3",
   "version": "3.8.9"
  },
  "orig_nbformat": 4
 },
 "nbformat": 4,
 "nbformat_minor": 2
}
