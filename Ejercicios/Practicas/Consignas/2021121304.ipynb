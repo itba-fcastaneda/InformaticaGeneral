{
 "cells": [
  {
   "cell_type": "markdown",
   "metadata": {},
   "source": [
    "# El Fibonacci de 1000 dígitos"
   ]
  },
  {
   "cell_type": "markdown",
   "metadata": {},
   "source": [
    "## Consigna"
   ]
  },
  {
   "cell_type": "markdown",
   "metadata": {},
   "source": [
    "La serie de Fibonacci se define como F(n) donde:\n",
    "\n",
    "```\n",
    "F(1) = 1\n",
    "F(2) = 1\n",
    "F(n) = F(n-1)+F(n-2)\n",
    "```\n",
    "Puede calcularse que:\n",
    "\n",
    "```\n",
    "F(1) = 1\n",
    "F(2) = 1\n",
    "F(3) = 2\n",
    "F(4) = 3\n",
    "F(5) = 5\n",
    "F(6) = 8\n",
    "F(7) = 13\n",
    "F(8) = 21\n",
    "F(9) = 34\n",
    "F(10) = 55\n",
    "F(11) = 89\n",
    "F(12) = 144\n",
    "```\n",
    "Se ve que F(12) es el primer número de la serie que tiene 3 dígitos. \n",
    "\n",
    "Encontrar el primer número de la serie que tenga 1000 dígitos."
   ]
  },
  {
   "cell_type": "markdown",
   "metadata": {},
   "source": [
    "## Respuesta"
   ]
  },
  {
   "cell_type": "markdown",
   "metadata": {},
   "source": [
    "```\n",
    "4782\n",
    "```"
   ]
  }
 ],
 "metadata": {
  "language_info": {
   "name": "python"
  },
  "orig_nbformat": 4
 },
 "nbformat": 4,
 "nbformat_minor": 2
}
