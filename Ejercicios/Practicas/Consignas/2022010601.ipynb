{
 "cells": [
  {
   "cell_type": "markdown",
   "metadata": {},
   "source": [
    "# Crackeado códigos\n",
    "## Consigna\n",
    "\n",
    "En un banco para poder loguearse en la página web se le pide al usuario que ingrese tres dígitos de un número para verificar su identidad. Por ejemplo: si el número secreto es 394274024 y se le pide el 2do, 4to y 6to dígito, el usuario ingresa 924.\n",
    "\n",
    "En la lista se encuentran varios códigos ingresados, todos válidos, pero no se sabe en qué posición estaban los dígitos. Los dígitos se solicitaron en órder, de mod que el primer dígito se encuentra antes que el segundo y estos antes que el tercero.\n",
    "\n",
    "Averigue el número más chico que cumple con todos los códsigos de la lista."
   ]
  },
  {
   "cell_type": "code",
   "execution_count": 1,
   "metadata": {},
   "outputs": [],
   "source": [
    "L = [\"319\",\n",
    "\"680\",\n",
    "\"180\",\n",
    "\"690\",\n",
    "\"129\",\n",
    "\"620\",\n",
    "\"762\",\n",
    "\"689\",\n",
    "\"762\",\n",
    "\"318\",\n",
    "\"368\",\n",
    "\"710\",\n",
    "\"720\",\n",
    "\"710\",\n",
    "\"629\",\n",
    "\"168\",\n",
    "\"160\",\n",
    "\"689\",\n",
    "\"716\",\n",
    "\"731\",\n",
    "\"736\",\n",
    "\"729\",\n",
    "\"316\",\n",
    "\"729\",\n",
    "\"729\",\n",
    "\"710\",\n",
    "\"769\",\n",
    "\"290\",\n",
    "\"719\",\n",
    "\"680\",\n",
    "\"318\",\n",
    "\"389\",\n",
    "\"162\",\n",
    "\"289\",\n",
    "\"162\",\n",
    "\"718\",\n",
    "\"729\",\n",
    "\"319\",\n",
    "\"790\",\n",
    "\"680\",\n",
    "\"890\",\n",
    "\"362\",\n",
    "\"319\",\n",
    "\"760\",\n",
    "\"316\",\n",
    "\"729\",\n",
    "\"380\",\n",
    "\"319\",\n",
    "\"728\",\n",
    "\"716\"]"
   ]
  },
  {
   "cell_type": "markdown",
   "metadata": {},
   "source": [
    "## Respuesta\n",
    "\n",
    "```73162890```"
   ]
  },
  {
   "cell_type": "markdown",
   "metadata": {},
   "source": []
  }
 ],
 "metadata": {
  "interpreter": {
   "hash": "31f2aee4e71d21fbe5cf8b01ff0e069b9275f58929596ceb00d14d90e3e16cd6"
  },
  "kernelspec": {
   "display_name": "Python 3.8.9 64-bit",
   "language": "python",
   "name": "python3"
  },
  "language_info": {
   "codemirror_mode": {
    "name": "ipython",
    "version": 3
   },
   "file_extension": ".py",
   "mimetype": "text/x-python",
   "name": "python",
   "nbconvert_exporter": "python",
   "pygments_lexer": "ipython3",
   "version": "3.9.5"
  },
  "orig_nbformat": 4
 },
 "nbformat": 4,
 "nbformat_minor": 2
}
