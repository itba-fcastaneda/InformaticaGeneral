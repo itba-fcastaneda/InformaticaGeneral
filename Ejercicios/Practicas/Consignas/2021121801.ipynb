{
 "cells": [
  {
   "cell_type": "markdown",
   "metadata": {},
   "source": [
    "# Números amistosos"
   ]
  },
  {
   "cell_type": "markdown",
   "metadata": {},
   "source": [
    "## Consigna"
   ]
  },
  {
   "cell_type": "markdown",
   "metadata": {},
   "source": [
    "Definiendo D(n) como la suma de todos los divisores de n menores a n. Si D(a)=b y D(b)=a, siendo a!=b, entonces podemos decir que a y b son números amigables.\n",
    "\n",
    "Por ejemplo, los divisores de 220 son: 1, 2, 4, 5, 10, 11, 20, 22, 44, 55 y 110. D(220)=284 y D(284)=220, por lo tanto 220 y 284 son amistosos.\n",
    "\n",
    "Calcular la sum de todos los números amistosos menores a 10000."
   ]
  },
  {
   "cell_type": "markdown",
   "metadata": {},
   "source": [
    "## Resultado "
   ]
  },
  {
   "cell_type": "markdown",
   "metadata": {},
   "source": [
    "```31626```"
   ]
  }
 ],
 "metadata": {
  "language_info": {
   "name": "python"
  },
  "orig_nbformat": 4
 },
 "nbformat": 4,
 "nbformat_minor": 2
}
