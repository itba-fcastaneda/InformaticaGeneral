{
 "cells": [
  {
   "cell_type": "markdown",
   "metadata": {},
   "source": [
    "# Números amistosos"
   ]
  },
  {
   "cell_type": "markdown",
   "metadata": {},
   "source": [
    "## Consigna"
   ]
  },
  {
   "cell_type": "markdown",
   "metadata": {},
   "source": [
    "Definiendo D(n) como la suma de todos los divisores de n menores a n. Si D(a)=b y D(b)=a, siendo a!=b, entonces podemos decir que a y b son números amigables.\n",
    "\n",
    "Por ejemplo, los divisores de 220 son: 1, 2, 4, 5, 10, 11, 20, 22, 44, 55 y 110. D(220)=284 y D(284)=220, por lo tanto 220 y 284 son amistosos.\n",
    "\n",
    "Calcular la sum de todos los números amistosos menores a 10000"
   ]
  },
  {
   "cell_type": "markdown",
   "metadata": {},
   "source": [
    "## Resolución "
   ]
  },
  {
   "cell_type": "markdown",
   "metadata": {},
   "source": [
    "Primero debemos definir una función para calcular D(n)."
   ]
  },
  {
   "cell_type": "code",
   "execution_count": 2,
   "metadata": {},
   "outputs": [],
   "source": [
    "def divisors_sum(n):\n",
    "    ## Inicializo las variables\n",
    "    piv = 1\n",
    "    sum = 0\n",
    "    while piv < n:\n",
    "        if (n%piv)==0:  \n",
    "            ## piv es divisor de n\n",
    "            sum += piv\n",
    "        piv += 1\n",
    "    \n",
    "    return sum"
   ]
  },
  {
   "cell_type": "markdown",
   "metadata": {},
   "source": [
    "Vamos a probar la función"
   ]
  },
  {
   "cell_type": "code",
   "execution_count": 4,
   "metadata": {},
   "outputs": [
    {
     "name": "stdout",
     "output_type": "stream",
     "text": [
      "220 284\n",
      "284 220\n"
     ]
    }
   ],
   "source": [
    "print(220,divisors_sum(220))\n",
    "print(284,divisors_sum(284))"
   ]
  },
  {
   "cell_type": "markdown",
   "metadata": {},
   "source": [
    "Ahora vamos a hacer un ciclo para recorrer todos los números, calcular su D(n) y verificar son amistosos. \n",
    "Dado que cuando calculemos D(220) vamos a definir 220 y 284 como amistosos, vamos a controlar que al pasar por 284, no volvamos a calcular D(284)."
   ]
  },
  {
   "cell_type": "code",
   "execution_count": 7,
   "metadata": {},
   "outputs": [],
   "source": [
    "amistosos = list() ## Acá guardo los amistosos\n",
    "N = 10000\n",
    "suma=0\n",
    "for i in range(N):\n",
    "    if i not in amistosos:\n",
    "        a = divisors_sum(i)\n",
    "        b = divisors_sum(a)\n",
    "\n",
    "        if i==b and a!=b:\n",
    "            amistosos.append(a)\n",
    "            amistosos.append(b)\n",
    "            suma+=a+b\n"
   ]
  },
  {
   "cell_type": "code",
   "execution_count": null,
   "metadata": {},
   "outputs": [],
   "source": []
  },
  {
   "cell_type": "code",
   "execution_count": 6,
   "metadata": {},
   "outputs": [
    {
     "data": {
      "text/plain": [
       "[284, 220, 1210, 1184, 2924, 2620, 5564, 5020, 6368, 6232]"
      ]
     },
     "execution_count": 6,
     "metadata": {},
     "output_type": "execute_result"
    }
   ],
   "source": [
    "amistosos"
   ]
  },
  {
   "cell_type": "code",
   "execution_count": 8,
   "metadata": {},
   "outputs": [
    {
     "data": {
      "text/plain": [
       "31626"
      ]
     },
     "execution_count": 8,
     "metadata": {},
     "output_type": "execute_result"
    }
   ],
   "source": [
    "suma"
   ]
  }
 ],
 "metadata": {
  "interpreter": {
   "hash": "31f2aee4e71d21fbe5cf8b01ff0e069b9275f58929596ceb00d14d90e3e16cd6"
  },
  "kernelspec": {
   "display_name": "Python 3.8.9 64-bit",
   "language": "python",
   "name": "python3"
  },
  "language_info": {
   "codemirror_mode": {
    "name": "ipython",
    "version": 3
   },
   "file_extension": ".py",
   "mimetype": "text/x-python",
   "name": "python",
   "nbconvert_exporter": "python",
   "pygments_lexer": "ipython3",
   "version": "3.8.9"
  },
  "orig_nbformat": 4
 },
 "nbformat": 4,
 "nbformat_minor": 2
}
