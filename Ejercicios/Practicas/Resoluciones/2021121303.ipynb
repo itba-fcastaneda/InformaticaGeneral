{
 "cells": [
  {
   "cell_type": "markdown",
   "metadata": {},
   "source": [
    "# Suma de los dígitos de una potencia"
   ]
  },
  {
   "cell_type": "markdown",
   "metadata": {},
   "source": [
    "## Consigna\n",
    "\n",
    "Dados dos números enteros positivos  a y b, a^b puede ser un número increiblemente largo, sin embargo la suma de los dígitos de esa potencia pueder extremadamente pequeña. Por ejemplo:\n",
    "\n",
    "100^100 nos da un número de 10000 dígitos pero la suma de todos esos dígitos es 1.\n",
    "\n",
    "Para todos los valores de a y b <100, encontar el máximo valor de la suma de dígitos de a^b."
   ]
  },
  {
   "cell_type": "markdown",
   "metadata": {},
   "source": [
    "## Resolución"
   ]
  },
  {
   "cell_type": "markdown",
   "metadata": {},
   "source": [
    "Este problema se trata de iterar sobre todos los posibles valores a de b, calculando la potencia y luego la suma de los dígitos de ese resultado. \n",
    "\n",
    "Vamos a hacer una función para calcular la suma de los dígitos de una función."
   ]
  },
  {
   "cell_type": "code",
   "execution_count": 2,
   "metadata": {},
   "outputs": [],
   "source": [
    "def get_digits_sum(n):\n",
    "    sum = 0\n",
    "    while n>0:\n",
    "        sum += n%10\n",
    "        n = n // 10\n",
    "    return sum"
   ]
  },
  {
   "cell_type": "markdown",
   "metadata": {},
   "source": [
    "Podemos porbarla con algunos ejemplos"
   ]
  },
  {
   "cell_type": "code",
   "execution_count": 3,
   "metadata": {},
   "outputs": [
    {
     "name": "stdout",
     "output_type": "stream",
     "text": [
      "4 4\n",
      "16 7\n",
      "934 16\n",
      "10000 1\n",
      "10001 2\n"
     ]
    }
   ],
   "source": [
    "l = [ 4 ,16, 934, 10000, 10001 ]\n",
    "for n in l:\n",
    "    print(n,get_digits_sum(n))"
   ]
  },
  {
   "cell_type": "markdown",
   "metadata": {},
   "source": [
    "Ahora sólo resta iterar entre todos los posibles valores y encontrar el máximo."
   ]
  },
  {
   "cell_type": "code",
   "execution_count": 6,
   "metadata": {},
   "outputs": [
    {
     "name": "stdout",
     "output_type": "stream",
     "text": [
      "Maximo es:  13888\n"
     ]
    }
   ],
   "source": [
    "N = 100\n",
    "max=0\n",
    "for a in range(2,N):  ## El uno lo excluyo porque 1^x da uno...\n",
    "    for b in range(1,N): \n",
    "        n = get_digits_sum(a**b)\n",
    "        if n>max:\n",
    "            max = n\n",
    "print('Maximo es: ', max)"
   ]
  },
  {
   "cell_type": "code",
   "execution_count": null,
   "metadata": {},
   "outputs": [],
   "source": []
  }
 ],
 "metadata": {
  "interpreter": {
   "hash": "31f2aee4e71d21fbe5cf8b01ff0e069b9275f58929596ceb00d14d90e3e16cd6"
  },
  "kernelspec": {
   "display_name": "Python 3.8.9 64-bit",
   "language": "python",
   "name": "python3"
  },
  "language_info": {
   "codemirror_mode": {
    "name": "ipython",
    "version": 3
   },
   "file_extension": ".py",
   "mimetype": "text/x-python",
   "name": "python",
   "nbconvert_exporter": "python",
   "pygments_lexer": "ipython3",
   "version": "3.8.9"
  },
  "orig_nbformat": 4
 },
 "nbformat": 4,
 "nbformat_minor": 2
}
