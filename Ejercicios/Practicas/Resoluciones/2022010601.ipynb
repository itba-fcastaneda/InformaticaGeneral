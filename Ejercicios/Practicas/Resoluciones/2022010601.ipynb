{
 "cells": [
  {
   "cell_type": "markdown",
   "metadata": {},
   "source": [
    "# Crackeado códigos\n",
    "## Consigna\n",
    "\n",
    "En un banco para poder loguearse en la página web se le pide al usuario que ingrese tres dígitos de un número para verificar su identidad. Por ejemplo: si el número secreto es 394274024 y se le pide el 2do, 4to y 6to dígito, el usuario ingresa 924.\n",
    "\n",
    "En la lista se encuentran varios códigos ingresados, todos válidos, pero no se sabe en qué posición estaban los dígitos. Los dígitos se solicitaron en órder, de mod que el primer dígito se encuentra antes que el segundo y estos antes que el tercero.\n",
    "\n",
    "Averigue el número más chico que cumple con todos los códsigos de la lista."
   ]
  },
  {
   "cell_type": "code",
   "execution_count": 2,
   "metadata": {},
   "outputs": [],
   "source": [
    "L = [\"319\",\n",
    "\"680\",\n",
    "\"180\",\n",
    "\"690\",\n",
    "\"129\",\n",
    "\"620\",\n",
    "\"762\",\n",
    "\"689\",\n",
    "\"762\",\n",
    "\"318\",\n",
    "\"368\",\n",
    "\"710\",\n",
    "\"720\",\n",
    "\"710\",\n",
    "\"629\",\n",
    "\"168\",\n",
    "\"160\",\n",
    "\"689\",\n",
    "\"716\",\n",
    "\"731\",\n",
    "\"736\",\n",
    "\"729\",\n",
    "\"316\",\n",
    "\"729\",\n",
    "\"729\",\n",
    "\"710\",\n",
    "\"769\",\n",
    "\"290\",\n",
    "\"719\",\n",
    "\"680\",\n",
    "\"318\",\n",
    "\"389\",\n",
    "\"162\",\n",
    "\"289\",\n",
    "\"162\",\n",
    "\"718\",\n",
    "\"729\",\n",
    "\"319\",\n",
    "\"790\",\n",
    "\"680\",\n",
    "\"890\",\n",
    "\"362\",\n",
    "\"319\",\n",
    "\"760\",\n",
    "\"316\",\n",
    "\"729\",\n",
    "\"380\",\n",
    "\"319\",\n",
    "\"728\",\n",
    "\"716\"]"
   ]
  },
  {
   "cell_type": "markdown",
   "metadata": {},
   "source": [
    "## Resolución\n",
    "\n",
    "Se puede analizar un poco los números y descubrir que el 7 está siempre al principio y el 0 simpre al final, de modo que nuestro número es lógico persarlo que comience con 7 y termine con cero.\n",
    "\n",
    "Entonces vamos a generar los número en el medio y probar si cumple o no con todos los de la lista.\n",
    "\n",
    "Vamos a escribir primero el código para verificar si los trés dígitos están dentro de un número dado."
   ]
  },
  {
   "cell_type": "code",
   "execution_count": 3,
   "metadata": {},
   "outputs": [],
   "source": [
    "def check_code ( passcode : str , n: str ):\n",
    "    i = 0\n",
    "    for s in passcode:\n",
    "        if i==len(n):\n",
    "            return True\n",
    "        if s==n[i]:\n",
    "            i += 1\n",
    "    if i==len(n):\n",
    "        return True\n",
    "    return False"
   ]
  },
  {
   "cell_type": "markdown",
   "metadata": {},
   "source": [
    "Ahora necesitamos un código que nos permita probar números e ir verificando que cumplan con todos los códigos de la lista.\n",
    "\n",
    "viendo los números que no son 7 y 0 se puede ver que hay 6 dígitos y de todas las combinaciones de estos, la menor es 123689. Ese será nuestro número inicial."
   ]
  },
  {
   "cell_type": "code",
   "execution_count": 5,
   "metadata": {},
   "outputs": [
    {
     "name": "stdout",
     "output_type": "stream",
     "text": [
      "73162890\n"
     ]
    }
   ],
   "source": [
    "i=123689\n",
    "while True:\n",
    "    pc = '7' + str(i) + '0'\n",
    "    for l in L:\n",
    "        good = check_code( pc , l )\n",
    "        if not good:\n",
    "            break\n",
    "    if good:\n",
    "        print(pc)\n",
    "        break ## El primer número será el menor, asíq ue termino\n",
    "    i += 1"
   ]
  },
  {
   "cell_type": "markdown",
   "metadata": {},
   "source": []
  }
 ],
 "metadata": {
  "interpreter": {
   "hash": "31f2aee4e71d21fbe5cf8b01ff0e069b9275f58929596ceb00d14d90e3e16cd6"
  },
  "kernelspec": {
   "display_name": "Python 3.8.9 64-bit",
   "language": "python",
   "name": "python3"
  },
  "language_info": {
   "codemirror_mode": {
    "name": "ipython",
    "version": 3
   },
   "file_extension": ".py",
   "mimetype": "text/x-python",
   "name": "python",
   "nbconvert_exporter": "python",
   "pygments_lexer": "ipython3",
   "version": "3.9.5"
  },
  "orig_nbformat": 4
 },
 "nbformat": 4,
 "nbformat_minor": 2
}
