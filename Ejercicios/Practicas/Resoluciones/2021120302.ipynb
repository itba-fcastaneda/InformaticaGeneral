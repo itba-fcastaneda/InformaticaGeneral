{
 "cells": [
  {
   "cell_type": "markdown",
   "metadata": {},
   "source": [
    "# Ejercicio"
   ]
  },
  {
   "cell_type": "markdown",
   "metadata": {},
   "source": [
    "## Consigna"
   ]
  },
  {
   "cell_type": "markdown",
   "metadata": {},
   "source": [
    "En un país hay monedas de los siguientes valores:\n",
    "* 2 pesos (200c)\n",
    "* 1 peso (100c)\n",
    "* 50 centavos \n",
    "* 20 centavos\n",
    "* 10 centavos\n",
    "* 5 centavos\n",
    "* 2 centavos\n",
    "* 1 centavo\n",
    "\n",
    "Combiando monedas, hay que ver todas las formas posibles de llegar a 2 pesos."
   ]
  },
  {
   "cell_type": "markdown",
   "metadata": {},
   "source": [
    "## Resolución"
   ]
  },
  {
   "cell_type": "markdown",
   "metadata": {},
   "source": [
    "Vamos a armar un tabla de equivalencias para saber cuánto vale cada tipo de moneda."
   ]
  },
  {
   "cell_type": "code",
   "execution_count": 1,
   "metadata": {},
   "outputs": [],
   "source": [
    "monedas = [  ## Valor de cada tipo de moneda en centavos\n",
    "    200,\n",
    "    100,\n",
    "    50,\n",
    "    20,\n",
    "    10,\n",
    "    5,\n",
    "    2,\n",
    "    1\n",
    "]\n",
    "TARGET = 200 ## Este es el valor que deseo llegar."
   ]
  },
  {
   "cell_type": "markdown",
   "metadata": {},
   "source": [
    "Ahora vamos a calcular ca cantidad máxima de monedas de un mismo tipo que puedo usar para llegar a doscientos. "
   ]
  },
  {
   "cell_type": "code",
   "execution_count": 2,
   "metadata": {},
   "outputs": [
    {
     "data": {
      "text/plain": [
       "[1.0, 2.0, 4.0, 10.0, 20.0, 40.0, 100.0, 200.0]"
      ]
     },
     "execution_count": 2,
     "metadata": {},
     "output_type": "execute_result"
    }
   ],
   "source": [
    "maximos = []\n",
    "for i in monedas:\n",
    "    maximos.append( TARGET//i ) ## Uso la división entera, Si falta completaré con el resto.\n",
    "maximos"
   ]
  },
  {
   "cell_type": "markdown",
   "metadata": {},
   "source": [
    "Para poder analizar todas las opciones vamos a usar un set() para poder almacenar las combinaciones. Además vamos a crear una lista que vamos a llamar wallet donde tengamos todas las posibles representaciones de combinación de monedas."
   ]
  },
  {
   "cell_type": "code",
   "execution_count": null,
   "metadata": {},
   "outputs": [],
   "source": [
    "def count_money( wallet:tuple ): \n",
    "    res=0\n",
    "    for i in range(len(monedas)):\n",
    "        res+= monedas[i]*wallet[i]\n",
    "\n",
    "def get_options( target:int , coin_type: int , wallet: tuple, options:set ):\n",
    "\n",
    "    if( coin_type == len(monedas)):\n",
    "        if\n",
    "\n",
    "    wallet_option = list(wallet)\n",
    "\n",
    "    for i in range(maximos[coin_type]+1):\n",
    "        money = monedas[coin_type]*i\n",
    "\n",
    "        wallet_option = "
   ]
  }
 ],
 "metadata": {
  "interpreter": {
   "hash": "31f2aee4e71d21fbe5cf8b01ff0e069b9275f58929596ceb00d14d90e3e16cd6"
  },
  "kernelspec": {
   "display_name": "Python 3.8.9 64-bit",
   "language": "python",
   "name": "python3"
  },
  "language_info": {
   "codemirror_mode": {
    "name": "ipython",
    "version": 3
   },
   "file_extension": ".py",
   "mimetype": "text/x-python",
   "name": "python",
   "nbconvert_exporter": "python",
   "pygments_lexer": "ipython3",
   "version": "3.8.9"
  },
  "orig_nbformat": 4
 },
 "nbformat": 4,
 "nbformat_minor": 2
}
