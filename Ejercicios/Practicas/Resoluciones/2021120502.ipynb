{
 "cells": [
  {
   "cell_type": "markdown",
   "metadata": {},
   "source": [
    "# Mayor factor primo"
   ]
  },
  {
   "cell_type": "markdown",
   "metadata": {},
   "source": [
    "## Consigna"
   ]
  },
  {
   "cell_type": "markdown",
   "metadata": {},
   "source": [
    "Los factores primos de un número son los números primos que son divisores de ese número. Ejemplo: Los factores primos de 13195 son 5, 7, 13 y 29.\n",
    "\n",
    "Hacer un programa para calcular el factor primo más grande del número 600851475143.\n",
    "\n",
    "Resp: 6857"
   ]
  },
  {
   "cell_type": "markdown",
   "metadata": {},
   "source": [
    "## Resolución"
   ]
  },
  {
   "cell_type": "code",
   "execution_count": 5,
   "metadata": {},
   "outputs": [
    {
     "name": "stdout",
     "output_type": "stream",
     "text": [
      "6857\n"
     ]
    }
   ],
   "source": [
    "n = 600851475143\n",
    "div = 2 ## Distintos divisores que voy probando\n",
    "max = 0 ## Acá almaceno el número primo más grande visto hasta ahora\n",
    "while n>1 :\n",
    "    if n%div == 0:\n",
    "        n = n // div\n",
    "        if div > max: ## Si este divisor es más grande, \n",
    "            max = div  ## Lo conservo\n",
    "    else:\n",
    "        div += 1 ## Sólo incremento div si no puedo seguir dividiendo por el mismo número\n",
    "print(max)\n"
   ]
  }
 ],
 "metadata": {
  "interpreter": {
   "hash": "31f2aee4e71d21fbe5cf8b01ff0e069b9275f58929596ceb00d14d90e3e16cd6"
  },
  "kernelspec": {
   "display_name": "Python 3.8.9 64-bit",
   "language": "python",
   "name": "python3"
  },
  "language_info": {
   "codemirror_mode": {
    "name": "ipython",
    "version": 3
   },
   "file_extension": ".py",
   "mimetype": "text/x-python",
   "name": "python",
   "nbconvert_exporter": "python",
   "pygments_lexer": "ipython3",
   "version": "3.8.9"
  },
  "orig_nbformat": 4
 },
 "nbformat": 4,
 "nbformat_minor": 2
}
