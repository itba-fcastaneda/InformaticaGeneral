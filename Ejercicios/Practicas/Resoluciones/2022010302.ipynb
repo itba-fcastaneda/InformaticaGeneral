{
 "cells": [
  {
   "cell_type": "markdown",
   "metadata": {},
   "source": [
    "# Cadenas de los factorariales de los dígitos\n",
    "## Consigna\n",
    "\n",
    "El número 145 es conocido por poseer una propiedad interesante: la suma de los factoriales de sus dígitos da 145. O sea,\n",
    "```\n",
    "145 = 1! + 4! + 5!\n",
    "```\n",
    "Tal vez menos conocidos son otros números, como el 169, que aplicando la misma lógica a sus digitos genera el número 363601. Repitiendo la operación se puede ver obtener la siguientes secuencia:\n",
    "```\n",
    "169 -> 363601 -> 454 -> 169\n",
    "```\n",
    "Así mismo se pueden encontrar algunas cadenas más:\n",
    "```\n",
    "69 -> 363600 -> 1454 -> 169 -> 363601 -> (1454) \n",
    "871 -> 45361 -> 871\n",
    "872 -> 45362 -> 872\n",
    "```\n",
    "\n",
    "Comenzar con 69 produce una cadena de 5 términos sin repetición. La cadena más grande conocida por debajo del millón tiene 60 términos. \n",
    "\n",
    "Encontrar la cantidad de números por debajo del millon que generan una cadena de 60 términos. "
   ]
  },
  {
   "cell_type": "markdown",
   "metadata": {},
   "source": [
    "## Resolución\n",
    "\n",
    "Primero vamos a armar una función para dado un número, calcular el siguiente en la cadena.\n",
    "\n",
    "Despues debemos armar una estructura de datos que nos permita buscar rápidamente un número pasado y saber cuántas cadenas tiene ese número. \n",
    "\n",
    "Comencemos con la función. Esta función usa la función numeral, pero para poder hacer nuestra función más performante, en vez de calcular cada vez, vamos a hacer una lista con los 10 valores posibles para los dígitos"
   ]
  },
  {
   "cell_type": "code",
   "execution_count": 32,
   "metadata": {},
   "outputs": [],
   "source": [
    "FACTORIALES = [ 1, 1, 2, 3*2, 4*3*2, 5*4*3*2, 6*5*4*3*2, 7*6*5*4*3*2, 8*7*6*5*4*3*2, 9*8*7*6*5*4*3*2 ]"
   ]
  },
  {
   "cell_type": "markdown",
   "metadata": {},
   "source": [
    "Nuestra función va a recibir esta lista en cada llamada para usarla como referencia."
   ]
  },
  {
   "cell_type": "code",
   "execution_count": 33,
   "metadata": {},
   "outputs": [],
   "source": [
    "def get_next_in_chain( fact: list , n : int )-> int :\n",
    "    sum=0\n",
    "    while n>0:\n",
    "        sum += fact[ n%10 ]\n",
    "        n = n//10\n",
    "    return sum"
   ]
  },
  {
   "cell_type": "markdown",
   "metadata": {},
   "source": [
    "Vamos a probarla con lo que sabemos de la consigna"
   ]
  },
  {
   "cell_type": "code",
   "execution_count": 34,
   "metadata": {},
   "outputs": [
    {
     "name": "stdout",
     "output_type": "stream",
     "text": [
      "145 145\n",
      "169 363601\n",
      "363600 1454\n",
      "871 45361\n"
     ]
    }
   ],
   "source": [
    "print(145,get_nex_in_chain(FACTORIALES, 145))\n",
    "print(169,get_nex_in_chain(FACTORIALES, 169))\n",
    "print(363600,get_nex_in_chain(FACTORIALES, 363600))\n",
    "print(871,get_nex_in_chain(FACTORIALES, 871))"
   ]
  },
  {
   "cell_type": "markdown",
   "metadata": {},
   "source": [
    "Ahora vamos a definir una estructura para almacenar todos los posibles valores para el primer millón de números. Una lista de enteros va a servir, donde el índice será el dígito ya analizado, y un valor int será la cantidad de terminos para llegar a una repetición."
   ]
  },
  {
   "cell_type": "code",
   "execution_count": 35,
   "metadata": {},
   "outputs": [],
   "source": [
    "def process_n( FACT: list, L: list , n : int )-> int:\n",
    "    \n",
    "    if len(L)-1<n:\n",
    "        L += [None]*( n-len(L)+1 )\n",
    "    \n",
    "    if L[n] is not None:\n",
    "        return L[n]\n",
    "    L[n]=0\n",
    "    L[n] = process_n(FACT, L , get_next_in_chain(FACT, n) ) + 1\n",
    "    return L[n]\n",
    "\n"
   ]
  },
  {
   "cell_type": "code",
   "execution_count": 36,
   "metadata": {},
   "outputs": [
    {
     "name": "stdout",
     "output_type": "stream",
     "text": [
      "402\n"
     ]
    }
   ],
   "source": [
    "LIMIT = 1000000\n",
    "TARGET = 60\n",
    "num_calc = [None]*LIMIT\n",
    "count = 0 \n",
    "for i in range(LIMIT):\n",
    "    \n",
    "    chain_len=process_n(FACTORIALES, num_calc, i)\n",
    "    if chain_len == 60:\n",
    "        count += 1\n",
    "\n",
    "print(count)"
   ]
  }
 ],
 "metadata": {
  "interpreter": {
   "hash": "31f2aee4e71d21fbe5cf8b01ff0e069b9275f58929596ceb00d14d90e3e16cd6"
  },
  "kernelspec": {
   "display_name": "Python 3.8.9 64-bit",
   "language": "python",
   "name": "python3"
  },
  "language_info": {
   "codemirror_mode": {
    "name": "ipython",
    "version": 3
   },
   "file_extension": ".py",
   "mimetype": "text/x-python",
   "name": "python",
   "nbconvert_exporter": "python",
   "pygments_lexer": "ipython3",
   "version": "3.8.9"
  },
  "orig_nbformat": 4
 },
 "nbformat": 4,
 "nbformat_minor": 2
}
