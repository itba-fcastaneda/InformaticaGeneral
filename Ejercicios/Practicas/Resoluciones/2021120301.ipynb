{
 "cells": [
  {
   "cell_type": "markdown",
   "metadata": {},
   "source": [
    "# Ejercicio"
   ]
  },
  {
   "cell_type": "markdown",
   "metadata": {},
   "source": [
    "## Consigna "
   ]
  },
  {
   "cell_type": "markdown",
   "metadata": {},
   "source": [
    "Calcular la suma de los números menores a n que sean múltiplos de 3 o 5. Ejemplo, si n=10, los números 3,5,6,9 son múltiplos de 3 o 5 y su suma es 23. \n"
   ]
  },
  {
   "cell_type": "markdown",
   "metadata": {},
   "source": [
    "## Resolución"
   ]
  },
  {
   "cell_type": "markdown",
   "metadata": {},
   "source": [
    "Para saber si un número es divisible por otro, basta con calcular el módulo de la división y verificar que sea cero. Se puede corroborar con el siguiente código"
   ]
  },
  {
   "cell_type": "code",
   "execution_count": 4,
   "metadata": {},
   "outputs": [
    {
     "name": "stdout",
     "output_type": "stream",
     "text": [
      "10%2 0\n",
      "5%2 1\n",
      "10%10 0\n",
      "10%3 1\n"
     ]
    }
   ],
   "source": [
    "print('10%2', 10%2)\n",
    "print('5%2', 5%2)\n",
    "print('10%10', 10%10)\n",
    "print('10%3', 10%3)\n"
   ]
  },
  {
   "cell_type": "markdown",
   "metadata": {},
   "source": [
    "Entonces podemos hacer un loop hasta llegar a n e ir sumando todos los número que sean divisibles por 5 o por 3."
   ]
  },
  {
   "cell_type": "code",
   "execution_count": 8,
   "metadata": {},
   "outputs": [
    {
     "name": "stdout",
     "output_type": "stream",
     "text": [
      "n: 1000 acc: 233168\n"
     ]
    }
   ],
   "source": [
    "n = 1000\n",
    "acc = 0 ## Acá acumulo la suma\n",
    "for i in range(n): ## No queremos que n está incluido \n",
    "    if(i % 3 == 0):\n",
    "        ## Divisible por 3\n",
    "        acc += i\n",
    "    elif(i % 5 == 0):\n",
    "        ## Divisible por 3\n",
    "        acc += i\n",
    "\n",
    "print('n:', n , 'acc:', acc )"
   ]
  },
  {
   "cell_type": "code",
   "execution_count": null,
   "metadata": {},
   "outputs": [],
   "source": []
  }
 ],
 "metadata": {
  "interpreter": {
   "hash": "31f2aee4e71d21fbe5cf8b01ff0e069b9275f58929596ceb00d14d90e3e16cd6"
  },
  "kernelspec": {
   "display_name": "Python 3.8.9 64-bit",
   "language": "python",
   "name": "python3"
  },
  "language_info": {
   "codemirror_mode": {
    "name": "ipython",
    "version": 3
   },
   "file_extension": ".py",
   "mimetype": "text/x-python",
   "name": "python",
   "nbconvert_exporter": "python",
   "pygments_lexer": "ipython3",
   "version": "3.8.9"
  },
  "orig_nbformat": 4
 },
 "nbformat": 4,
 "nbformat_minor": 2
}
