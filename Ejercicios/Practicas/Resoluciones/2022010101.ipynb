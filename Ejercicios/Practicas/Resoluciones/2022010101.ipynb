{
 "cells": [
  {
   "cell_type": "markdown",
   "metadata": {},
   "source": [
    "# Un número triangular altamente divisible\n",
    "## Consigna"
   ]
  },
  {
   "cell_type": "markdown",
   "metadata": {},
   "source": [
    "Una serie de números triangulares se genera sumando los números naturales del 1 al n de la serie. Por ejemplo, si n=7\n",
    "S(7)=1+2+3+4+5+6+7=28.\n",
    "\n",
    "Si ahora calculamos los divisores de los números triangulares:\n",
    "\n",
    "```\n",
    " 1: 1\n",
    " 3: 1,3\n",
    " 6: 1,2,3,6\n",
    "10: 1,2,5,10\n",
    "15: 1,3,5,15\n",
    "21: 1,3,7,21\n",
    "28: 1,2,4,7,14,28\n",
    "```\n",
    "\n",
    "se puede ver que el 28 es el primer númnero triangular en tener más de 5 divisores. \n",
    "\n",
    "Cuál es el valor del primer número triangular en tener más de N divisores?"
   ]
  },
  {
   "cell_type": "markdown",
   "metadata": {},
   "source": [
    "## Resolución"
   ]
  },
  {
   "cell_type": "markdown",
   "metadata": {},
   "source": [
    "Primero, debemos hacer una función que me permita calcular los números triangulares. Cada nuevo valor de la serie se puede escribir como:\n",
    "\n",
    "s(n) = S(n-1) + n\n",
    "\n",
    "Vamos a escribir un código de base que calcules los números triangulares."
   ]
  },
  {
   "cell_type": "code",
   "execution_count": 2,
   "metadata": {},
   "outputs": [],
   "source": [
    "S=50 ## Máximo valor de la serie a calcular"
   ]
  },
  {
   "cell_type": "code",
   "execution_count": 7,
   "metadata": {},
   "outputs": [
    {
     "name": "stdout",
     "output_type": "stream",
     "text": [
      "n=1 S(n)=1\n",
      "n=2 S(n)=3\n",
      "n=3 S(n)=6\n",
      "n=4 S(n)=10\n",
      "n=5 S(n)=15\n",
      "n=6 S(n)=21\n",
      "n=7 S(n)=28\n",
      "n=8 S(n)=36\n",
      "n=9 S(n)=45\n",
      "n=10 S(n)=55\n",
      "n=11 S(n)=66\n",
      "n=12 S(n)=78\n",
      "n=13 S(n)=91\n",
      "n=14 S(n)=105\n",
      "n=15 S(n)=120\n",
      "n=16 S(n)=136\n",
      "n=17 S(n)=153\n",
      "n=18 S(n)=171\n",
      "n=19 S(n)=190\n",
      "n=20 S(n)=210\n",
      "n=21 S(n)=231\n",
      "n=22 S(n)=253\n",
      "n=23 S(n)=276\n",
      "n=24 S(n)=300\n",
      "n=25 S(n)=325\n",
      "n=26 S(n)=351\n",
      "n=27 S(n)=378\n",
      "n=28 S(n)=406\n",
      "n=29 S(n)=435\n",
      "n=30 S(n)=465\n",
      "n=31 S(n)=496\n",
      "n=32 S(n)=528\n",
      "n=33 S(n)=561\n",
      "n=34 S(n)=595\n",
      "n=35 S(n)=630\n",
      "n=36 S(n)=666\n",
      "n=37 S(n)=703\n",
      "n=38 S(n)=741\n",
      "n=39 S(n)=780\n",
      "n=40 S(n)=820\n",
      "n=41 S(n)=861\n",
      "n=42 S(n)=903\n",
      "n=43 S(n)=946\n",
      "n=44 S(n)=990\n",
      "n=45 S(n)=1035\n",
      "n=46 S(n)=1081\n",
      "n=47 S(n)=1128\n",
      "n=48 S(n)=1176\n",
      "n=49 S(n)=1225\n",
      "n=50 S(n)=1275\n"
     ]
    }
   ],
   "source": [
    "sn = 0\n",
    "n = 1\n",
    "while n< (S+1):\n",
    "    sn = sn + n\n",
    "\n",
    "    ## Acá hago lo que necesite con sn\n",
    "    print(f'n={n} S(n)={sn}')\n",
    "\n",
    "    n+=1\n",
    "\n",
    "\n"
   ]
  },
  {
   "cell_type": "markdown",
   "metadata": {},
   "source": [
    "Ahora que ya tenemos los números de la serie, necesitamos calcular la cantidad de divisores. Vámos a hacer una función que cuante la cantidad de divisores"
   ]
  },
  {
   "cell_type": "code",
   "execution_count": 4,
   "metadata": {},
   "outputs": [],
   "source": [
    "def count_divisors( n : int ):\n",
    "    res = 0\n",
    "    for i in range(1,n+1):\n",
    "        if n%i==0:  ## si n es divisible por i\n",
    "            res += 1  ## Incremento la cantidad de divisores descubierta\n",
    "    return res"
   ]
  },
  {
   "cell_type": "markdown",
   "metadata": {},
   "source": [
    "Probemos la función para verificar que funciona bien"
   ]
  },
  {
   "cell_type": "code",
   "execution_count": 6,
   "metadata": {},
   "outputs": [
    {
     "name": "stdout",
     "output_type": "stream",
     "text": [
      "1 1\n",
      "2 2\n",
      "3 2\n",
      "4 3\n",
      "5 2\n",
      "6 4\n",
      "7 2\n",
      "8 4\n",
      "9 3\n"
     ]
    }
   ],
   "source": [
    "for i in range(1,10):\n",
    "    print(i,count_divisors(i))"
   ]
  },
  {
   "cell_type": "markdown",
   "metadata": {},
   "source": [
    "Ahora vamoa a agregarle al código anterior la función para contar los divisores de cada número de la serie y parar si ella cantidad de divisores es mayor a N"
   ]
  },
  {
   "cell_type": "code",
   "execution_count": 14,
   "metadata": {},
   "outputs": [
    {
     "name": "stdout",
     "output_type": "stream",
     "text": [
      "maxd=1\n",
      "maxd=2\n",
      "maxd=4\n",
      "maxd=6\n",
      "maxd=9\n",
      "maxd=16\n",
      "maxd=18\n",
      "maxd=20\n",
      "maxd=24\n",
      "maxd=36\n",
      "maxd=40\n",
      "maxd=48\n",
      "maxd=90\n",
      "maxd=112\n",
      "maxd=128\n",
      "S(n)=157080 maxd=128\n"
     ]
    }
   ],
   "source": [
    "N=120 ## Cantidad de divisores que quiero encontrar\n",
    "\n",
    "sn = 0  ## Valor inicial para usar en sn cuando n = 1\n",
    "n = 1 \n",
    "maxd = 0  ## acá voy a guardar la cantidad de divisores\n",
    "while maxd<N:  \n",
    "    sn = sn + n\n",
    "\n",
    "    ## Acá hago lo que necesite con sn\n",
    "    d = count_divisors(sn)\n",
    "\n",
    "    if d>maxd:\n",
    "        maxd=d\n",
    "        print(f'maxd={maxd}')\n",
    "\n",
    "    n+=1\n",
    "\n",
    "print(f'S(n)={sn} maxd={maxd}')"
   ]
  }
 ],
 "metadata": {
  "interpreter": {
   "hash": "31f2aee4e71d21fbe5cf8b01ff0e069b9275f58929596ceb00d14d90e3e16cd6"
  },
  "kernelspec": {
   "display_name": "Python 3.8.9 64-bit",
   "language": "python",
   "name": "python3"
  },
  "language_info": {
   "codemirror_mode": {
    "name": "ipython",
    "version": 3
   },
   "file_extension": ".py",
   "mimetype": "text/x-python",
   "name": "python",
   "nbconvert_exporter": "python",
   "pygments_lexer": "ipython3",
   "version": "3.8.9"
  },
  "orig_nbformat": 4
 },
 "nbformat": 4,
 "nbformat_minor": 2
}
