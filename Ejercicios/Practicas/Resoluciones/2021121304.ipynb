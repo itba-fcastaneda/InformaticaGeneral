{
 "cells": [
  {
   "cell_type": "markdown",
   "metadata": {},
   "source": [
    "# El Fibonacci de 1000 dígitos"
   ]
  },
  {
   "cell_type": "markdown",
   "metadata": {},
   "source": [
    "## Consigna"
   ]
  },
  {
   "cell_type": "markdown",
   "metadata": {},
   "source": [
    "La serie de Fibonacci se define como F(n) donde:\n",
    "\n",
    "```\n",
    "F(1) = 1\n",
    "F(2) = 1\n",
    "F(n) = F(n-1)+F(n-2)\n",
    "```\n",
    "Puede calcularse que:\n",
    "\n",
    "```\n",
    "F(1) = 1\n",
    "F(2) = 1\n",
    "F(3) = 2\n",
    "F(4) = 3\n",
    "F(5) = 5\n",
    "F(6) = 8\n",
    "F(7) = 13\n",
    "F(8) = 21\n",
    "F(9) = 34\n",
    "F(10) = 55\n",
    "F(11) = 89\n",
    "F(12) = 144\n",
    "```\n",
    "Se ve que F(12) es el primer número de la serie que tiene 3 dígitos. \n",
    "\n",
    "Encontrar el primer número de la serie que tenga 1000 dígitos."
   ]
  },
  {
   "cell_type": "markdown",
   "metadata": {},
   "source": [
    "## Resolución"
   ]
  },
  {
   "cell_type": "markdown",
   "metadata": {},
   "source": [
    "Vamos a hacer primero una función para contar la camtidad de dígitos de un número."
   ]
  },
  {
   "cell_type": "code",
   "execution_count": 1,
   "metadata": {},
   "outputs": [],
   "source": [
    "def count_digits(n):\n",
    "    sum = 0\n",
    "    while n>0:\n",
    "        sum += 1\n",
    "        n = n // 10\n",
    "    return sum"
   ]
  },
  {
   "cell_type": "markdown",
   "metadata": {},
   "source": [
    "Vamos a probalra con algunos ejemplos:"
   ]
  },
  {
   "cell_type": "code",
   "execution_count": 3,
   "metadata": {},
   "outputs": [
    {
     "name": "stdout",
     "output_type": "stream",
     "text": [
      "4 1\n",
      "16 2\n",
      "934 3\n",
      "10000 5\n",
      "100401 6\n"
     ]
    }
   ],
   "source": [
    "l = [ 4 ,16, 934, 10000, 100401 ]\n",
    "for n in l:\n",
    "    print(n,count_digits(n))"
   ]
  },
  {
   "cell_type": "markdown",
   "metadata": {},
   "source": [
    "Ahora sólo tenemos que hacer un ciclo que calcule el F(n) y luego cuante los dígitos"
   ]
  },
  {
   "cell_type": "code",
   "execution_count": 4,
   "metadata": {},
   "outputs": [
    {
     "name": "stdout",
     "output_type": "stream",
     "text": [
      "Indice: 4782\n"
     ]
    }
   ],
   "source": [
    "f1=1\n",
    "f2=1\n",
    "indice=2\n",
    "digitos = 1\n",
    "while digitos<1000:\n",
    "    fn = f1 + f2\n",
    "    indice += 1\n",
    "    digitos = count_digits( fn )\n",
    "    f1 = f2\n",
    "    f2 = fn\n",
    "    \n",
    "print(f'Indice: {indice}')"
   ]
  },
  {
   "cell_type": "code",
   "execution_count": null,
   "metadata": {},
   "outputs": [],
   "source": []
  }
 ],
 "metadata": {
  "interpreter": {
   "hash": "31f2aee4e71d21fbe5cf8b01ff0e069b9275f58929596ceb00d14d90e3e16cd6"
  },
  "kernelspec": {
   "display_name": "Python 3.8.9 64-bit",
   "language": "python",
   "name": "python3"
  },
  "language_info": {
   "codemirror_mode": {
    "name": "ipython",
    "version": 3
   },
   "file_extension": ".py",
   "mimetype": "text/x-python",
   "name": "python",
   "nbconvert_exporter": "python",
   "pygments_lexer": "ipython3",
   "version": "3.8.9"
  },
  "orig_nbformat": 4
 },
 "nbformat": 4,
 "nbformat_minor": 2
}
