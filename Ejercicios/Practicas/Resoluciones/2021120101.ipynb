{
 "cells": [
  {
   "cell_type": "markdown",
   "metadata": {},
   "source": [
    "# Calculo de cadenas del cuadrado de los dígitos"
   ]
  },
  {
   "cell_type": "markdown",
   "metadata": {},
   "source": [
    "\n",
    "## Consigna "
   ]
  },
  {
   "cell_type": "markdown",
   "metadata": {},
   "source": [
    "Se denomina una cadena de dígitos cuadrados a la secuencia de números formada por un número inicial, del cual se tomar los dígitos, se le calcula el cuadrado a cada uno de ellos y luego se suma, formando un número número en la cadena. Esta operación se repite hasta encontrar un número ya calculado.\n",
    "Ejemplo:\n",
    "\n",
    "44 -> 4^2+4^2 = 32 -> 3^2+2^2 = 13 -> 10 -> 1 -> 1 \n",
    "\n",
    "85 -> 89 -> 145 -> 42 -> 20 -> 4 -> 16 -> 37 -> 58 -> 89\n",
    "\n",
    "Lo interesante es que cada cadena que llegue a un valor de 1 o 89 termina en ciclo infinito. Y lo más interesante es que cualquier número entero positivo termina en un ciclo que pasa por 89 o 1.\n",
    "\n",
    "El objetivo del ejercicio es, dado un número N entero positivo, calcular cuántos números entre [1,N] terminan en 89."
   ]
  },
  {
   "cell_type": "markdown",
   "metadata": {},
   "source": [
    "## Resolución"
   ]
  },
  {
   "cell_type": "markdown",
   "metadata": {},
   "source": [
    "Analizando la consigna vemos los siguientes problemas a resolver:\n",
    "* Hacer una función que calcule el cuadrado de los dígitos\n",
    "* Hacer un ciclo que calcule los números y determine el siguiente en la cadena\n",
    "* Usando la propiedad que se menciona en la consigna, podes registrar qué numeros terminan en 1 y en 89, para evitar calcular de nuevo las cadenas.\n",
    "* Al alcanzar el valor N, sólo tengo que contar la cantidad de elementos en mi lista de los que terminan en 89."
   ]
  },
  {
   "cell_type": "markdown",
   "metadata": {},
   "source": [
    "Ejemplo:\n",
    "Usando la cadena que vimos antes, podemos saber que si:\n",
    "\n",
    "85 -> 89 -> 145 -> 42 -> 20 -> 4 -> 16 -> 37 -> 58 -> 89\n",
    "\n",
    "Entonces todos esos números van a terminar el 89. Si en un momento llego a un valor que ya calcule, no neceito seguir calculando si ya se en que número termina. "
   ]
  },
  {
   "cell_type": "markdown",
   "metadata": {},
   "source": [
    "Arranquemos con la función auxiliar que no dice el siguiente número. Tiene un sólo argumento y devuelve un número"
   ]
  },
  {
   "cell_type": "code",
   "execution_count": 1,
   "metadata": {},
   "outputs": [],
   "source": [
    "def suma_cuadrados_digitos( num ):\n",
    "    res = 0 ## Acá almaceno la suma de los cuadrados\n",
    "    dig = num ## Esté valor lo voy a usar para ir sacando los dígitos\n",
    "    while dig > 0:\n",
    "        res += (dig%10)**2  ## Acumulo el dígito de la unidad elevado al cuadrado\n",
    "        dig = dig//10       ## Llevo el dígito de la decena a la unidad.\n",
    "\n",
    "    return res"
   ]
  },
  {
   "cell_type": "markdown",
   "metadata": {},
   "source": [
    "Ahora probar la función para ver que funciona bien"
   ]
  },
  {
   "cell_type": "code",
   "execution_count": 4,
   "metadata": {},
   "outputs": [
    {
     "name": "stdout",
     "output_type": "stream",
     "text": [
      "32\n",
      "89\n",
      "3\n"
     ]
    }
   ],
   "source": [
    "print(suma_cuadrados_digitos(44)) ## Debe ser 32\n",
    "print(suma_cuadrados_digitos(85)) ## Debe ser 89\n",
    "print(suma_cuadrados_digitos(111)) ## Debe ser 3"
   ]
  },
  {
   "cell_type": "markdown",
   "metadata": {},
   "source": [
    "Ahora vamos a nuestra función principal. Recibe un sólo argumento, que es N. devuelve la cantidad de números que terminan en 89 de 1 a N. \n",
    "Definamos la estructura."
   ]
  },
  {
   "cell_type": "code",
   "execution_count": null,
   "metadata": {},
   "outputs": [],
   "source": [
    "def calc_cadenas_a_89 ( N ):\n",
    "    calc = 0  ## Acá voy a contar cuantos \n",
    "\n",
    "    pass # código para recorrer los números\n",
    "\n",
    "    return calc"
   ]
  },
  {
   "cell_type": "markdown",
   "metadata": {},
   "source": [
    "Vamos a definir las listas donde vamos a acumular los números ya calculados. Una lista para los que terminan en 1 y otra para los que terminan en 89."
   ]
  },
  {
   "cell_type": "code",
   "execution_count": null,
   "metadata": {},
   "outputs": [],
   "source": [
    "def calc_cadenas_a_89 ( N ):\n",
    "    term_89 = [ ] ## Lista de los que terminan en 89\n",
    "    term_1 = [ ] ## lista de los que terminan en 1\n",
    "\n",
    "    pass # código para recorrer los números\n",
    "\n",
    "    return len(term_89) ## Ya no necesito calcular cuantos llega, sólo contar todos los números en esta lista. "
   ]
  },
  {
   "cell_type": "markdown",
   "metadata": {},
   "source": [
    "Vamos a trabajar en el ciclo. NAdie mejor que el range para darme núnmeros entre dos rangos. El primero va a ser el 1, y el último va a ser N, entonces debo usar un ```range(1,N+1)```. Agregando el ciclo:"
   ]
  },
  {
   "cell_type": "code",
   "execution_count": null,
   "metadata": {},
   "outputs": [],
   "source": [
    "def calc_cadenas_a_89 ( N ):\n",
    "    term_89 = [ ] ## Lista de los que terminan en 89\n",
    "    term_1 = [ ] ## lista de los que terminan en 1\n",
    "\n",
    "    for i in range(1,N+1):\n",
    "        pass  ## Acá va a ir el código que debe controlar y calcular los números\n",
    "\n",
    "    return len(term_89) ## Ya no necesito calcular cuantos llega, sólo contar todos los números en esta lista. "
   ]
  },
  {
   "cell_type": "markdown",
   "metadata": {},
   "source": [
    "Vamos a agregar el cálculo del siguiente número y los chequeos de no esté en alguna de la lista. Esto vamos a tener que hacer para cada uno de los valores de ``ì```, de modo que vamos a necesitar otro ciclo.\n",
    "Analicémolos por separado en el siguiente código:"
   ]
  },
  {
   "cell_type": "code",
   "execution_count": 10,
   "metadata": {},
   "outputs": [
    {
     "name": "stdout",
     "output_type": "stream",
     "text": [
      "[1]\n",
      "[89]\n",
      "cadena []\n",
      "85\n",
      "[1]\n",
      "[89, 85]\n"
     ]
    }
   ],
   "source": [
    "term_89 = [ 89 ] ## Lista de los que terminan en 89\n",
    "term_1 = [ 1 ] ## lista de los que terminan en 1\n",
    "\n",
    "i=85 ## Tomemos un valor cualquier \n",
    "seguir = (i not in term_89) and (i not in term_1)\n",
    "a_calcular = i \n",
    "cadena = []\n",
    "while seguir:\n",
    "    print('cadena', cadena)\n",
    "    print('a_calcular',a_calcular)\n",
    "    cadena += [ a_calcular ]  ## Lista de números calculados desde i hasta encontrar alguno que esté en term_89 o term_1\n",
    "    a_calcular = suma_cuadrados_digitos(a_calcular) ## siguiente número en la cadena\n",
    "\n",
    "    if a_calcular in term_89 or a_calcular == 89:\n",
    "        ## Ya se que termina en 89\n",
    "        seguir = False\n",
    "        term_89 += cadena ## Agrego todos los números de la cadena a la lista \n",
    "    elif a_calcular in term_1 or a_calcular == 1:\n",
    "        seguir = False\n",
    "        term_1 += cadena ## Agrego todos los números de la cadena a la lista \n",
    "    else:\n",
    "        ## Tengo que seguir analizando el siguiente número de la cadena\n",
    "        pass\n",
    "\n",
    "print(term_1)\n",
    "print(term_89)"
   ]
  },
  {
   "cell_type": "markdown",
   "metadata": {},
   "source": [
    "Ahora podemos integrar todo en al función:"
   ]
  },
  {
   "cell_type": "code",
   "execution_count": 19,
   "metadata": {},
   "outputs": [],
   "source": [
    "def calc_cadenas_a_89 ( N ):\n",
    "    term_89 = [ ] ## Lista de los que terminan en 89\n",
    "    term_1 = [ ] ## lista de los que terminan en 1\n",
    "\n",
    "    for i in range(1,N+1):\n",
    "        seguir = (i not in term_89) and (i not in term_1)\n",
    "        a_calcular = i \n",
    "        cadena = []\n",
    "        while seguir:\n",
    "            cadena += [ a_calcular ]  ## Lista de números calculados desde i hasta encontrar alguno que esté en term_89 o term_1\n",
    "            a_calcular = suma_cuadrados_digitos(a_calcular) ## siguiente número en la cadena\n",
    "\n",
    "            if a_calcular in term_89 or a_calcular == 89:\n",
    "                ## Ya se que termina en 89\n",
    "                seguir = False\n",
    "                term_89 += cadena ## Agrego todos los números de la cadena a la lista \n",
    "            elif a_calcular in term_1 or a_calcular == 1:\n",
    "                seguir = False\n",
    "                term_1 += cadena ## Agrego todos los números de la cadena a la lista \n",
    "        \n",
    "    return len(term_89) ## Ya no necesito calcular cuantos llega, sólo contar todos los números en esta lista. "
   ]
  },
  {
   "cell_type": "code",
   "execution_count": 22,
   "metadata": {},
   "outputs": [
    {
     "name": "stdout",
     "output_type": "stream",
     "text": [
      "Para 1000 , 857 terminan en 89\n"
     ]
    }
   ],
   "source": [
    "n = 1000\n",
    "\n",
    "print(\"Para\",n,\",\",calc_cadenas_a_89(n),'terminan en 89')"
   ]
  }
 ],
 "metadata": {
  "interpreter": {
   "hash": "31f2aee4e71d21fbe5cf8b01ff0e069b9275f58929596ceb00d14d90e3e16cd6"
  },
  "kernelspec": {
   "display_name": "Python 3.8.9 64-bit",
   "language": "python",
   "name": "python3"
  },
  "language_info": {
   "codemirror_mode": {
    "name": "ipython",
    "version": 3
   },
   "file_extension": ".py",
   "mimetype": "text/x-python",
   "name": "python",
   "nbconvert_exporter": "python",
   "pygments_lexer": "ipython3",
   "version": "3.8.9"
  },
  "orig_nbformat": 4
 },
 "nbformat": 4,
 "nbformat_minor": 2
}
