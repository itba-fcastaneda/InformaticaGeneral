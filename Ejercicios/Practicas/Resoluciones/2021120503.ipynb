{
 "cells": [
  {
   "cell_type": "markdown",
   "metadata": {},
   "source": [
    "# Mayor producto de 4 dígitos"
   ]
  },
  {
   "cell_type": "markdown",
   "metadata": {},
   "source": [
    "## Consigna"
   ]
  },
  {
   "cell_type": "markdown",
   "metadata": {},
   "source": [
    "Dada una matriz M de 20x20, calcular el máximo valor de los productos de cuatro números enteros positivos adyacentes en cualquier dirección: vertical,horizontal o diagonal."
   ]
  },
  {
   "cell_type": "code",
   "execution_count": 40,
   "metadata": {},
   "outputs": [],
   "source": [
    "M=[\n",
    "    [8,2,22,97,38,15,0,40,0,75,4,5,7,78,52,12,50,77,91,8],\n",
    "    [49,49,99,40,17,81,18,57,60,87,17,40,98,43,69,48,4,56,62,0],\n",
    "    [81,49,31,73,55,79,14,29,93,71,40,67,53,88,30,3,49,13,36,65],\n",
    "    [52,70,95,23,4,60,11,42,69,24,68,56,1,32,56,71,37,2,36,91],\n",
    "    [22,31,16,71,51,67,63,89,41,92,36,54,22,40,40,28,66,33,13,80],\n",
    "    [24,47,32,60,99,3,45,2,44,75,33,53,78,36,84,20,35,17,12,50],\n",
    "    [32,98,81,28,64,23,67,10,26,38,40,67,59,54,70,66,18,38,64,70],\n",
    "    [67,26,20,68,2,62,12,20,95,63,94,39,63,8,40,91,66,49,94,21],\n",
    "    [24,55,58,5,66,73,99,26,97,17,78,78,96,83,14,88,34,89,63,72],\n",
    "    [21,36,23,9,75,0,76,44,20,45,35,14,0,61,33,97,34,31,33,95],\n",
    "    [78,17,53,28,22,75,31,67,15,94,3,80,4,62,16,14,9,53,56,92],\n",
    "    [16,39,5,42,96,35,31,47,55,58,88,24,0,17,54,24,36,29,85,57],\n",
    "    [86,56,0,48,35,71,89,7,5,44,44,37,44,60,21,58,51,54,17,58],\n",
    "    [19,80,81,68,5,94,47,69,28,73,92,13,86,52,17,77,4,89,55,40],\n",
    "    [4,52,8,83,97,35,99,16,7,97,57,32,16,26,26,79,33,27,98,66],\n",
    "    [88,36,68,87,57,62,20,72,3,46,33,67,46,55,12,32,63,93,53,69],\n",
    "    [4,42,16,73,38,25,39,11,24,94,72,18,8,46,29,32,40,62,76,36],\n",
    "    [20,69,36,41,72,30,23,88,34,62,99,69,82,67,59,85,74,4,36,16],\n",
    "    [20,73,35,29,78,31,90,1,74,31,49,71,48,86,81,16,23,57,5,54],\n",
    "    [1,70,54,71,83,51,54,69,16,92,33,48,61,43,52,1,89,19,67,48]\n",
    "    ]\n"
   ]
  },
  {
   "cell_type": "markdown",
   "metadata": {},
   "source": [
    "## Resolución\n",
    "\n",
    "Este ejercicion require encontrar el mayor número entre varios. El conjunto de número va a ser generado con tres ciclos independientes, uno que recorra la matriz en lso distintos sentidos: vertical, horizontal o diagonal.\n",
    "Arranquemos con la estructura del programa."
   ]
  },
  {
   "cell_type": "code",
   "execution_count": 41,
   "metadata": {},
   "outputs": [
    {
     "name": "stdout",
     "output_type": "stream",
     "text": [
      "Máximo valor:  0\n"
     ]
    }
   ],
   "source": [
    "max = 0 ## Mínimo valor posible del producto\n",
    "\n",
    "## Recorro las horizontales\n",
    "\n",
    "## Recorro las verticales\n",
    "\n",
    "## Recorro las diagonales \\\n",
    "\n",
    "## Recorro las diagonales /\n",
    "\n",
    "print('Máximo valor: ',max)"
   ]
  },
  {
   "cell_type": "markdown",
   "metadata": {},
   "source": [
    "Lo más importante que debemos entender en este ejercicio es cómo setear los rangos de los índice que vamos a usar para recorrer la matriz. Hay que calcular el producto de cuatro númeron, entonces debemos llegar hasta que el producto incluya al último número en la dirección que queremos calcular.\n",
    "\n",
    "Les recomiendo repasar el [uso del range](https://www.w3schools.com/python/ref_func_range.asp)\n",
    "\n",
    "Ejemplo para los horizontales: "
   ]
  },
  {
   "cell_type": "code",
   "execution_count": 42,
   "metadata": {},
   "outputs": [
    {
     "name": "stdout",
     "output_type": "stream",
     "text": [
      "Horizontal 0 0 34144\n",
      "Horizontal 0 1 162184\n",
      "Horizontal 0 2 1216380\n",
      "Horizontal 0 13 2433600\n",
      "Horizontal 0 15 4204200\n",
      "Horizontal 1 0 9507960\n",
      "Horizontal 1 11 11630640\n",
      "Horizontal 1 12 13956768\n",
      "Horizontal 2 8 17696040\n",
      "Horizontal 4 4 19159119\n",
      "Horizontal 4 6 21149604\n",
      "Horizontal 7 8 21941010\n",
      "Horizontal 7 15 27663636\n",
      "Horizontal 8 10 48477312\n",
      "48477312\n"
     ]
    }
   ],
   "source": [
    "## Recorro las horizontales\n",
    "max = 0\n",
    "for i in range(len(M)):  ## Recorro todas las líneas, una por una\n",
    "    for j in range(len(M[0])-3): ## Recorro todas las columnas desde 0 hasta la columna 16.\n",
    "        prod = M[i][j]*M[i][j+1]*M[i][j+2]*M[i][j+3] ## Producto horizontal, llegando hasta M[i][16]*M[i][17]*M[i][18]*M[i][19]  \n",
    "        if(prod>max):\n",
    "            print('Horizontal',i,j,prod)\n",
    "            max = prod ## Si el nuevo número es mayor, lo reemplazo\n",
    "print(max)"
   ]
  },
  {
   "cell_type": "markdown",
   "metadata": {},
   "source": [
    "Ahora recorramos las verticales:"
   ]
  },
  {
   "cell_type": "code",
   "execution_count": 43,
   "metadata": {},
   "outputs": [
    {
     "name": "stdout",
     "output_type": "stream",
     "text": [
      "Vertical 0 0 1651104\n",
      "Vertical 0 2 6414210\n",
      "Vertical 0 3 6514520\n",
      "Vertical 0 9 11118600\n",
      "Vertical 1 5 25723980\n",
      "Vertical 5 12 27832896\n",
      "Vertical 6 15 51267216\n"
     ]
    }
   ],
   "source": [
    "## Recorro las verticales\n",
    "max = 0\n",
    "for i in range(len(M)-3):  ## Recorro todas las líneas, desde 0 hasta la fila 16.\n",
    "    for j in range(len(M[0])): ## Recorro todas las columnas desde 0 hasta la columna 19.\n",
    "        prod = M[i][j]*M[i+1][j]*M[i+2][j]*M[i+3][j] ## Producto verical\n",
    "        if(prod>max):\n",
    "            print('Vertical',i,j,prod)\n",
    "            max = prod ## Si el nuevo número es mayor, lo reemplazo"
   ]
  },
  {
   "cell_type": "markdown",
   "metadata": {},
   "source": [
    "Ahora las diagonales \\"
   ]
  },
  {
   "cell_type": "code",
   "execution_count": 44,
   "metadata": {},
   "outputs": [
    {
     "name": "stdout",
     "output_type": "stream",
     "text": [
      "Diagonal \\ 0 0 279496\n",
      "Diagonal \\ 0 2 2904000\n",
      "Diagonal \\ 0 7 11587200\n",
      "Diagonal \\ 1 0 16194745\n",
      "Diagonal \\ 2 1 32719995\n",
      "Diagonal \\ 16 9 40304286\n",
      "40304286\n"
     ]
    }
   ],
   "source": [
    "## Recorro las diagonales \\\n",
    "max = 0\n",
    "for i in range(len(M)-3):  ## Recorro todas las líneas, desde 0 hasta la fila 16.\n",
    "    for j in range(len(M[0])-3): ## Recorro todas las columnas desde 0 hasta la columna 16.\n",
    "        prod = M[i][j]*M[i+1][j+1]*M[i+2][j+2]*M[i+3][j+3] ## Producto diagonal \\\n",
    "        if(prod>max):\n",
    "            print('Diagonal \\\\',i,j, prod)\n",
    "            max = prod ## Si el nuevo número es mayor, lo reemplazo\n",
    "print(max)"
   ]
  },
  {
   "cell_type": "markdown",
   "metadata": {},
   "source": [
    "Por último, las diagonales /. "
   ]
  },
  {
   "cell_type": "code",
   "execution_count": 45,
   "metadata": {},
   "outputs": [
    {
     "name": "stdout",
     "output_type": "stream",
     "text": [
      "Diagonal / 3 0 24468444\n",
      "Diagonal / 3 10 34826064\n",
      "Diagonal / 4 9 41076896\n",
      "Diagonal / 15 3 70600674\n"
     ]
    }
   ],
   "source": [
    "## Recorro las diagonales /\n",
    "max=0\n",
    "for i in range(3,len(M)):  ## Recorro todas las líneas, desde 3 hasta la fila 16.\n",
    "    for j in range(len(M[0])-3): ## Recorro todas las columnas desde 0 hasta la columna 16.\n",
    "        prod = M[i][j]*M[i-1][j+1]*M[i-2][j+2]*M[i-3][j+3] ## Producto diagonal /\n",
    "        if(prod>max):\n",
    "            print('Diagonal /',i,j, prod)\n",
    "            max = prod ## Si el nuevo número es mayor, lo reemplazo"
   ]
  },
  {
   "cell_type": "markdown",
   "metadata": {},
   "source": [
    "Poniendo todo junto ahora:"
   ]
  },
  {
   "cell_type": "code",
   "execution_count": 46,
   "metadata": {},
   "outputs": [
    {
     "name": "stdout",
     "output_type": "stream",
     "text": [
      "Máximo valor:  70600674\n"
     ]
    }
   ],
   "source": [
    "max = 0 ## Mínimo valor posible del producto\n",
    "\n",
    "## Recorro las horizontales\n",
    "for i in range(len(M)):  ## Recorro todas las líneas, una por una\n",
    "    for j in range(len(M)-3): ## Recorro todas las columnas desde 0 hasta la columna 16.\n",
    "        prod = M[i][j]*M[i][j+1]*M[i][j+2]*M[i][j+3] ## Producto horizontal, llegando hasta M[i][16]*M[i][17]*M[i][18]*M[i][19]  \n",
    "        if(prod>max):\n",
    "            max = prod ## Si el nuevo número es mayor, lo reemplazo\n",
    "\n",
    "## Recorro las verticales\n",
    "for i in range(len(M)-3):  ## Recorro todas las líneas, desde 0 hasta la fila 16.\n",
    "    for j in range(len(M[0])): ## Recorro todas las columnas desde 0 hasta la columna 19.\n",
    "        prod = M[i][j]*M[i+1][j]*M[i+2][j]*M[i+3][j] ## Producto verical\n",
    "        if(prod>max):\n",
    "            max = prod ## Si el nuevo número es mayor, lo reemplazo\n",
    "\n",
    "## Recorro las diagonales \\\n",
    "for i in range(len(M)-3):  ## Recorro todas las líneas, desde 0 hasta la fila 16.\n",
    "    for j in range(len(M[0])-3): ## Recorro todas las columnas desde 0 hasta la columna 19.\n",
    "        prod = M[i][j]*M[i+1][j+1]*M[i+2][j+2]*M[i+3][j+3] ## Producto verical\n",
    "        if(prod>max):\n",
    "            max = prod ## Si el nuevo número es mayor, lo reemplazo\n",
    "\n",
    "## Recorro las diagonales /\n",
    "max=0\n",
    "for i in range(3,len(M)):  ## Recorro todas las líneas, desde 3 hasta la fila 16.\n",
    "    for j in range(len(M[0])-3): ## Recorro todas las columnas desde 0 hasta la columna 16.\n",
    "        prod = M[i][j]*M[i-1][j+1]*M[i-2][j+2]*M[i-3][j+3] ## Producto diagonal /\n",
    "        if(prod>max):\n",
    "            max = prod ## Si el nuevo número es mayor, lo reemplazo\n",
    "\n",
    "print('Máximo valor: ',max)"
   ]
  },
  {
   "cell_type": "code",
   "execution_count": null,
   "metadata": {},
   "outputs": [],
   "source": []
  }
 ],
 "metadata": {
  "interpreter": {
   "hash": "31f2aee4e71d21fbe5cf8b01ff0e069b9275f58929596ceb00d14d90e3e16cd6"
  },
  "kernelspec": {
   "display_name": "Python 3.8.9 64-bit",
   "language": "python",
   "name": "python3"
  },
  "language_info": {
   "codemirror_mode": {
    "name": "ipython",
    "version": 3
   },
   "file_extension": ".py",
   "mimetype": "text/x-python",
   "name": "python",
   "nbconvert_exporter": "python",
   "pygments_lexer": "ipython3",
   "version": "3.8.9"
  },
  "orig_nbformat": 4
 },
 "nbformat": 4,
 "nbformat_minor": 2
}
