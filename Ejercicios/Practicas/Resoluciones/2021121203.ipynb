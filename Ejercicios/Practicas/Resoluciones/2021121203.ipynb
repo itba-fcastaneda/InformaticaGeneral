{
 "cells": [
  {
   "cell_type": "markdown",
   "metadata": {},
   "source": [
    "# La suma de los primos\n"
   ]
  },
  {
   "cell_type": "markdown",
   "metadata": {},
   "source": [
    "## Consigna"
   ]
  },
  {
   "cell_type": "markdown",
   "metadata": {},
   "source": [
    "Los números primos positivos ordenados de mayor son:\n",
    "\n",
    "2,3,5,7,11,13,...\n",
    "\n",
    "Dado un número N, quiero calcular la suma de todos los números primos menores a N."
   ]
  },
  {
   "cell_type": "markdown",
   "metadata": {},
   "source": [
    "## Resolución"
   ]
  },
  {
   "cell_type": "markdown",
   "metadata": {},
   "source": [
    "Dado un N"
   ]
  },
  {
   "cell_type": "code",
   "execution_count": 9,
   "metadata": {},
   "outputs": [],
   "source": [
    "N=50000"
   ]
  },
  {
   "cell_type": "code",
   "execution_count": 10,
   "metadata": {},
   "outputs": [
    {
     "name": "stdout",
     "output_type": "stream",
     "text": [
      "50000 121013308\n"
     ]
    }
   ],
   "source": [
    "first = 5 ## Primer número que voy a probar es 5, siguiente primo despues de 3\n",
    "sum = 5 ## Suma de 2+3, los dos primeros primos\n",
    "\n",
    "while first < N: \n",
    "    \n",
    "    ## chequeo si el número es primo\n",
    "    es_primo=True ## Chequeo que no sea par\n",
    "\n",
    "    for i in range(3,first,2): ## entonces analizo todos los impares para ver si alguno lo divide\n",
    "        if (first%i)==0:\n",
    "            es_primo = False\n",
    "        if not es_primo:\n",
    "            break ## Encontre un divisor, termino ya\n",
    "\n",
    "    if es_primo:\n",
    "        ## Efectivamente era primo\n",
    "        sum += first\n",
    "\n",
    "    first += 2 ## Analizo el siguiente número impar, los pares\n",
    "\n",
    "    \n",
    "\n",
    "print(N,sum)     "
   ]
  },
  {
   "cell_type": "markdown",
   "metadata": {},
   "source": [
    "PE #10"
   ]
  },
  {
   "cell_type": "code",
   "execution_count": null,
   "metadata": {},
   "outputs": [],
   "source": []
  }
 ],
 "metadata": {
  "interpreter": {
   "hash": "31f2aee4e71d21fbe5cf8b01ff0e069b9275f58929596ceb00d14d90e3e16cd6"
  },
  "kernelspec": {
   "display_name": "Python 3.8.9 64-bit",
   "language": "python",
   "name": "python3"
  },
  "language_info": {
   "codemirror_mode": {
    "name": "ipython",
    "version": 3
   },
   "file_extension": ".py",
   "mimetype": "text/x-python",
   "name": "python",
   "nbconvert_exporter": "python",
   "pygments_lexer": "ipython3",
   "version": "3.8.9"
  },
  "orig_nbformat": 4
 },
 "nbformat": 4,
 "nbformat_minor": 2
}
