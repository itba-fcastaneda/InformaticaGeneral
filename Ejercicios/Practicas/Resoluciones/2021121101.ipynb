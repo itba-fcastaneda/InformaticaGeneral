{
 "cells": [
  {
   "cell_type": "markdown",
   "metadata": {},
   "source": [
    "# El mayor palíndromo"
   ]
  },
  {
   "cell_type": "markdown",
   "metadata": {},
   "source": [
    "## Consigna"
   ]
  },
  {
   "cell_type": "markdown",
   "metadata": {},
   "source": [
    "Un número palíndromo es un número que puede ser leid de adelante para atrás y de atrás para adelante sin cambiar su valor. Ejemplo: 101 y 12321.\n",
    "\n",
    "El mayor número políndromo resultado del múltipo de dos números de dos cifras es 9009 (91*99).\n",
    "\n",
    "Encontrar el número políndromo más grande resultado de multiplicar dos número de tres cifras. "
   ]
  },
  {
   "cell_type": "markdown",
   "metadata": {},
   "source": [
    "## Resolución"
   ]
  },
  {
   "cell_type": "markdown",
   "metadata": {},
   "source": [
    "Primero debemos encontrar una forma para determinar si un número es políndromo o no, para lo cual vamos  hacer una función que lo determine.\n",
    "\n",
    "Esta función debe poder encontrar cuántas cifras tiene el número e ir comparando la primer con la última."
   ]
  },
  {
   "cell_type": "code",
   "execution_count": 5,
   "metadata": {},
   "outputs": [],
   "source": [
    "def is_palindrome( n ):\n",
    "    ## Guardo todos los dígitos en una lista\n",
    "    digitos = []\n",
    "    while(n > 0):\n",
    "        digitos += [n%10]\n",
    "        n = n //10\n",
    "    \n",
    "    ## Ahora comparo los dígitos, el primero con el último\n",
    "    iguales = True\n",
    "    for i in range(len(digitos)//2):\n",
    "        iguales = ( digitos[i] == digitos[ -i-1 ])  ## [0] es el primer elemento [-1] es el último\n",
    "        if not iguales:\n",
    "            break ## Termino con el for\n",
    "    return iguales\n",
    "    \n",
    "     "
   ]
  },
  {
   "cell_type": "markdown",
   "metadata": {},
   "source": [
    "Podemos probar la función para estar seguros que funciona."
   ]
  },
  {
   "cell_type": "code",
   "execution_count": 6,
   "metadata": {},
   "outputs": [
    {
     "name": "stdout",
     "output_type": "stream",
     "text": [
      "99 True\n",
      "87 False\n",
      "100 False\n",
      "101 True\n",
      "1001 True\n",
      "349223 False\n",
      "99899 True\n"
     ]
    }
   ],
   "source": [
    "test_set = [ 99, 87, 100, 101 , 1001, 349223, 99899 ]\n",
    "for n in test_set:\n",
    "    print( n, is_palindrome(n) )"
   ]
  },
  {
   "cell_type": "markdown",
   "metadata": {},
   "source": [
    "Ahora sólo resta hacer una función que vaya calculando de arriba para abajo los productos y nos devuelva el más grande."
   ]
  },
  {
   "cell_type": "code",
   "execution_count": 7,
   "metadata": {},
   "outputs": [],
   "source": [
    "def max_palim():\n",
    "    max = 0\n",
    "    for i in range(999,99,-1):\n",
    "        for j in range(999,99,-1):\n",
    "            if is_palindrome(i*j) and (i*j)>max :\n",
    "                max = i*j\n",
    "    return max"
   ]
  },
  {
   "cell_type": "code",
   "execution_count": null,
   "metadata": {},
   "outputs": [],
   "source": []
  }
 ],
 "metadata": {
  "interpreter": {
   "hash": "31f2aee4e71d21fbe5cf8b01ff0e069b9275f58929596ceb00d14d90e3e16cd6"
  },
  "kernelspec": {
   "display_name": "Python 3.8.9 64-bit",
   "language": "python",
   "name": "python3"
  },
  "language_info": {
   "codemirror_mode": {
    "name": "ipython",
    "version": 3
   },
   "file_extension": ".py",
   "mimetype": "text/x-python",
   "name": "python",
   "nbconvert_exporter": "python",
   "pygments_lexer": "ipython3",
   "version": "3.8.9"
  },
  "orig_nbformat": 4
 },
 "nbformat": 4,
 "nbformat_minor": 2
}
