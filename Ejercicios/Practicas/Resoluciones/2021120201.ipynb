{
 "cells": [
  {
   "cell_type": "markdown",
   "metadata": {},
   "source": [
    "# Los Domingos del siglo 20"
   ]
  },
  {
   "cell_type": "markdown",
   "metadata": {},
   "source": [
    "## Consigna"
   ]
  },
  {
   "cell_type": "markdown",
   "metadata": {},
   "source": [
    "Se debe calcular cuantos domingos hubo que fueron primero del mes en el siglo 20 considerando que:\n",
    "* Los meses de Abril, Junio, Septiembre y Noviembre tienen 30 días\n",
    "* El resto de los meses tienen 31 días\n",
    "* excepto Febrero que tiene 28 días,\n",
    "* En los años biciestos, Febrero tiene 29.\n",
    "* Los biciestos son los años divisibles por 4, \n",
    "* excepto que sean divisibles por 100 que no biciestos, \n",
    "* excepto que sean divisibles por 400, que son biciestos.\n",
    "* El 1ro de Enero de 1900 fue lunes.\n",
    "* El siglo 20 comprende entre los días el 1ro de Enero de 1901 y el 31 de Diciembre de 2000"
   ]
  },
  {
   "cell_type": "markdown",
   "metadata": {},
   "source": [
    "## Resolución"
   ]
  },
  {
   "cell_type": "markdown",
   "metadata": {},
   "source": [
    "Más allá de que existen cientos de librerías que manejan a la perfección las fechas, el objetivo del ejercicio es que puedan desarrollas las lógicas necesarias para calcular fechas.\n",
    "\n",
    "Vamos a pensar algunas funciones que podrían ser útiles:"
   ]
  },
  {
   "cell_type": "markdown",
   "metadata": {},
   "source": [
    "### Funcion para saber la cantidad de días en un año\n",
    "\n",
    "El objetivo es saber cuantos días tiene un año cualquiera."
   ]
  },
  {
   "cell_type": "code",
   "execution_count": 4,
   "metadata": {},
   "outputs": [],
   "source": [
    "def days_per_year( year ):\n",
    "    \n",
    "    days = 365  ## Caso más probable\n",
    "    if year % 4 == 0:               ## Divisible por 4\n",
    "        if year % 100 == 0:         ## No divisible por 100\n",
    "            if year % 400 == 0:     ## Divisible por 400\n",
    "                days += 1\n",
    "        else:\n",
    "            days += 1\n",
    "\n",
    "    return days"
   ]
  },
  {
   "cell_type": "markdown",
   "metadata": {},
   "source": [
    "Vamos a probar la función"
   ]
  },
  {
   "cell_type": "code",
   "execution_count": 9,
   "metadata": {},
   "outputs": [
    {
     "name": "stdout",
     "output_type": "stream",
     "text": [
      "1900 365\n",
      "1904 366\n",
      "1905 365\n",
      "2000 366\n"
     ]
    }
   ],
   "source": [
    "year = 1900\n",
    "print( year , days_per_year(year) )\n",
    "year = 1904\n",
    "print( year , days_per_year(year) )\n",
    "year = 1905\n",
    "print( year , days_per_year(year) )\n",
    "year = 2000\n",
    "print( year , days_per_year(year) )"
   ]
  },
  {
   "cell_type": "markdown",
   "metadata": {},
   "source": [
    "Podemos saber que 365 dividido 7 nos da 52, la cantidad de semanas en un año, y el resto es de 1 día. Si no me creen podemos verificarlo con el siguiente código:"
   ]
  },
  {
   "cell_type": "code",
   "execution_count": 13,
   "metadata": {},
   "outputs": [
    {
     "name": "stdout",
     "output_type": "stream",
     "text": [
      "365//7 52\n",
      "365%52 1\n"
     ]
    }
   ],
   "source": [
    "print('365//7',365//7)\n",
    "print('365%52',365%52)"
   ]
  },
  {
   "cell_type": "markdown",
   "metadata": {},
   "source": [
    "Y en los biciestos.."
   ]
  },
  {
   "cell_type": "code",
   "execution_count": 15,
   "metadata": {},
   "outputs": [
    {
     "name": "stdout",
     "output_type": "stream",
     "text": [
      "366//7 52\n",
      "366%52 2\n"
     ]
    }
   ],
   "source": [
    "print('366//7',366//7)\n",
    "print('366%52',366%52)"
   ]
  },
  {
   "cell_type": "markdown",
   "metadata": {},
   "source": [
    "O sea que todos los años podemos ver que si el primero fue por ejemplo lunes, al año que viene va a ser martes (52 semanas más un día). Pero si es biciesto será miércoles (52 semanas más dos días).\n",
    "\n",
    "Entonces con esta información podemos hacer un ciclo para calcular el primer día de cada año, sabiendo que el 1/1/1900 fue lunes.\n",
    "\n",
    "Vamos a representar los días de la semana como domingo = 0, lunes= 1, ... y sábado = 6."
   ]
  },
  {
   "cell_type": "markdown",
   "metadata": {},
   "source": [
    "### Función para saber el primer día de un año mayor a 1900"
   ]
  },
  {
   "cell_type": "code",
   "execution_count": null,
   "metadata": {},
   "outputs": [],
   "source": [
    "year = 1900\n",
    "day_of_week = 1 ## Lunes según la consigna\n",
    "while year < 2001:\n",
    "    if( days_per_year(year) == 365 ):\n",
    "        day_of_week = (day_of_week+1)%7 ## Uso el módulo para que si era sábado (6) al sumarle 1 vuelva a 0\n",
    "    else:\n",
    "        day_of_week = (day_of_week+2)%7 ## Uso el módulo para que si era sábado (6) al sumarle 1 vuelva a 0\n",
    "    year += 1\n",
    "\n",
    "    print('year', year, 'day_of_week', day_of_week )\n"
   ]
  },
  {
   "cell_type": "markdown",
   "metadata": {},
   "source": [
    "Ahora podemos agregar una lista constante que me diga la cantidad de días que tiene un més tomando febrero como 28 y ajustandolo si es biciesto."
   ]
  },
  {
   "cell_type": "code",
   "execution_count": 17,
   "metadata": {},
   "outputs": [],
   "source": [
    "month_days = [\n",
    "    31, # Enero\n",
    "    28, # Febrero \n",
    "    31, # Marzo\n",
    "    30, # Abril\n",
    "    31, # Mayo\n",
    "    30, # Junio\n",
    "    31, # Julio\n",
    "    31, # Agosto\n",
    "    30, # Septiembre\n",
    "    31, # Octubre\n",
    "    30, # Noviembre\n",
    "    31  # Diciembre\n",
    "]"
   ]
  },
  {
   "cell_type": "markdown",
   "metadata": {},
   "source": [
    "Con esa lista y el ciclo anterior, vamos a analizar el primer día de cada mes. Dado que voy mes por mes, ya no necesito saber el primer día de cada año. "
   ]
  },
  {
   "cell_type": "code",
   "execution_count": null,
   "metadata": {},
   "outputs": [],
   "source": [
    "month_days = [\n",
    "    31, # Enero\n",
    "    28, # Febrero \n",
    "    31, # Marzo\n",
    "    30, # Abril\n",
    "    31, # Mayo\n",
    "    30, # Junio\n",
    "    31, # Julio\n",
    "    31, # Agosto\n",
    "    30, # Septiembre\n",
    "    31, # Octubre\n",
    "    30, # Noviembre\n",
    "    31  # Diciembre\n",
    "]\n",
    "\n",
    "year = 1900\n",
    "day_of_week = 1 ## Lunes según la consigna\n",
    "while year < 2001:\n",
    "\n",
    "    dpy = days_per_year(year)\n",
    "\n",
    "    ## Calculo los días para ese año\n",
    "    for month in range(12):\n",
    "        print('year', year, 'month', month+1 , 'day_of_week ', day_of_week ) ## Al mes le sumo uno para que coincida con el nro del mes calendario\n",
    "\n",
    "        if dpy == 366 and month == 2:\n",
    "            day_of_week = (day_of_week+month_days[month]+1) % 7\n",
    "        else: \n",
    "            day_of_week = (day_of_week+month_days[month]) % 7\n",
    "\n",
    "    year += 1\n"
   ]
  },
  {
   "cell_type": "markdown",
   "metadata": {},
   "source": [
    "Pueden verificar que funciona chequeando el en el 2000 las fechas coincidan."
   ]
  },
  {
   "cell_type": "markdown",
   "metadata": {},
   "source": [
    "Por último le vamos a agregar un condicionar para contar la cantidad de meses donde el domingo sea el primero de mes."
   ]
  },
  {
   "cell_type": "code",
   "execution_count": 27,
   "metadata": {},
   "outputs": [
    {
     "name": "stdout",
     "output_type": "stream",
     "text": [
      "year 1901 month 9 day_of_week 0\n",
      "year 1901 month 12 day_of_week 0\n",
      "year 1902 month 6 day_of_week 0\n",
      "year 1903 month 2 day_of_week 0\n",
      "year 1903 month 3 day_of_week 0\n",
      "year 1903 month 11 day_of_week 0\n",
      "year 1904 month 5 day_of_week 0\n",
      "year 1905 month 1 day_of_week 0\n",
      "year 1905 month 10 day_of_week 0\n",
      "year 1906 month 4 day_of_week 0\n",
      "year 1906 month 7 day_of_week 0\n",
      "year 1907 month 9 day_of_week 0\n",
      "year 1907 month 12 day_of_week 0\n",
      "year 1908 month 11 day_of_week 0\n",
      "year 1909 month 8 day_of_week 0\n",
      "year 1910 month 5 day_of_week 0\n",
      "year 1911 month 1 day_of_week 0\n",
      "year 1911 month 10 day_of_week 0\n",
      "year 1912 month 9 day_of_week 0\n",
      "year 1912 month 12 day_of_week 0\n",
      "year 1913 month 6 day_of_week 0\n",
      "year 1914 month 2 day_of_week 0\n",
      "year 1914 month 3 day_of_week 0\n",
      "year 1914 month 11 day_of_week 0\n",
      "year 1915 month 8 day_of_week 0\n",
      "year 1916 month 10 day_of_week 0\n",
      "year 1917 month 4 day_of_week 0\n",
      "year 1917 month 7 day_of_week 0\n",
      "year 1918 month 9 day_of_week 0\n",
      "year 1918 month 12 day_of_week 0\n",
      "year 1919 month 6 day_of_week 0\n",
      "year 1920 month 2 day_of_week 0\n",
      "year 1920 month 3 day_of_week 0\n",
      "year 1920 month 8 day_of_week 0\n",
      "year 1921 month 5 day_of_week 0\n",
      "year 1922 month 1 day_of_week 0\n",
      "year 1922 month 10 day_of_week 0\n",
      "year 1923 month 4 day_of_week 0\n",
      "year 1923 month 7 day_of_week 0\n",
      "year 1924 month 6 day_of_week 0\n",
      "year 1925 month 2 day_of_week 0\n",
      "year 1925 month 3 day_of_week 0\n",
      "year 1925 month 11 day_of_week 0\n",
      "year 1926 month 8 day_of_week 0\n",
      "year 1927 month 5 day_of_week 0\n",
      "year 1928 month 1 day_of_week 0\n",
      "year 1928 month 4 day_of_week 0\n",
      "year 1928 month 7 day_of_week 0\n",
      "year 1929 month 9 day_of_week 0\n",
      "year 1929 month 12 day_of_week 0\n",
      "year 1930 month 6 day_of_week 0\n",
      "year 1931 month 2 day_of_week 0\n",
      "year 1931 month 3 day_of_week 0\n",
      "year 1931 month 11 day_of_week 0\n",
      "year 1932 month 5 day_of_week 0\n",
      "year 1933 month 1 day_of_week 0\n",
      "year 1933 month 10 day_of_week 0\n",
      "year 1934 month 4 day_of_week 0\n",
      "year 1934 month 7 day_of_week 0\n",
      "year 1935 month 9 day_of_week 0\n",
      "year 1935 month 12 day_of_week 0\n",
      "year 1936 month 11 day_of_week 0\n",
      "year 1937 month 8 day_of_week 0\n",
      "year 1938 month 5 day_of_week 0\n",
      "year 1939 month 1 day_of_week 0\n",
      "year 1939 month 10 day_of_week 0\n",
      "year 1940 month 9 day_of_week 0\n",
      "year 1940 month 12 day_of_week 0\n",
      "year 1941 month 6 day_of_week 0\n",
      "year 1942 month 2 day_of_week 0\n",
      "year 1942 month 3 day_of_week 0\n",
      "year 1942 month 11 day_of_week 0\n",
      "year 1943 month 8 day_of_week 0\n",
      "year 1944 month 10 day_of_week 0\n",
      "year 1945 month 4 day_of_week 0\n",
      "year 1945 month 7 day_of_week 0\n",
      "year 1946 month 9 day_of_week 0\n",
      "year 1946 month 12 day_of_week 0\n",
      "year 1947 month 6 day_of_week 0\n",
      "year 1948 month 2 day_of_week 0\n",
      "year 1948 month 3 day_of_week 0\n",
      "year 1948 month 8 day_of_week 0\n",
      "year 1949 month 5 day_of_week 0\n",
      "year 1950 month 1 day_of_week 0\n",
      "year 1950 month 10 day_of_week 0\n",
      "year 1951 month 4 day_of_week 0\n",
      "year 1951 month 7 day_of_week 0\n",
      "year 1952 month 6 day_of_week 0\n",
      "year 1953 month 2 day_of_week 0\n",
      "year 1953 month 3 day_of_week 0\n",
      "year 1953 month 11 day_of_week 0\n",
      "year 1954 month 8 day_of_week 0\n",
      "year 1955 month 5 day_of_week 0\n",
      "year 1956 month 1 day_of_week 0\n",
      "year 1956 month 4 day_of_week 0\n",
      "year 1956 month 7 day_of_week 0\n",
      "year 1957 month 9 day_of_week 0\n",
      "year 1957 month 12 day_of_week 0\n",
      "year 1958 month 6 day_of_week 0\n",
      "year 1959 month 2 day_of_week 0\n",
      "year 1959 month 3 day_of_week 0\n",
      "year 1959 month 11 day_of_week 0\n",
      "year 1960 month 5 day_of_week 0\n",
      "year 1961 month 1 day_of_week 0\n",
      "year 1961 month 10 day_of_week 0\n",
      "year 1962 month 4 day_of_week 0\n",
      "year 1962 month 7 day_of_week 0\n",
      "year 1963 month 9 day_of_week 0\n",
      "year 1963 month 12 day_of_week 0\n",
      "year 1964 month 11 day_of_week 0\n",
      "year 1965 month 8 day_of_week 0\n",
      "year 1966 month 5 day_of_week 0\n",
      "year 1967 month 1 day_of_week 0\n",
      "year 1967 month 10 day_of_week 0\n",
      "year 1968 month 9 day_of_week 0\n",
      "year 1968 month 12 day_of_week 0\n",
      "year 1969 month 6 day_of_week 0\n",
      "year 1970 month 2 day_of_week 0\n",
      "year 1970 month 3 day_of_week 0\n",
      "year 1970 month 11 day_of_week 0\n",
      "year 1971 month 8 day_of_week 0\n",
      "year 1972 month 10 day_of_week 0\n",
      "year 1973 month 4 day_of_week 0\n",
      "year 1973 month 7 day_of_week 0\n",
      "year 1974 month 9 day_of_week 0\n",
      "year 1974 month 12 day_of_week 0\n",
      "year 1975 month 6 day_of_week 0\n",
      "year 1976 month 2 day_of_week 0\n",
      "year 1976 month 3 day_of_week 0\n",
      "year 1976 month 8 day_of_week 0\n",
      "year 1977 month 5 day_of_week 0\n",
      "year 1978 month 1 day_of_week 0\n",
      "year 1978 month 10 day_of_week 0\n",
      "year 1979 month 4 day_of_week 0\n",
      "year 1979 month 7 day_of_week 0\n",
      "year 1980 month 6 day_of_week 0\n",
      "year 1981 month 2 day_of_week 0\n",
      "year 1981 month 3 day_of_week 0\n",
      "year 1981 month 11 day_of_week 0\n",
      "year 1982 month 8 day_of_week 0\n",
      "year 1983 month 5 day_of_week 0\n",
      "year 1984 month 1 day_of_week 0\n",
      "year 1984 month 4 day_of_week 0\n",
      "year 1984 month 7 day_of_week 0\n",
      "year 1985 month 9 day_of_week 0\n",
      "year 1985 month 12 day_of_week 0\n",
      "year 1986 month 6 day_of_week 0\n",
      "year 1987 month 2 day_of_week 0\n",
      "year 1987 month 3 day_of_week 0\n",
      "year 1987 month 11 day_of_week 0\n",
      "year 1988 month 5 day_of_week 0\n",
      "year 1989 month 1 day_of_week 0\n",
      "year 1989 month 10 day_of_week 0\n",
      "year 1990 month 4 day_of_week 0\n",
      "year 1990 month 7 day_of_week 0\n",
      "year 1991 month 9 day_of_week 0\n",
      "year 1991 month 12 day_of_week 0\n",
      "year 1992 month 11 day_of_week 0\n",
      "year 1993 month 8 day_of_week 0\n",
      "year 1994 month 5 day_of_week 0\n",
      "year 1995 month 1 day_of_week 0\n",
      "year 1995 month 10 day_of_week 0\n",
      "year 1996 month 9 day_of_week 0\n",
      "year 1996 month 12 day_of_week 0\n",
      "year 1997 month 6 day_of_week 0\n",
      "year 1998 month 2 day_of_week 0\n",
      "year 1998 month 3 day_of_week 0\n",
      "year 1998 month 11 day_of_week 0\n",
      "year 1999 month 8 day_of_week 0\n",
      "year 2000 month 10 day_of_week 0\n",
      "Cantidad de Domingos 1ro en el siglo 20: 170\n"
     ]
    }
   ],
   "source": [
    "month_days = [\n",
    "    31, # Enero\n",
    "    28, # Febrero \n",
    "    31, # Marzo\n",
    "    30, # Abril\n",
    "    31, # Mayo\n",
    "    30, # Junio\n",
    "    31, # Julio\n",
    "    31, # Agosto\n",
    "    30, # Septiembre\n",
    "    31, # Octubre\n",
    "    30, # Noviembre\n",
    "    31  # Diciembre\n",
    "]\n",
    "\n",
    "year = 1900\n",
    "day_of_week = 1 ## Lunes según la consigna\n",
    "\n",
    "sun_1st = 0 ## Mi contador de domingo 1ro\n",
    "\n",
    "while year < 2001:\n",
    "\n",
    "    dpy = days_per_year(year)\n",
    "\n",
    "    ## Calculo los días para ese año\n",
    "    for month in range(12):\n",
    "        if day_of_week == 0 and year >= 1901 : ## No me interesan los del año 1900 que son del siglo anterior\n",
    "            print('year', year, 'month', month+1 , 'day_of_week', day_of_week ) ## Al mes le sumo uno para que coincida con el nro del mes calendario\n",
    "            sun_1st += 1\n",
    "\n",
    "        if dpy == 366 and month == 2:\n",
    "            day_of_week = (day_of_week+month_days[month]+1) % 7\n",
    "        else: \n",
    "            day_of_week = (day_of_week+month_days[month]) % 7\n",
    "\n",
    "    year += 1\n",
    "\n",
    "print('Cantidad de Domingos 1ro en el siglo 20:', sun_1st )\n"
   ]
  },
  {
   "cell_type": "code",
   "execution_count": null,
   "metadata": {},
   "outputs": [],
   "source": []
  }
 ],
 "metadata": {
  "interpreter": {
   "hash": "31f2aee4e71d21fbe5cf8b01ff0e069b9275f58929596ceb00d14d90e3e16cd6"
  },
  "kernelspec": {
   "display_name": "Python 3.8.9 64-bit",
   "language": "python",
   "name": "python3"
  },
  "language_info": {
   "codemirror_mode": {
    "name": "ipython",
    "version": 3
   },
   "file_extension": ".py",
   "mimetype": "text/x-python",
   "name": "python",
   "nbconvert_exporter": "python",
   "pygments_lexer": "ipython3",
   "version": "3.8.9"
  },
  "orig_nbformat": 4
 },
 "nbformat": 4,
 "nbformat_minor": 2
}
