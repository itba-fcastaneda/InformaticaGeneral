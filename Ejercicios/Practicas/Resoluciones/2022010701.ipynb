{
 "cells": [
  {
   "cell_type": "markdown",
   "metadata": {},
   "source": [
    "# Ternas de primos potenciados\n",
    "## Consigna\n",
    "\n",
    "El 28 es el menor número que se puede expresar como ```a^2+b^3+c^4``` siendo a,b y c números primos.\n",
    "\n",
    "```28 = 2^2+2^3+2^4\n",
    "33 = 3^2+2^3+2^4\n",
    "49 = 5^2+2^3+2^4\n",
    "47 = 2^2+3^3+2^4\n",
    "```\n",
    "\n",
    "Contar todos los números menores de 50 millones que pueden ser expresados de este modo. \n",
    "\n",
    "*TIP: Hacer uso de la claúsula **break** para reducir la cantidad de iteraciones innecesarias.*"
   ]
  },
  {
   "cell_type": "markdown",
   "metadata": {},
   "source": [
    "## Resolución\n",
    "\n",
    "Para comenzar con este problema, debemos conocer los número primos. Pero la pregunta es cuantos números priomos necesitamos. \n",
    "\n",
    "Tomemos el término a^2. Si calculamos la raiz cuadrada de 50M entonces ese será el número primo más grande que deberemos calcular, ya que cualquier otro ya el número final sería más grande que nuestro límite.\n",
    "\n",
    "Comencemos con definir el límite y calcular su raiz."
   ]
  },
  {
   "cell_type": "code",
   "execution_count": 1,
   "metadata": {},
   "outputs": [
    {
     "data": {
      "text/plain": [
       "7071.067811865475"
      ]
     },
     "execution_count": 1,
     "metadata": {},
     "output_type": "execute_result"
    }
   ],
   "source": [
    "LIMIT=50000000\n",
    "LIMIT**(1/2)"
   ]
  },
  {
   "cell_type": "markdown",
   "metadata": {},
   "source": [
    "Ahora sabemos que cualquier número primo mayor a 7071 sobrepasa a LIMIT. Vamos a calcular entonces todos los números primos menores o iguales a 7071"
   ]
  },
  {
   "cell_type": "code",
   "execution_count": 2,
   "metadata": {},
   "outputs": [],
   "source": [
    "def is_prime( n ):\n",
    "    d = 2\n",
    "    while d<n:\n",
    "        if n%d==0: return False\n",
    "        d+=1\n",
    "    return True "
   ]
  },
  {
   "cell_type": "code",
   "execution_count": 3,
   "metadata": {},
   "outputs": [],
   "source": [
    "primes = list()\n",
    "n=2\n",
    "while n < 7072:\n",
    "    if is_prime(n):\n",
    "        primes += [n] \n",
    "    n += 1"
   ]
  },
  {
   "cell_type": "markdown",
   "metadata": {},
   "source": [
    "Verificamos los primeros primos de la lista:"
   ]
  },
  {
   "cell_type": "code",
   "execution_count": 5,
   "metadata": {},
   "outputs": [
    {
     "data": {
      "text/plain": [
       "[2, 3, 5, 7, 11, 13, 17, 19, 23, 29]"
      ]
     },
     "execution_count": 5,
     "metadata": {},
     "output_type": "execute_result"
    }
   ],
   "source": [
    "primes[0:10]"
   ]
  },
  {
   "cell_type": "markdown",
   "metadata": {},
   "source": [
    "Ahora sólo nos queda iterar sobre estas posibilidades y encontrar todos los números resultantes. Para guardar los resultados, vamos a usar un set, que nos elimina los repetidos.\n",
    "\n",
    "Dado que vamos a ir probando llos números de menor a mayor, si el ciclo ya vemos que superamos el LIMIT entonces ya no tiene sentido seguir probando, así que vamos a usar el **break** para salir de ese ciclo y acortar los tiempos de búsqueda.\n",
    "\n",
    "Al final sólo contaremos la cantidad de elementos en el set."
   ]
  },
  {
   "cell_type": "code",
   "execution_count": 7,
   "metadata": {},
   "outputs": [
    {
     "name": "stdout",
     "output_type": "stream",
     "text": [
      "Cantidad de números menores a 50000000 : 1097343\n"
     ]
    }
   ],
   "source": [
    "nums = set()\n",
    "for i in range(len(primes)):\n",
    "    for j in range(len(primes)):\n",
    "        if(primes[i]**2 + primes[j]**3)>= LIMIT: break ## Continuo con el siguiente i\n",
    "        for k in range(len(primes)):\n",
    "            n = primes[i]**2 + primes[j]**3 + primes[k]**4\n",
    "            if n < LIMIT:\n",
    "                nums.add(n)\n",
    "            else:\n",
    "                break ## Continuo con el siguiente j\n",
    "print('Cantidad de números menores a',LIMIT,':',len(nums))"
   ]
  }
 ],
 "metadata": {
  "interpreter": {
   "hash": "31f2aee4e71d21fbe5cf8b01ff0e069b9275f58929596ceb00d14d90e3e16cd6"
  },
  "kernelspec": {
   "display_name": "Python 3.8.9 64-bit",
   "language": "python",
   "name": "python3"
  },
  "language_info": {
   "codemirror_mode": {
    "name": "ipython",
    "version": 3
   },
   "file_extension": ".py",
   "mimetype": "text/x-python",
   "name": "python",
   "nbconvert_exporter": "python",
   "pygments_lexer": "ipython3",
   "version": "3.9.5"
  },
  "orig_nbformat": 4
 },
 "nbformat": 4,
 "nbformat_minor": 2
}
