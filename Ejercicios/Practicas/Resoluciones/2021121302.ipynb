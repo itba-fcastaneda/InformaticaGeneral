{
 "cells": [
  {
   "cell_type": "markdown",
   "metadata": {},
   "source": [
    "# Suma de diagonales espiraladas\n"
   ]
  },
  {
   "cell_type": "markdown",
   "metadata": {},
   "source": [
    "## Consigna"
   ]
  },
  {
   "cell_type": "markdown",
   "metadata": {},
   "source": [
    "Contruir una matriz de NxN siendo N un número impar. La matriz debe estar completa con una secuencia de números: 1,2,3,4,5,6,...NxN con la particularidad de el 1 debe arrncar en el centro de la matriz y en forma espiralada ir completando hasta llenarla.\n",
    "\n",
    "Un ejemplo: si N=3 se espera obtener\n",
    " \n",
    "7 8 9\n",
    "6 1 2\n",
    "5 4 3\n",
    "\n",
    "Si N=5 se espera:\n",
    "\n",
    "21 22 23 24 25\n",
    "20 7  8  9  10\n",
    "19 6  1  2  11\n",
    "18 5  4  3  12\n",
    "17 16 15 14 13\n",
    "\n",
    "Una vez obtenida la matriz se debe calcular el valor la suma de todos los números que se encuentran en la diagonal de la matriz (el 1 del centro se debe contar una sóla vez). \n",
    "\n",
    "N=3 -> 25\n",
    "n=5 -> 101"
   ]
  },
  {
   "cell_type": "markdown",
   "metadata": {},
   "source": [
    "## Desafío extra\n",
    "\n",
    "Dado el tamaño de la matriz, devolver la suma de las diagonales sin completar la matriz. "
   ]
  },
  {
   "cell_type": "markdown",
   "metadata": {},
   "source": [
    "## Resolución"
   ]
  },
  {
   "cell_type": "code",
   "execution_count": 1,
   "metadata": {},
   "outputs": [],
   "source": [
    "import pprint"
   ]
  },
  {
   "cell_type": "code",
   "execution_count": 14,
   "metadata": {},
   "outputs": [],
   "source": [
    "N = 1001 ## Debe ser impar"
   ]
  },
  {
   "cell_type": "markdown",
   "metadata": {},
   "source": [
    "Dado que sabemos el tamaño final de la matriz, podemos arrancar creando una matriz vacía."
   ]
  },
  {
   "cell_type": "code",
   "execution_count": 15,
   "metadata": {},
   "outputs": [],
   "source": [
    "def init_matrix(n):\n",
    "    M = [None]*n\n",
    "    for i in range(n):\n",
    "        M[i] = [None]*n\n",
    "\n",
    "    return M"
   ]
  },
  {
   "cell_type": "markdown",
   "metadata": {},
   "source": [
    "Dado que rellenar cada vuelta es algo similar, vamos ahacer una función que nos ayude. \n",
    "Esta función va a recibir la matriz, y el tamaño de la vuelta que debe completar (1, 3 ,5, etc )"
   ]
  },
  {
   "cell_type": "code",
   "execution_count": 16,
   "metadata": {},
   "outputs": [],
   "source": [
    "def fill_cycle( \n",
    "    M , ## The matrix\n",
    "    r   ## Distancia del centro de la vuelta\n",
    "    ):\n",
    "\n",
    "    ## Calculo en centro de la matriz basado en el tamaño\n",
    "    centro = len(M)//2  # Como por la consigna se que es impar, le sumo 1\n",
    "\n",
    "    if(r==0): ## caso especial, sólo ponemos un uno\n",
    "        M[centro][centro] = 1\n",
    "        return\n",
    "    \n",
    "    ## Calculo el número inicial basado en el radio\n",
    "    valor = ((r-1)*2+1)**2 + 1 \n",
    "\n",
    "    ## Completo la columna izq\n",
    "    for i in range( centro-r+1, centro+r  ):\n",
    "        M[i][centro+r] = valor\n",
    "        valor += 1\n",
    "\n",
    "    ## Completo la última fila de esa vuelta\n",
    "    for i in range(centro+r,centro-r-1,-1):\n",
    "        M[centro+r][i] = valor\n",
    "        valor += 1\n",
    "\n",
    "    ## Completo la columna der\n",
    "    for i in range( centro+r-1, centro-r , -1 ):\n",
    "        M[i][centro-r] = valor\n",
    "        valor += 1\n",
    "    \n",
    "    ## Completo la primer fila de esa vuelta\n",
    "    for i in range(centro-r,centro+r+1):\n",
    "        M[centro-r][i] = valor\n",
    "        valor += 1\n",
    "    \n",
    "    return"
   ]
  },
  {
   "cell_type": "markdown",
   "metadata": {},
   "source": [
    "Vamos ha hacer una función ahora para recorrer todos los posibles radios de la matriz."
   ]
  },
  {
   "cell_type": "code",
   "execution_count": 17,
   "metadata": {},
   "outputs": [],
   "source": [
    "def fill_matrix(M):\n",
    "    for i in range(len(M)//2+1):\n",
    "        fill_cycle(M, i)  "
   ]
  },
  {
   "cell_type": "markdown",
   "metadata": {},
   "source": [
    "Probemos todo ahora:"
   ]
  },
  {
   "cell_type": "code",
   "execution_count": 19,
   "metadata": {},
   "outputs": [],
   "source": [
    "M = init_matrix(N)\n",
    "fill_matrix(M)\n",
    "\n",
    "#pprint.pprint(M)"
   ]
  },
  {
   "cell_type": "markdown",
   "metadata": {},
   "source": [
    "Ya que tenemos esto, podemos calcular ahora la suma de los valores en las diagonales:"
   ]
  },
  {
   "cell_type": "code",
   "execution_count": 20,
   "metadata": {},
   "outputs": [],
   "source": [
    "def add_diagonals(M):\n",
    "    lenM = len(M)-1\n",
    "    acum = 0\n",
    "    for i in range(lenM+1): ## +1 para compensar el -1 que le hice antes\n",
    "        acum += M[i][i] + M[i][lenM-i]\n",
    "\n",
    "    centro = len(M)//2\n",
    "    acum -= M[centro][centro] ## En el for sumé dos veces M[centro][centro], así que le resto uno\n",
    "    return acum"
   ]
  },
  {
   "cell_type": "code",
   "execution_count": 21,
   "metadata": {},
   "outputs": [
    {
     "name": "stdout",
     "output_type": "stream",
     "text": [
      "N=1001 Suma diag: 669171001\n"
     ]
    }
   ],
   "source": [
    "print(f'N={N} Suma diag: {add_diagonals(M)}')"
   ]
  },
  {
   "cell_type": "code",
   "execution_count": null,
   "metadata": {},
   "outputs": [],
   "source": []
  }
 ],
 "metadata": {
  "interpreter": {
   "hash": "31f2aee4e71d21fbe5cf8b01ff0e069b9275f58929596ceb00d14d90e3e16cd6"
  },
  "kernelspec": {
   "display_name": "Python 3.8.9 64-bit",
   "language": "python",
   "name": "python3"
  },
  "language_info": {
   "codemirror_mode": {
    "name": "ipython",
    "version": 3
   },
   "file_extension": ".py",
   "mimetype": "text/x-python",
   "name": "python",
   "nbconvert_exporter": "python",
   "pygments_lexer": "ipython3",
   "version": "3.8.9"
  },
  "orig_nbformat": 4
 },
 "nbformat": 4,
 "nbformat_minor": 2
}
