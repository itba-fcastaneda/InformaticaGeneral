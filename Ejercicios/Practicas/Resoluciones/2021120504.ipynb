{
 "cells": [
  {
   "cell_type": "markdown",
   "metadata": {},
   "source": [
    "# Tripletes Pitagoricos\n",
    "\n",
    "## Consigna\n",
    "\n",
    "Se llama un triplete pitagórico a un conjunto de tres números naturales tales que a < b < c para los cuales se da la condición que:\n",
    "\n",
    "a^2 + b^2 = c^2\n",
    "\n",
    "Por ejemplo, 3, 4 y 5 dado que:\n",
    "\n",
    "3^2 + 4^2 = 5^2\n",
    "\n",
    "Encontrar los varoles del único triplete que cumple que a+b+c=1000. "
   ]
  },
  {
   "cell_type": "markdown",
   "metadata": {},
   "source": [
    "## Resolución"
   ]
  },
  {
   "cell_type": "markdown",
   "metadata": {},
   "source": [
    "Para resolver este problema vamos a hacer un ciclo por cada variable y vamos a ir probando valores. Cada vez que a+b+c sea mayor de 1000, vamos a terminar el ciclo y vamos a seguir con el siguiente valor. \n",
    "\n",
    "Va a ser una buena manera de ver como funciona la cláusula break dentro de los ciclos. \n",
    "\n",
    "Revisemos los valores máximos y mínimos que podría tomar a. 1 es el menor según la cosigna y 333 debería ser el mayor, ya que dado que a < b < c, entonces si a=333, b es 334 como mínimo y c es 335, lo que sumado da más de 1000.\n",
    "\n",
    "b lo vamos a calcular desde el valor de a+1 para poder cumplir con a < b, y el máximo será 499. Si fuera 500, C sería 501 como mínimo y todo sumaría más de 1000."
   ]
  },
  {
   "cell_type": "code",
   "execution_count": null,
   "metadata": {},
   "outputs": [],
   "source": [
    "## Inicializamos los tres valores más chicos de a,b,c\n",
    "#a=1\n",
    "#b=2\n",
    "#c=3\n",
    "\n",
    "for a in range(1,334): ## 333 es el valor máximo que llegará a\n",
    "    for b in range(a+1,500):\n",
    "        for c in range(b+1, 998): ## 997 es el valor más grande que podría tomar c\n",
    "            pass ## Resto del código irá acá"
   ]
  },
  {
   "cell_type": "markdown",
   "metadata": {},
   "source": [
    "Ahora que tenemos planteado la estructura, sólo falta evaluar las condiciones que deben cumplir los tripletes:\n",
    "\n",
    "a^2 + b^2 = c^2\n",
    "\n",
    "a + b + c = 1000\n",
    "\n",
    "Agregemos esas condiciones:"
   ]
  },
  {
   "cell_type": "code",
   "execution_count": 2,
   "metadata": {},
   "outputs": [
    {
     "name": "stdout",
     "output_type": "stream",
     "text": [
      "a=200 b=375 c=425\n"
     ]
    }
   ],
   "source": [
    "parar = False\n",
    "for a in range(1,334): ## 333 es el valor máximo que llegará a\n",
    "    for b in range(a+1,500):\n",
    "        for c in range(b+1, 998): ## 997 es el valor más grande que podría tomar c\n",
    "            \n",
    "            if (a+b+c)> 1000:\n",
    "                break  ## ME pasé y el resto de los valores de c no sirve. Tarmino el for c\n",
    "\n",
    "            if a**2+b**2 == c**2 and a+b+c==1000: ## Condiciones del problema\n",
    "                parar = True    # Encontre lo que buscaba\n",
    "                break\n",
    "        \n",
    "        if parar:\n",
    "            break\n",
    "    if parar:\n",
    "        break\n",
    "print(f'a={a} b={b} c={c}')"
   ]
  },
  {
   "cell_type": "code",
   "execution_count": 3,
   "metadata": {},
   "outputs": [
    {
     "data": {
      "text/plain": [
       "31875000"
      ]
     },
     "execution_count": 3,
     "metadata": {},
     "output_type": "execute_result"
    }
   ],
   "source": [
    "a*b*c\n"
   ]
  },
  {
   "cell_type": "code",
   "execution_count": null,
   "metadata": {},
   "outputs": [],
   "source": []
  }
 ],
 "metadata": {
  "interpreter": {
   "hash": "31f2aee4e71d21fbe5cf8b01ff0e069b9275f58929596ceb00d14d90e3e16cd6"
  },
  "kernelspec": {
   "display_name": "Python 3.8.9 64-bit",
   "language": "python",
   "name": "python3"
  },
  "language_info": {
   "codemirror_mode": {
    "name": "ipython",
    "version": 3
   },
   "file_extension": ".py",
   "mimetype": "text/x-python",
   "name": "python",
   "nbconvert_exporter": "python",
   "pygments_lexer": "ipython3",
   "version": "3.8.9"
  },
  "orig_nbformat": 4
 },
 "nbformat": 4,
 "nbformat_minor": 2
}
