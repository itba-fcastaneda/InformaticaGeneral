{
 "cells": [
  {
   "cell_type": "markdown",
   "metadata": {},
   "source": [
    "# El producto más grande"
   ]
  },
  {
   "cell_type": "markdown",
   "metadata": {},
   "source": [
    "## Consigna"
   ]
  },
  {
   "cell_type": "markdown",
   "metadata": {},
   "source": [
    "Dado un número de 1000 dígitos, representado por una lista de strings de dígitos, calcular el valor del producto más grande obtenido de multiplicar 13 dígitos consecutivos."
   ]
  },
  {
   "cell_type": "code",
   "execution_count": 1,
   "metadata": {},
   "outputs": [],
   "source": [
    "L = [ '73167176531330624919225119674426574742355349194934',\n",
    "'96983520312774506326239578318016984801869478851843',\n",
    "'85861560789112949495459501737958331952853208805511',\n",
    "'12540698747158523863050715693290963295227443043557',\n",
    "'66896648950445244523161731856403098711121722383113',\n",
    "'62229893423380308135336276614282806444486645238749',\n",
    "'30358907296290491560440772390713810515859307960866',\n",
    "'70172427121883998797908792274921901699720888093776',\n",
    "'65727333001053367881220235421809751254540594752243',\n",
    "'52584907711670556013604839586446706324415722155397',\n",
    "'53697817977846174064955149290862569321978468622482',\n",
    "'83972241375657056057490261407972968652414535100474',\n",
    "'82166370484403199890008895243450658541227588666881',\n",
    "'16427171479924442928230863465674813919123162824586',\n",
    "'17866458359124566529476545682848912883142607690042',\n",
    "'24219022671055626321111109370544217506941658960408',\n",
    "'07198403850962455444362981230987879927244284909188',\n",
    "'84580156166097919133875499200524063689912560717606',\n",
    "'05886116467109405077541002256983155200055935729725',\n",
    "'71636269561882670428252483600823257530420752963450']"
   ]
  },
  {
   "cell_type": "markdown",
   "metadata": {},
   "source": [
    "## Resolución"
   ]
  },
  {
   "cell_type": "markdown",
   "metadata": {},
   "source": [
    "Primero vamos a hacer una función para multiplicar los n primeros números en una lista. En nuestro caso vamos a usar n=13"
   ]
  },
  {
   "cell_type": "code",
   "execution_count": 2,
   "metadata": {},
   "outputs": [],
   "source": [
    "def multi_n_numbers( \n",
    "                    L , ## Lista de números\n",
    "                    n ## Candidad de dígitos que tengo que multiplicar\n",
    "                    ):\n",
    "    res = 1\n",
    "\n",
    "    last = n\n",
    "    if n>len(L):\n",
    "        last = len(L)\n",
    "\n",
    "    for i in range(last):\n",
    "        res *= L[i]\n",
    "    return res"
   ]
  },
  {
   "cell_type": "markdown",
   "metadata": {},
   "source": [
    "Ahora vamos a ir procesando todas las líneas del la lista dada, y por cada caracter convertirlo en int y agregarlo al principio de la lista.\n",
    "\n",
    "Después calculamos el producto, con nuestra función y por último usamos el una variable max para almacenar el valor más grande. "
   ]
  },
  {
   "cell_type": "code",
   "execution_count": 4,
   "metadata": {},
   "outputs": [
    {
     "name": "stdout",
     "output_type": "stream",
     "text": [
      "Max: 23514624000\n"
     ]
    }
   ],
   "source": [
    "N = 13\n",
    "digits = []\n",
    "max = 0\n",
    "for line in L:\n",
    "    for c in line:\n",
    "        digit = int(c)\n",
    "        digits = [digit] + digits\n",
    "        prod = multi_n_numbers(digits,N)\n",
    "        if prod > max:\n",
    "            max = prod\n",
    "\n",
    "print(f'Max:',max)\n"
   ]
  }
 ],
 "metadata": {
  "interpreter": {
   "hash": "31f2aee4e71d21fbe5cf8b01ff0e069b9275f58929596ceb00d14d90e3e16cd6"
  },
  "kernelspec": {
   "display_name": "Python 3.8.9 64-bit",
   "language": "python",
   "name": "python3"
  },
  "language_info": {
   "codemirror_mode": {
    "name": "ipython",
    "version": 3
   },
   "file_extension": ".py",
   "mimetype": "text/x-python",
   "name": "python",
   "nbconvert_exporter": "python",
   "pygments_lexer": "ipython3",
   "version": "3.8.9"
  },
  "orig_nbformat": 4
 },
 "nbformat": 4,
 "nbformat_minor": 2
}
