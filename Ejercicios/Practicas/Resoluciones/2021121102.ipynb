{
 "cells": [
  {
   "cell_type": "markdown",
   "metadata": {},
   "source": [
    "# El mayor palíndromo"
   ]
  },
  {
   "cell_type": "markdown",
   "metadata": {},
   "source": [
    "## Consigna"
   ]
  },
  {
   "cell_type": "markdown",
   "metadata": {},
   "source": [
    "El número 2520 es el menor número que es divisible por todos los números del 1 al 10. Encontrar el menor número entero positivo que sea divisible por todos los números del 1 al 20."
   ]
  },
  {
   "cell_type": "markdown",
   "metadata": {},
   "source": [
    "## Resolución"
   ]
  },
  {
   "cell_type": "markdown",
   "metadata": {},
   "source": [
    "Si un número es divisible por 20 entonces debe ser divisible por 5, 2, de la misma maner que si es divisible por 15 debe serlo por 3 y por 5, de modo que en vez porbar todos los número, me basta con probar sólo alguno.\n",
    "```\n",
    "20: 10, 5 ,2\n",
    "19: 19\n",
    "18: 9, 6, 3, 2\n",
    "17: 17\n",
    "16: 8 , 4, 2\n",
    "15: 5 , 3\n",
    "14: 7, 2\n",
    "13: 13\n",
    "12: 6, 3 , 2\n",
    "11: 11\n",
    "```\n",
    "El resto de los número están implicitos en los anteriores. Con esto vamos a hacer una función para saber si un número es divisible por los números del 1 al 20"
   ]
  },
  {
   "cell_type": "code",
   "execution_count": 3,
   "metadata": {},
   "outputs": [],
   "source": [
    "def is_divisible( n ):\n",
    "    ## n debe ser mayor a 20 o no será divisible.\n",
    "    result = (n>20) ## Inicializo result como True/False en base al resultado de n>20\n",
    "    i = 11\n",
    "    while result and i <= 20:\n",
    "        result = n%i == 0\n",
    "        i += 1\n",
    "    return result"
   ]
  },
  {
   "cell_type": "markdown",
   "metadata": {},
   "source": [
    "Vamos a probalo:\n"
   ]
  },
  {
   "cell_type": "code",
   "execution_count": 4,
   "metadata": {},
   "outputs": [
    {
     "name": "stdout",
     "output_type": "stream",
     "text": [
      "21 False\n",
      "34 False\n",
      "670442572800 True\n"
     ]
    }
   ],
   "source": [
    "l = [ 21, 34, 11*12*13*14*15*16*17*18*19*20 ]\n",
    "for n in l:\n",
    "    print(n,is_divisible(n))"
   ]
  },
  {
   "cell_type": "markdown",
   "metadata": {},
   "source": [
    "Vamos ahora a hacer un ciclo y calcular todos los números hasta encontrar el que cumpla esa condición:"
   ]
  },
  {
   "cell_type": "code",
   "execution_count": 6,
   "metadata": {},
   "outputs": [
    {
     "name": "stdout",
     "output_type": "stream",
     "text": [
      "Resultado: 232792560\n"
     ]
    }
   ],
   "source": [
    "for n in range(40,670442572800+1,2): ## Desde 40, el número divisible por 20 siguiente,\n",
    "                                     ## 670442572800+1 es un número que comle las condiciones, no se si el menor\n",
    "                                     ## de a dos en dos, por que se que tiene que ser par seguro\n",
    "    if is_divisible(n):\n",
    "        break ## El primero va a ser el menor\n",
    "\n",
    "print('Resultado:', n)\n"
   ]
  },
  {
   "cell_type": "markdown",
   "metadata": {},
   "source": [
    "Para resolver el desafío extra, vamos a encar el problema como un poco más de análisis.\n",
    "\n",
    "Si un número M es divisible por otro, N, entonces todos los factores primos de N deben ser factores primos de M. Por lo tanto, si encuentro la combinanciónde todos los factores primos de los divisores y los multiplico entre si, voy a tener el número más chico divisible por todos divisores. \n",
    "\n",
    "Para arrancar hago una función que me diga todos los factores primos de un número. "
   ]
  },
  {
   "cell_type": "code",
   "execution_count": 59,
   "metadata": {},
   "outputs": [],
   "source": [
    "N=100 ## Nuestra N genérico"
   ]
  },
  {
   "cell_type": "code",
   "execution_count": 60,
   "metadata": {},
   "outputs": [],
   "source": [
    "def get_prime_factor(n):\n",
    "    res = list()\n",
    "    div = 2 \n",
    "    while n > 1:\n",
    "        if(n%div==0):\n",
    "            res.append(div)\n",
    "            n = n//div\n",
    "        else:\n",
    "            div += 1\n",
    "    return res"
   ]
  },
  {
   "cell_type": "markdown",
   "metadata": {},
   "source": [
    "Se puede ver como funciona la función con los siguientes ejemplos:"
   ]
  },
  {
   "cell_type": "code",
   "execution_count": 61,
   "metadata": {},
   "outputs": [
    {
     "name": "stdout",
     "output_type": "stream",
     "text": [
      "4 [2, 2]\n",
      "8 [2, 2, 2]\n",
      "11 [11]\n",
      "35 [5, 7]\n",
      "175 [5, 5, 7]\n",
      "238 [2, 7, 17]\n"
     ]
    }
   ],
   "source": [
    "l =[ 4,8,11,35,175,238 ]\n",
    "for n in l:\n",
    "    print(n,get_prime_factor(n))"
   ]
  },
  {
   "cell_type": "markdown",
   "metadata": {},
   "source": [
    "Del ejemplo anterior es importante notar que 4 tiene dos factores primos [2,2] y 8 tiene [2,2,2], entonces podemos ver que 12 es divisoble por 4 por que la lista de fatores primos de 12 [2,2,3] contiene a los factores primos de 4 pero no de 8, sin embargo, todos los números divisibles por 8 son divisibles por 4, ya que 8 contiene los factores primos de 4 y por lo tanto si alguien tiene los de 8 también tendrá los de 4."
   ]
  },
  {
   "cell_type": "markdown",
   "metadata": {},
   "source": [
    "Vamos a hacer una función para integrar dos lista, agregando a la primer lo que falta para contener a la segunda. Vamos a sumir que ambas listas van a estar ordenadas de menor a mayor."
   ]
  },
  {
   "cell_type": "code",
   "execution_count": 62,
   "metadata": {},
   "outputs": [],
   "source": [
    "def merge_in_list( orig , to_merge  ):\n",
    "    print(f'orig {orig} to_merge {to_merge}')\n",
    "    io = 0\n",
    "    im = 0\n",
    "    res = []\n",
    "    while io<len(orig) and im<len(to_merge): ## Recorro la dos listas en paralelo\n",
    "        if( orig[io] == to_merge[im] ): ## Si ambas tiene el mismo contenido avanzo en las dos. \n",
    "            res += [orig[io]]\n",
    "            io += 1\n",
    "            im += 1\n",
    "        else:\n",
    "            if( orig[io] < to_merge[im] ): ## Si la lista original tiene contenido menor, copio sólo ese contenido\n",
    "                res += [orig[io]]\n",
    "                io += 1\n",
    "            else:\n",
    "                ## orig[io] > to_merge[im]\n",
    "                res += [to_merge[im]] ## Si la nueva lista tiene contenido menor, avanzo sólo en ese contenido\n",
    "                im += 1\n",
    "                \n",
    "    ## Si queda algo en la lista original, lo copio hasta uqe se acabe.\n",
    "    while io<len(orig):\n",
    "        res += [orig[io]]\n",
    "        io += 1\n",
    "\n",
    "    ## Lo que me queda en la lista to_merge es más grande y no estaba en orig, así que lagrego al final\n",
    "    while im<len(to_merge):\n",
    "        res += [to_merge[im]]\n",
    "        im += 1\n",
    "    return res"
   ]
  },
  {
   "cell_type": "markdown",
   "metadata": {},
   "source": [
    "Ahora puedo calcular todos los factores primos de todos los números divisibles y armar una lista unificada con todos los factores primos necesarios."
   ]
  },
  {
   "cell_type": "code",
   "execution_count": 63,
   "metadata": {},
   "outputs": [
    {
     "name": "stdout",
     "output_type": "stream",
     "text": [
      "orig [] to_merge [2]\n",
      "orig [2] to_merge [3]\n",
      "orig [2, 3] to_merge [2, 2]\n",
      "orig [2, 2, 3] to_merge [5]\n",
      "orig [2, 2, 3, 5] to_merge [2, 3]\n",
      "orig [2, 2, 3, 5] to_merge [7]\n",
      "orig [2, 2, 3, 5, 7] to_merge [2, 2, 2]\n",
      "orig [2, 2, 2, 3, 5, 7] to_merge [3, 3]\n",
      "orig [2, 2, 2, 3, 3, 5, 7] to_merge [2, 5]\n",
      "orig [2, 2, 2, 3, 3, 5, 7] to_merge [11]\n",
      "orig [2, 2, 2, 3, 3, 5, 7, 11] to_merge [2, 2, 3]\n",
      "orig [2, 2, 2, 3, 3, 5, 7, 11] to_merge [13]\n",
      "orig [2, 2, 2, 3, 3, 5, 7, 11, 13] to_merge [2, 7]\n",
      "orig [2, 2, 2, 3, 3, 5, 7, 11, 13] to_merge [3, 5]\n",
      "orig [2, 2, 2, 3, 3, 5, 7, 11, 13] to_merge [2, 2, 2, 2]\n",
      "orig [2, 2, 2, 2, 3, 3, 5, 7, 11, 13] to_merge [17]\n",
      "orig [2, 2, 2, 2, 3, 3, 5, 7, 11, 13, 17] to_merge [2, 3, 3]\n",
      "orig [2, 2, 2, 2, 3, 3, 5, 7, 11, 13, 17] to_merge [19]\n",
      "orig [2, 2, 2, 2, 3, 3, 5, 7, 11, 13, 17, 19] to_merge [2, 2, 5]\n",
      "orig [2, 2, 2, 2, 3, 3, 5, 7, 11, 13, 17, 19] to_merge [3, 7]\n",
      "orig [2, 2, 2, 2, 3, 3, 5, 7, 11, 13, 17, 19] to_merge [2, 11]\n",
      "orig [2, 2, 2, 2, 3, 3, 5, 7, 11, 13, 17, 19] to_merge [23]\n",
      "orig [2, 2, 2, 2, 3, 3, 5, 7, 11, 13, 17, 19, 23] to_merge [2, 2, 2, 3]\n",
      "orig [2, 2, 2, 2, 3, 3, 5, 7, 11, 13, 17, 19, 23] to_merge [5, 5]\n",
      "orig [2, 2, 2, 2, 3, 3, 5, 5, 7, 11, 13, 17, 19, 23] to_merge [2, 13]\n",
      "orig [2, 2, 2, 2, 3, 3, 5, 5, 7, 11, 13, 17, 19, 23] to_merge [3, 3, 3]\n",
      "orig [2, 2, 2, 2, 3, 3, 3, 5, 5, 7, 11, 13, 17, 19, 23] to_merge [2, 2, 7]\n",
      "orig [2, 2, 2, 2, 3, 3, 3, 5, 5, 7, 11, 13, 17, 19, 23] to_merge [29]\n",
      "orig [2, 2, 2, 2, 3, 3, 3, 5, 5, 7, 11, 13, 17, 19, 23, 29] to_merge [2, 3, 5]\n",
      "orig [2, 2, 2, 2, 3, 3, 3, 5, 5, 7, 11, 13, 17, 19, 23, 29] to_merge [31]\n",
      "orig [2, 2, 2, 2, 3, 3, 3, 5, 5, 7, 11, 13, 17, 19, 23, 29, 31] to_merge [2, 2, 2, 2, 2]\n",
      "orig [2, 2, 2, 2, 2, 3, 3, 3, 5, 5, 7, 11, 13, 17, 19, 23, 29, 31] to_merge [3, 11]\n",
      "orig [2, 2, 2, 2, 2, 3, 3, 3, 5, 5, 7, 11, 13, 17, 19, 23, 29, 31] to_merge [2, 17]\n",
      "orig [2, 2, 2, 2, 2, 3, 3, 3, 5, 5, 7, 11, 13, 17, 19, 23, 29, 31] to_merge [5, 7]\n",
      "orig [2, 2, 2, 2, 2, 3, 3, 3, 5, 5, 7, 11, 13, 17, 19, 23, 29, 31] to_merge [2, 2, 3, 3]\n",
      "orig [2, 2, 2, 2, 2, 3, 3, 3, 5, 5, 7, 11, 13, 17, 19, 23, 29, 31] to_merge [37]\n",
      "orig [2, 2, 2, 2, 2, 3, 3, 3, 5, 5, 7, 11, 13, 17, 19, 23, 29, 31, 37] to_merge [2, 19]\n",
      "orig [2, 2, 2, 2, 2, 3, 3, 3, 5, 5, 7, 11, 13, 17, 19, 23, 29, 31, 37] to_merge [3, 13]\n",
      "orig [2, 2, 2, 2, 2, 3, 3, 3, 5, 5, 7, 11, 13, 17, 19, 23, 29, 31, 37] to_merge [2, 2, 2, 5]\n",
      "orig [2, 2, 2, 2, 2, 3, 3, 3, 5, 5, 7, 11, 13, 17, 19, 23, 29, 31, 37] to_merge [41]\n",
      "orig [2, 2, 2, 2, 2, 3, 3, 3, 5, 5, 7, 11, 13, 17, 19, 23, 29, 31, 37, 41] to_merge [2, 3, 7]\n",
      "orig [2, 2, 2, 2, 2, 3, 3, 3, 5, 5, 7, 11, 13, 17, 19, 23, 29, 31, 37, 41] to_merge [43]\n",
      "orig [2, 2, 2, 2, 2, 3, 3, 3, 5, 5, 7, 11, 13, 17, 19, 23, 29, 31, 37, 41, 43] to_merge [2, 2, 11]\n",
      "orig [2, 2, 2, 2, 2, 3, 3, 3, 5, 5, 7, 11, 13, 17, 19, 23, 29, 31, 37, 41, 43] to_merge [3, 3, 5]\n",
      "orig [2, 2, 2, 2, 2, 3, 3, 3, 5, 5, 7, 11, 13, 17, 19, 23, 29, 31, 37, 41, 43] to_merge [2, 23]\n",
      "orig [2, 2, 2, 2, 2, 3, 3, 3, 5, 5, 7, 11, 13, 17, 19, 23, 29, 31, 37, 41, 43] to_merge [47]\n",
      "orig [2, 2, 2, 2, 2, 3, 3, 3, 5, 5, 7, 11, 13, 17, 19, 23, 29, 31, 37, 41, 43, 47] to_merge [2, 2, 2, 2, 3]\n",
      "orig [2, 2, 2, 2, 2, 3, 3, 3, 5, 5, 7, 11, 13, 17, 19, 23, 29, 31, 37, 41, 43, 47] to_merge [7, 7]\n",
      "orig [2, 2, 2, 2, 2, 3, 3, 3, 5, 5, 7, 7, 11, 13, 17, 19, 23, 29, 31, 37, 41, 43, 47] to_merge [2, 5, 5]\n",
      "orig [2, 2, 2, 2, 2, 3, 3, 3, 5, 5, 7, 7, 11, 13, 17, 19, 23, 29, 31, 37, 41, 43, 47] to_merge [3, 17]\n",
      "orig [2, 2, 2, 2, 2, 3, 3, 3, 5, 5, 7, 7, 11, 13, 17, 19, 23, 29, 31, 37, 41, 43, 47] to_merge [2, 2, 13]\n",
      "orig [2, 2, 2, 2, 2, 3, 3, 3, 5, 5, 7, 7, 11, 13, 17, 19, 23, 29, 31, 37, 41, 43, 47] to_merge [53]\n",
      "orig [2, 2, 2, 2, 2, 3, 3, 3, 5, 5, 7, 7, 11, 13, 17, 19, 23, 29, 31, 37, 41, 43, 47, 53] to_merge [2, 3, 3, 3]\n",
      "orig [2, 2, 2, 2, 2, 3, 3, 3, 5, 5, 7, 7, 11, 13, 17, 19, 23, 29, 31, 37, 41, 43, 47, 53] to_merge [5, 11]\n",
      "orig [2, 2, 2, 2, 2, 3, 3, 3, 5, 5, 7, 7, 11, 13, 17, 19, 23, 29, 31, 37, 41, 43, 47, 53] to_merge [2, 2, 2, 7]\n",
      "orig [2, 2, 2, 2, 2, 3, 3, 3, 5, 5, 7, 7, 11, 13, 17, 19, 23, 29, 31, 37, 41, 43, 47, 53] to_merge [3, 19]\n",
      "orig [2, 2, 2, 2, 2, 3, 3, 3, 5, 5, 7, 7, 11, 13, 17, 19, 23, 29, 31, 37, 41, 43, 47, 53] to_merge [2, 29]\n",
      "orig [2, 2, 2, 2, 2, 3, 3, 3, 5, 5, 7, 7, 11, 13, 17, 19, 23, 29, 31, 37, 41, 43, 47, 53] to_merge [59]\n",
      "orig [2, 2, 2, 2, 2, 3, 3, 3, 5, 5, 7, 7, 11, 13, 17, 19, 23, 29, 31, 37, 41, 43, 47, 53, 59] to_merge [2, 2, 3, 5]\n",
      "orig [2, 2, 2, 2, 2, 3, 3, 3, 5, 5, 7, 7, 11, 13, 17, 19, 23, 29, 31, 37, 41, 43, 47, 53, 59] to_merge [61]\n",
      "orig [2, 2, 2, 2, 2, 3, 3, 3, 5, 5, 7, 7, 11, 13, 17, 19, 23, 29, 31, 37, 41, 43, 47, 53, 59, 61] to_merge [2, 31]\n",
      "orig [2, 2, 2, 2, 2, 3, 3, 3, 5, 5, 7, 7, 11, 13, 17, 19, 23, 29, 31, 37, 41, 43, 47, 53, 59, 61] to_merge [3, 3, 7]\n",
      "orig [2, 2, 2, 2, 2, 3, 3, 3, 5, 5, 7, 7, 11, 13, 17, 19, 23, 29, 31, 37, 41, 43, 47, 53, 59, 61] to_merge [2, 2, 2, 2, 2, 2]\n",
      "orig [2, 2, 2, 2, 2, 2, 3, 3, 3, 5, 5, 7, 7, 11, 13, 17, 19, 23, 29, 31, 37, 41, 43, 47, 53, 59, 61] to_merge [5, 13]\n",
      "orig [2, 2, 2, 2, 2, 2, 3, 3, 3, 5, 5, 7, 7, 11, 13, 17, 19, 23, 29, 31, 37, 41, 43, 47, 53, 59, 61] to_merge [2, 3, 11]\n",
      "orig [2, 2, 2, 2, 2, 2, 3, 3, 3, 5, 5, 7, 7, 11, 13, 17, 19, 23, 29, 31, 37, 41, 43, 47, 53, 59, 61] to_merge [67]\n",
      "orig [2, 2, 2, 2, 2, 2, 3, 3, 3, 5, 5, 7, 7, 11, 13, 17, 19, 23, 29, 31, 37, 41, 43, 47, 53, 59, 61, 67] to_merge [2, 2, 17]\n",
      "orig [2, 2, 2, 2, 2, 2, 3, 3, 3, 5, 5, 7, 7, 11, 13, 17, 19, 23, 29, 31, 37, 41, 43, 47, 53, 59, 61, 67] to_merge [3, 23]\n",
      "orig [2, 2, 2, 2, 2, 2, 3, 3, 3, 5, 5, 7, 7, 11, 13, 17, 19, 23, 29, 31, 37, 41, 43, 47, 53, 59, 61, 67] to_merge [2, 5, 7]\n",
      "orig [2, 2, 2, 2, 2, 2, 3, 3, 3, 5, 5, 7, 7, 11, 13, 17, 19, 23, 29, 31, 37, 41, 43, 47, 53, 59, 61, 67] to_merge [71]\n",
      "orig [2, 2, 2, 2, 2, 2, 3, 3, 3, 5, 5, 7, 7, 11, 13, 17, 19, 23, 29, 31, 37, 41, 43, 47, 53, 59, 61, 67, 71] to_merge [2, 2, 2, 3, 3]\n",
      "orig [2, 2, 2, 2, 2, 2, 3, 3, 3, 5, 5, 7, 7, 11, 13, 17, 19, 23, 29, 31, 37, 41, 43, 47, 53, 59, 61, 67, 71] to_merge [73]\n",
      "orig [2, 2, 2, 2, 2, 2, 3, 3, 3, 5, 5, 7, 7, 11, 13, 17, 19, 23, 29, 31, 37, 41, 43, 47, 53, 59, 61, 67, 71, 73] to_merge [2, 37]\n",
      "orig [2, 2, 2, 2, 2, 2, 3, 3, 3, 5, 5, 7, 7, 11, 13, 17, 19, 23, 29, 31, 37, 41, 43, 47, 53, 59, 61, 67, 71, 73] to_merge [3, 5, 5]\n",
      "orig [2, 2, 2, 2, 2, 2, 3, 3, 3, 5, 5, 7, 7, 11, 13, 17, 19, 23, 29, 31, 37, 41, 43, 47, 53, 59, 61, 67, 71, 73] to_merge [2, 2, 19]\n",
      "orig [2, 2, 2, 2, 2, 2, 3, 3, 3, 5, 5, 7, 7, 11, 13, 17, 19, 23, 29, 31, 37, 41, 43, 47, 53, 59, 61, 67, 71, 73] to_merge [7, 11]\n",
      "orig [2, 2, 2, 2, 2, 2, 3, 3, 3, 5, 5, 7, 7, 11, 13, 17, 19, 23, 29, 31, 37, 41, 43, 47, 53, 59, 61, 67, 71, 73] to_merge [2, 3, 13]\n",
      "orig [2, 2, 2, 2, 2, 2, 3, 3, 3, 5, 5, 7, 7, 11, 13, 17, 19, 23, 29, 31, 37, 41, 43, 47, 53, 59, 61, 67, 71, 73] to_merge [79]\n",
      "orig [2, 2, 2, 2, 2, 2, 3, 3, 3, 5, 5, 7, 7, 11, 13, 17, 19, 23, 29, 31, 37, 41, 43, 47, 53, 59, 61, 67, 71, 73, 79] to_merge [2, 2, 2, 2, 5]\n",
      "orig [2, 2, 2, 2, 2, 2, 3, 3, 3, 5, 5, 7, 7, 11, 13, 17, 19, 23, 29, 31, 37, 41, 43, 47, 53, 59, 61, 67, 71, 73, 79] to_merge [3, 3, 3, 3]\n",
      "orig [2, 2, 2, 2, 2, 2, 3, 3, 3, 3, 5, 5, 7, 7, 11, 13, 17, 19, 23, 29, 31, 37, 41, 43, 47, 53, 59, 61, 67, 71, 73, 79] to_merge [2, 41]\n",
      "orig [2, 2, 2, 2, 2, 2, 3, 3, 3, 3, 5, 5, 7, 7, 11, 13, 17, 19, 23, 29, 31, 37, 41, 43, 47, 53, 59, 61, 67, 71, 73, 79] to_merge [83]\n",
      "orig [2, 2, 2, 2, 2, 2, 3, 3, 3, 3, 5, 5, 7, 7, 11, 13, 17, 19, 23, 29, 31, 37, 41, 43, 47, 53, 59, 61, 67, 71, 73, 79, 83] to_merge [2, 2, 3, 7]\n",
      "orig [2, 2, 2, 2, 2, 2, 3, 3, 3, 3, 5, 5, 7, 7, 11, 13, 17, 19, 23, 29, 31, 37, 41, 43, 47, 53, 59, 61, 67, 71, 73, 79, 83] to_merge [5, 17]\n",
      "orig [2, 2, 2, 2, 2, 2, 3, 3, 3, 3, 5, 5, 7, 7, 11, 13, 17, 19, 23, 29, 31, 37, 41, 43, 47, 53, 59, 61, 67, 71, 73, 79, 83] to_merge [2, 43]\n",
      "orig [2, 2, 2, 2, 2, 2, 3, 3, 3, 3, 5, 5, 7, 7, 11, 13, 17, 19, 23, 29, 31, 37, 41, 43, 47, 53, 59, 61, 67, 71, 73, 79, 83] to_merge [3, 29]\n",
      "orig [2, 2, 2, 2, 2, 2, 3, 3, 3, 3, 5, 5, 7, 7, 11, 13, 17, 19, 23, 29, 31, 37, 41, 43, 47, 53, 59, 61, 67, 71, 73, 79, 83] to_merge [2, 2, 2, 11]\n",
      "orig [2, 2, 2, 2, 2, 2, 3, 3, 3, 3, 5, 5, 7, 7, 11, 13, 17, 19, 23, 29, 31, 37, 41, 43, 47, 53, 59, 61, 67, 71, 73, 79, 83] to_merge [89]\n",
      "orig [2, 2, 2, 2, 2, 2, 3, 3, 3, 3, 5, 5, 7, 7, 11, 13, 17, 19, 23, 29, 31, 37, 41, 43, 47, 53, 59, 61, 67, 71, 73, 79, 83, 89] to_merge [2, 3, 3, 5]\n",
      "orig [2, 2, 2, 2, 2, 2, 3, 3, 3, 3, 5, 5, 7, 7, 11, 13, 17, 19, 23, 29, 31, 37, 41, 43, 47, 53, 59, 61, 67, 71, 73, 79, 83, 89] to_merge [7, 13]\n",
      "orig [2, 2, 2, 2, 2, 2, 3, 3, 3, 3, 5, 5, 7, 7, 11, 13, 17, 19, 23, 29, 31, 37, 41, 43, 47, 53, 59, 61, 67, 71, 73, 79, 83, 89] to_merge [2, 2, 23]\n",
      "orig [2, 2, 2, 2, 2, 2, 3, 3, 3, 3, 5, 5, 7, 7, 11, 13, 17, 19, 23, 29, 31, 37, 41, 43, 47, 53, 59, 61, 67, 71, 73, 79, 83, 89] to_merge [3, 31]\n",
      "orig [2, 2, 2, 2, 2, 2, 3, 3, 3, 3, 5, 5, 7, 7, 11, 13, 17, 19, 23, 29, 31, 37, 41, 43, 47, 53, 59, 61, 67, 71, 73, 79, 83, 89] to_merge [2, 47]\n",
      "orig [2, 2, 2, 2, 2, 2, 3, 3, 3, 3, 5, 5, 7, 7, 11, 13, 17, 19, 23, 29, 31, 37, 41, 43, 47, 53, 59, 61, 67, 71, 73, 79, 83, 89] to_merge [5, 19]\n",
      "orig [2, 2, 2, 2, 2, 2, 3, 3, 3, 3, 5, 5, 7, 7, 11, 13, 17, 19, 23, 29, 31, 37, 41, 43, 47, 53, 59, 61, 67, 71, 73, 79, 83, 89] to_merge [2, 2, 2, 2, 2, 3]\n",
      "orig [2, 2, 2, 2, 2, 2, 3, 3, 3, 3, 5, 5, 7, 7, 11, 13, 17, 19, 23, 29, 31, 37, 41, 43, 47, 53, 59, 61, 67, 71, 73, 79, 83, 89] to_merge [97]\n",
      "orig [2, 2, 2, 2, 2, 2, 3, 3, 3, 3, 5, 5, 7, 7, 11, 13, 17, 19, 23, 29, 31, 37, 41, 43, 47, 53, 59, 61, 67, 71, 73, 79, 83, 89, 97] to_merge [2, 7, 7]\n",
      "orig [2, 2, 2, 2, 2, 2, 3, 3, 3, 3, 5, 5, 7, 7, 11, 13, 17, 19, 23, 29, 31, 37, 41, 43, 47, 53, 59, 61, 67, 71, 73, 79, 83, 89, 97] to_merge [3, 3, 11]\n",
      "orig [2, 2, 2, 2, 2, 2, 3, 3, 3, 3, 5, 5, 7, 7, 11, 13, 17, 19, 23, 29, 31, 37, 41, 43, 47, 53, 59, 61, 67, 71, 73, 79, 83, 89, 97] to_merge [2, 2, 5, 5]\n",
      "[2, 2, 2, 2, 2, 2, 3, 3, 3, 3, 5, 5, 7, 7, 11, 13, 17, 19, 23, 29, 31, 37, 41, 43, 47, 53, 59, 61, 67, 71, 73, 79, 83, 89, 97]\n"
     ]
    }
   ],
   "source": [
    "prime_factors = list()\n",
    "for i in range(2,N+1):\n",
    "    prime_factors = merge_in_list( prime_factors , get_prime_factor(i))\n",
    "    \n",
    "print(prime_factors)"
   ]
  },
  {
   "cell_type": "markdown",
   "metadata": {},
   "source": [
    "Con el print podemos ver como se van integrando la lista de los números primos en la medida que voy procesando el rango de números.\n",
    "\n",
    "Finalmente entonces, sólo me queda multiplicar todos esos números entre si y conseguir el menos número divisible por todos los numero en un rango [1; N]."
   ]
  },
  {
   "cell_type": "code",
   "execution_count": 64,
   "metadata": {},
   "outputs": [
    {
     "name": "stdout",
     "output_type": "stream",
     "text": [
      "69720375229712477164533808935312303556800\n"
     ]
    }
   ],
   "source": [
    "mul = 1\n",
    "for i in prime_factors:\n",
    "    mul *= i\n",
    "print(mul)"
   ]
  },
  {
   "cell_type": "markdown",
   "metadata": {},
   "source": [
    "Cambiando los distintos valores de N podemos calcular fácilmente cualquier otro número que cumpla las condiciones solictadas."
   ]
  },
  {
   "cell_type": "markdown",
   "metadata": {},
   "source": []
  }
 ],
 "metadata": {
  "interpreter": {
   "hash": "31f2aee4e71d21fbe5cf8b01ff0e069b9275f58929596ceb00d14d90e3e16cd6"
  },
  "kernelspec": {
   "display_name": "Python 3.8.9 64-bit",
   "language": "python",
   "name": "python3"
  },
  "language_info": {
   "codemirror_mode": {
    "name": "ipython",
    "version": 3
   },
   "file_extension": ".py",
   "mimetype": "text/x-python",
   "name": "python",
   "nbconvert_exporter": "python",
   "pygments_lexer": "ipython3",
   "version": "3.8.9"
  },
  "orig_nbformat": 4
 },
 "nbformat": 4,
 "nbformat_minor": 2
}
