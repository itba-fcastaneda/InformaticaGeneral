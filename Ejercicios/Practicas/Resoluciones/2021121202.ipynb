{
 "cells": [
  {
   "cell_type": "markdown",
   "metadata": {},
   "source": [
    "# La diferencia de la suma de los cuadros\n"
   ]
  },
  {
   "cell_type": "markdown",
   "metadata": {},
   "source": [
    "## Consigna"
   ]
  },
  {
   "cell_type": "markdown",
   "metadata": {},
   "source": [
    "Los números primos positivos ordenados de mayor son:\n",
    "\n",
    "2,3,5,7,11,13,...\n",
    "\n",
    "El 13 es el sexto número primo. Encontrar el número primo 10001 en la secuencia."
   ]
  },
  {
   "cell_type": "markdown",
   "metadata": {},
   "source": [
    "## Resolución"
   ]
  },
  {
   "cell_type": "markdown",
   "metadata": {},
   "source": [
    "Sabemos que el 2 el único número primo par, de modo que vamos a recorrer todos los números cuando veamos que es primo, incrementamos un contador hasta que ese contador llegue a 10001."
   ]
  },
  {
   "cell_type": "code",
   "execution_count": 8,
   "metadata": {},
   "outputs": [
    {
     "data": {
      "text/plain": [
       "104743"
      ]
     },
     "execution_count": 8,
     "metadata": {},
     "output_type": "execute_result"
    }
   ],
   "source": [
    "primos = 2 ## Lo inicializo en 2 por que ya considero que el 2 y 3 son los primeros\n",
    "first = 3 ## Primer número que voy a probar es 5, pero inicializo en 3 para que se incremente a 5 al entrar al loop\n",
    "\n",
    "while primos < 10001: \n",
    "    first += 2 ## Analizo el siguiente número impar, los pares\n",
    "    ## chequeo si el número es primo\n",
    "    es_primo=True ## Chequeo que no sea par\n",
    "\n",
    "    for i in range(3,first,2): ## entonces analizo todos los impares para ver si alguno lo divide\n",
    "        if (first%i)==0:\n",
    "            es_primo = False\n",
    "        if not es_primo:\n",
    "            break ## Encontre un divisor, termino ya\n",
    "\n",
    "    if es_primo:\n",
    "        ## Efectivamente era primo\n",
    "        primos += 1\n",
    "\n",
    "    \n",
    "\n",
    "first     "
   ]
  },
  {
   "cell_type": "code",
   "execution_count": null,
   "metadata": {},
   "outputs": [],
   "source": []
  }
 ],
 "metadata": {
  "interpreter": {
   "hash": "31f2aee4e71d21fbe5cf8b01ff0e069b9275f58929596ceb00d14d90e3e16cd6"
  },
  "kernelspec": {
   "display_name": "Python 3.8.9 64-bit",
   "language": "python",
   "name": "python3"
  },
  "language_info": {
   "codemirror_mode": {
    "name": "ipython",
    "version": 3
   },
   "file_extension": ".py",
   "mimetype": "text/x-python",
   "name": "python",
   "nbconvert_exporter": "python",
   "pygments_lexer": "ipython3",
   "version": "3.8.9"
  },
  "orig_nbformat": 4
 },
 "nbformat": 4,
 "nbformat_minor": 2
}
