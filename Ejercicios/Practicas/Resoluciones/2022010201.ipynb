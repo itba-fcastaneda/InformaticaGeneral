{
 "cells": [
  {
   "cell_type": "markdown",
   "metadata": {},
   "source": [
    "# Rectangulos\n",
    "## Consigna\n",
    "\n",
    "En una grilla de NxM se puede formar muchos restangulos de distinto tamaño. \n",
    "Por ejemplo, se puede ver que en una grilla de 2x3 se pueden formar hasta 18 rectángulos \n",
    "\n",
    "![Ejemplo2x3](../imagenes/cuadrados.png)\n"
   ]
  },
  {
   "cell_type": "markdown",
   "metadata": {},
   "source": [
    "Encontrar la cantidad de rectángulos que entran en una grilla de 10x10."
   ]
  },
  {
   "cell_type": "markdown",
   "metadata": {},
   "source": [
    "## Desafío extra\n",
    "\n",
    "Encontrar el tamaño de grilla que permita formar la cantidad más cercana a dos millones de rectángulos. "
   ]
  },
  {
   "cell_type": "markdown",
   "metadata": {},
   "source": [
    "## Resolución\n",
    "\n",
    "Para resolver este problema vamos a descomponerlo en partes. Primiero vamos a hacer una función que dado el tamaño de la grilla, y dado el tamaño del rectángulo, determiner cuántos rectángulos distintos puede haber.\n",
    "\n",
    "Se puede ver con los ejemplos que esa cantidad está dada por cuantas veces entra en cada sentida el cuadrado (tamaño grilla // tamaño cuadrado), multiplicado por el resto de esa división (cuántes veces puedo poner esa misma distribución en los espacios vacíos)."
   ]
  },
  {
   "cell_type": "code",
   "execution_count": 38,
   "metadata": {},
   "outputs": [],
   "source": [
    "def calc_rect_in_frame( fx: int, fy:int , rx:int, ry:int  ):\n",
    "    resx = fx - rx +1\n",
    "    resy = fy - ry +1\n",
    "    return resx * resy \n"
   ]
  },
  {
   "cell_type": "markdown",
   "metadata": {},
   "source": [
    "Vamos a verificar los valores del ejemplo."
   ]
  },
  {
   "cell_type": "code",
   "execution_count": 39,
   "metadata": {},
   "outputs": [
    {
     "name": "stdout",
     "output_type": "stream",
     "text": [
      "Grid 3x2, rect 1x1 ->  6\n",
      "Grid 3x2, rect 2x1 ->  4\n",
      "Grid 3x2, rect 3x1 ->  2\n",
      "Grid 3x2, rect 1x2 ->  3\n",
      "Grid 3x2, rect 2x2 ->  2\n",
      "Grid 3x2, rect 3x2 ->  1\n"
     ]
    }
   ],
   "source": [
    "print('Grid 3x2, rect 1x1 -> ', calc_rect_in_frame(3,2,1,1))\n",
    "print('Grid 3x2, rect 2x1 -> ', calc_rect_in_frame(3,2,2,1))\n",
    "print('Grid 3x2, rect 3x1 -> ', calc_rect_in_frame(3,2,3,1))\n",
    "print('Grid 3x2, rect 1x2 -> ', calc_rect_in_frame(3,2,1,2))\n",
    "print('Grid 3x2, rect 2x2 -> ', calc_rect_in_frame(3,2,2,2))\n",
    "print('Grid 3x2, rect 3x2 -> ', calc_rect_in_frame(3,2,3,2))"
   ]
  },
  {
   "cell_type": "markdown",
   "metadata": {},
   "source": [
    "Ahora, para ver todos los posibles rectángulos, vamos a iterar entre 1 y 10, a lo largo y a lo ancho, varia variar por todos los posibles tamaños de rectángulos y sumar las cantidades. "
   ]
  },
  {
   "cell_type": "code",
   "execution_count": null,
   "metadata": {},
   "outputs": [
    {
     "name": "stdout",
     "output_type": "stream",
     "text": [
      "10x10 = 3025\n"
     ]
    }
   ],
   "source": [
    "def sum_rects (M,N):\n",
    "    sum = 0\n",
    "    for x in range(1,N+1):\n",
    "        for y in range(1,M+1):\n",
    "            sum += calc_rect_in_frame(N,M,x,y)\n",
    "    return sum\n",
    "\n",
    "print (f'{10}x{10} = {sum_rects(10,10)}')"
   ]
  },
  {
   "cell_type": "markdown",
   "metadata": {},
   "source": [
    "Ahora, para calcular cuál es el área que produce la cantidad más cercana a 2M hay que probar rangos de tamaños de grillas y ver cuando se minimiza la diferenciaentre la sum y 2M. El valor más chico de tamaño será la respuesta.\n",
    "\n",
    "Dado que si una grilla tiene una cantidad de rectágulos, una más grande tendrá más rectángulos, al ver que la diferencia se comienza a incrementar, no tendrá sentido probando con grillas más grandes, de modo que ponemos un break para evitar prubas innecesarias. "
   ]
  },
  {
   "cell_type": "code",
   "execution_count": null,
   "metadata": {},
   "outputs": [],
   "source": [
    "target = 2000000\n",
    "\n",
    "diff = 2000000\n",
    "old_diff = diff\n",
    "size = None\n",
    "for x in range(1,2000):\n",
    "    for y in range(1,2000):\n",
    "        sum = sum_rects(x,y)\n",
    "        new_diff = abs(sum-target)\n",
    "        if new_diff < diff:\n",
    "            size= (x,y)\n",
    "            diff = new_diff\n",
    "\n",
    "        old_diff = new_diff\n",
    "        \n",
    "print(size, diff , size[0]*size[1])"
   ]
  },
  {
   "cell_type": "code",
   "execution_count": null,
   "metadata": {},
   "outputs": [],
   "source": []
  }
 ],
 "metadata": {
  "interpreter": {
   "hash": "31f2aee4e71d21fbe5cf8b01ff0e069b9275f58929596ceb00d14d90e3e16cd6"
  },
  "kernelspec": {
   "display_name": "Python 3.8.9 64-bit",
   "language": "python",
   "name": "python3"
  },
  "language_info": {
   "codemirror_mode": {
    "name": "ipython",
    "version": 3
   },
   "file_extension": ".py",
   "mimetype": "text/x-python",
   "name": "python",
   "nbconvert_exporter": "python",
   "pygments_lexer": "ipython3",
   "version": "3.8.9"
  },
  "orig_nbformat": 4
 },
 "nbformat": 4,
 "nbformat_minor": 2
}
