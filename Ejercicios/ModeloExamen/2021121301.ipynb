{
 "cells": [
  {
   "cell_type": "markdown",
   "metadata": {},
   "source": [
    "# Caminos en una cuadrícula"
   ]
  },
  {
   "cell_type": "markdown",
   "metadata": {},
   "source": [
    "## Consigna"
   ]
  },
  {
   "cell_type": "markdown",
   "metadata": {},
   "source": [
    "Suponga que hay una cuadrícula de 2x2. Asumiendo que se comienza en la esquina superior izquierda y se desea llegar a la inferior derecha, con la limitaciónd e que sólo se puede avanzar hacia la derecha o hacia abajo, puede verse que hay exáctamente 6 formas distintas de llegar. \n",
    "\n",
    "\n",
    "![Ejemplo2x2](./imagenes/cuadricula.png)\n",
    "\n",
    "Suponinendo que se tiene una cuadrícula de NxN, calcular la cantidad de formas de llegar."
   ]
  },
  {
   "cell_type": "markdown",
   "metadata": {},
   "source": [
    "## Respuesta\n",
    "\n",
    "Para N=20: ```137846528820```"
   ]
  },
  {
   "cell_type": "markdown",
   "metadata": {},
   "source": [
    "## Tip\n",
    "\n",
    "Se puede considerar cada punto donde se cruzan dos línea un valor en una matriz, que cuente cuántas formas de llegar ahí hay. Cada punto va a ser la suma de las formas de llegar desde la izquierda y las formas de llegar desde arriba."
   ]
  },
  {
   "cell_type": "markdown",
   "metadata": {},
   "source": []
  }
 ],
 "metadata": {
  "language_info": {
   "name": "python"
  },
  "orig_nbformat": 4
 },
 "nbformat": 4,
 "nbformat_minor": 2
}
