{
 "cells": [
  {
   "cell_type": "markdown",
   "metadata": {},
   "source": [
    "# Ejercicio"
   ]
  },
  {
   "cell_type": "markdown",
   "metadata": {},
   "source": [
    "## Consigna"
   ]
  },
  {
   "cell_type": "markdown",
   "metadata": {},
   "source": [
    "Se tiene una matriz de números enteros (no hacer la generación de esta matriz, asumir que ya está dada).\n",
    "Escribir un programa que tenga:\n",
    "\n",
    "* Una función que reciba la matriz completa y obtenga el mínimo y el máximo de toda la matriz\n",
    "* Una función que reciba la matriz completa, el mínimo y el máximo obtenidos en el punto (a) y genere una lista con las apariciones de cada número entre el máximo y el mínimo (en forma de par: [número, cantidad de apariciones])"
   ]
  },
  {
   "cell_type": "markdown",
   "metadata": {},
   "source": [
    "## Ejemplo:\n",
    "\n",
    "Matriz inicial:\n",
    "\n",
    "4      8      6      7     \n",
    "3      2      4      3     \n",
    "6      4      7      5     \n",
    "2      8      7      15    \n",
    "\n",
    "El resultado esperado es:\n",
    "* Mínimo: 2\n",
    "* Máximo: 15\n",
    "* Lista=[[2, 2], [3, 2], [4, 3], [5, 1], [6, 2], [7, 3], [8, 2], [9, 0], [10, 0], [11, 0], [12, 0], [13, 0], [14, 0], [15, 1]]"
   ]
  },
  {
   "cell_type": "markdown",
   "metadata": {},
   "source": [
    "## Resolución"
   ]
  },
  {
   "cell_type": "markdown",
   "metadata": {},
   "source": [
    "Primero vamos a hacer u análisis de consigna:\n",
    "* La matriz ya viene dada, de modo no hay que ingresar los datos. Está compuesta por **números enteros**. No se especifica ningún valor mínimo ni máximo. Siempre va a tener por lo menos una fila y por lo menos una columna.\n",
    "* Nos puden hacer dos funciones, de modo que la respuesta debe tener las funciones definidas, respetando los argumentos y lo que debe retornar.\n",
    "* La primera función debe analizar **todos los valores** de la matríz y devolver el máximo y el mínimo.\n",
    "* La segunda función recibe la matriz, un par de valores máximo y mínimo y debe devolver la cantidad de apariciones de **todos** los números entre el máximo y mínimo ingresado. Debe devolverlo en un formato de matriz, donde cada fila posee dos elementos [ número , cantidad de apariciones ].\n"
   ]
  },
  {
   "cell_type": "markdown",
   "metadata": {},
   "source": [
    "Nos están dando un ejemplo. Es importante tener en cuenta que tener ejemplo no significa que nuestras funciones deben resolver solamente ese caso. Cosas que está mal asumir:\n",
    "* La matriz va a contener sólo ese contenido\n",
    "* La matriz va a tener 4 filas y cuatro columnas\n",
    "* El mínimo va a ser 2 y el máximo va a ser 15"
   ]
  },
  {
   "cell_type": "markdown",
   "metadata": {},
   "source": [
    "A partir del ejemplo podemos crear ua variable para probar si nuestras funciones hacen lo esperado."
   ]
  },
  {
   "cell_type": "code",
   "execution_count": 1,
   "metadata": {},
   "outputs": [],
   "source": [
    "ejemplo = [ [4,8,6,7],     \n",
    "            [3,2,4,3],     \n",
    "            [6,4,7,5],     \n",
    "            [2,8,7,15]]"
   ]
  },
  {
   "cell_type": "markdown",
   "metadata": {},
   "source": [
    "### Primera función"
   ]
  },
  {
   "cell_type": "markdown",
   "metadata": {},
   "source": [
    "La función recibe un sólo argumento, que es la matriz que debo analizar, y debe devolver dos valores, el mínimo y el máximo. O sea, mi función debe verse de la siguiente forma:"
   ]
  },
  {
   "cell_type": "code",
   "execution_count": 2,
   "metadata": {},
   "outputs": [],
   "source": [
    "def calcular_max_min( matriz ):\n",
    "    \n",
    "    pass ## pass representa el lugar donde debe ir el resto del código de la función\n",
    "\n",
    "    return max, min"
   ]
  },
  {
   "cell_type": "markdown",
   "metadata": {},
   "source": [
    "Cada vez que debemos calcular el máximo o mínimo, debemos tener un uno o más ciclos para recorrer los posibles valores, y debemos tener una o más variables para almacenar los valores que vayamos recorriendo (los llamaremos valores extremos). \n",
    "\n",
    "Dado que en la medida que vayamos recorriendo la matriz, vamos a ir comparando los valores de esta con los valores extremos, vamos a necesitar inicializar correctamente estas variables.\n",
    "\n",
    "Buscar valores grandes o chicos no es una biena práctica, sobre todo por que la consigna no indica un rango de valores posibles para los números enteros. La mejor opción entonces es tomar uno de los valores de la matriz. Dado que sabemos que no está vacía, entonces podes tiene por lo menos una línea y una columna.\n",
    "Por lo tanto podemos hacer lo siguiente:"
   ]
  },
  {
   "cell_type": "code",
   "execution_count": 3,
   "metadata": {},
   "outputs": [],
   "source": [
    "def calcular_max_min( matriz ):\n",
    "    \n",
    "    max = matriz[0][0]  ## Un valor de la matriz que sabemos que existe como valor inicial\n",
    "    min = matriz[0][0]\n",
    "\n",
    "    pass ## pass representa el lugar donde debe ir el resto del código de la función\n",
    "\n",
    "    return max, min"
   ]
  },
  {
   "cell_type": "markdown",
   "metadata": {},
   "source": [
    "No importa que valor tomemos, dado que si hay uno mayor, ```max``` se actualizará y si hay uno menos, ```min``` se actualziará."
   ]
  },
  {
   "cell_type": "markdown",
   "metadata": {},
   "source": [
    "Lo siguiente en el código va a ser recorrer la matriz. Vamos a recorrer todas las filas y por cada fila, cada valor."
   ]
  },
  {
   "cell_type": "code",
   "execution_count": 4,
   "metadata": {},
   "outputs": [],
   "source": [
    "def calcular_max_min( matriz ):\n",
    "    \n",
    "    max = matriz[0][0]  ## Un valor de la matriz que sabemos que existe como valor inicial\n",
    "    min = matriz[0][0]\n",
    "\n",
    "    for fila in matriz:  ## Este for recorre todas las filas de la matriz, asignando una fila por vez a la variable fila\n",
    "        for valor in fila:  ## Este for recorre todos los valores de cada una de las filas\n",
    "            pass\n",
    "    \n",
    "    return max, min"
   ]
  },
  {
   "cell_type": "markdown",
   "metadata": {},
   "source": [
    "Por último nos queda analizar cada valor con el máximo y mínimo que tenemos definido hasta ahora."
   ]
  },
  {
   "cell_type": "code",
   "execution_count": 5,
   "metadata": {},
   "outputs": [],
   "source": [
    "def calcular_max_min( matriz ):\n",
    "    \n",
    "    max = matriz[0][0]  ## Un valor de la matriz que sabemos que existe como valor inicial\n",
    "    min = matriz[0][0]\n",
    "\n",
    "    for fila in matriz:  ## Este for recorre todas las filas de la matriz, asignando una fila por vez a la variable fila\n",
    "        for valor in fila:  ## Este for recorre todos los valores de cada una de las filas\n",
    "            if max < valor: ## Si esto es True, valor es mayor que max entonces encontré un valor más grande\n",
    "                max = valor ## Guardo en max el nuevo valor más grande que encontré\n",
    "            if min > valor: ## Si esto es True, valor es menor que min entonces encontré un valor más chico\n",
    "                min = valor ## Guardo en min el nuevo valor más chico que encontré\n",
    "    ## Si ya recorrí todos los valores, entoces puedo devolver ya el mayor y menor de todos ellos. \n",
    "    \n",
    "    return min, max"
   ]
  },
  {
   "cell_type": "markdown",
   "metadata": {},
   "source": [
    "Ahora sólo me queda probar la función."
   ]
  },
  {
   "cell_type": "code",
   "execution_count": 6,
   "metadata": {},
   "outputs": [
    {
     "name": "stdout",
     "output_type": "stream",
     "text": [
      "(2, 15)\n"
     ]
    }
   ],
   "source": [
    "print(calcular_max_min(ejemplo))"
   ]
  },
  {
   "cell_type": "markdown",
   "metadata": {},
   "source": [
    "### Segunda función"
   ]
  },
  {
   "cell_type": "markdown",
   "metadata": {},
   "source": [
    "La segunda función recibe la matriz, un par de valores máximo y mínimo y debe devolver la cantidad de apariciones de **todos** los números entre el máximo y mínimo ingresado. Debe devolverlo en un formato de matriz, donde cada fila posee dos elementos [ número , cantidad de apariciones ].\n",
    "\n",
    "Si planteamos la estructura de la función sería:"
   ]
  },
  {
   "cell_type": "code",
   "execution_count": 7,
   "metadata": {},
   "outputs": [],
   "source": [
    "def frecuencia( matriz , min , max ):\n",
    "\n",
    "    resultado = []  ## Inicializo con algún valor sólo para que no me de error la definicón inicila de la funcíon\n",
    "\n",
    "    pass  ## Acá va a ir el código de la función\n",
    "\n",
    "    return resultado"
   ]
  },
  {
   "cell_type": "markdown",
   "metadata": {},
   "source": [
    "Vamos a detenernos un poco en cómo tiene que ser el resultado. El resultado es una matriz, donde cada fila posee dos elementos [ número , cantidad de apariciones ]. Es una típica situación donde tengo que contar ocurrencias, pero en este caso tengo que contar distintas ocurrencias al mismo tiempo. \n",
    "\n",
    "Hay varias formas de resolver el ejercicio, pero encuentro esta la más eficiente.\n",
    "\n",
    "Vamos a inicializar ```resultado``` con todos los posibles valores que debo contar (desde ```min``` hasta ```max```)"
   ]
  },
  {
   "cell_type": "code",
   "execution_count": 8,
   "metadata": {},
   "outputs": [],
   "source": [
    "def frecuencia( matriz , min , max ):\n",
    "\n",
    "    resultado = []  ## Inicializo con todos los número que tengo que buscar, y la cantidad de cero en las ocurrencias nates de la búsqueda\n",
    "    for num in range(min, max+1):\n",
    "        resultado += [ [num, 0] ]\n",
    "\n",
    "    pass  ## Acá va a ir el código de la función\n",
    "\n",
    "    return resultado"
   ]
  },
  {
   "cell_type": "markdown",
   "metadata": {},
   "source": [
    "**Nota:** \n",
    "\n",
    "Para entender como se ver resultado podemos hacer una prueba:"
   ]
  },
  {
   "cell_type": "code",
   "execution_count": 9,
   "metadata": {},
   "outputs": [
    {
     "name": "stdout",
     "output_type": "stream",
     "text": [
      "[[2, 0], [3, 0], [4, 0], [5, 0], [6, 0], [7, 0], [8, 0], [9, 0]]\n"
     ]
    }
   ],
   "source": [
    "## Valores de ejemplo\n",
    "min , max = 2 , 9\n",
    "\n",
    "resultado = []  ## Inicializo con todos los número que tengo que buscar, y la cantidad de cero en las ocurrencias nates de la búsqueda\n",
    "for num in range(min, max+1):\n",
    "    resultado += [ [num, 0] ]\n",
    "\n",
    "print(resultado)"
   ]
  },
  {
   "cell_type": "markdown",
   "metadata": {},
   "source": [
    "Una cosa importante para notar el que el elemento [0] de resultado, corresponde al valor de ```min```, y el último de la lista al valor de ```max```. Usando esta particularidad, vamos a poder saber que elementos de la lista de resultado actializar en base al valor que queremos actualizar.\n",
    "\n",
    "Dicho en otras palabras, si n es min <= n <= max, entonces puedo decir que el contador que representa n está en resultado[ n - min ][1]\n",
    "\n",
    "Veamos algunos ejemplos:"
   ]
  },
  {
   "cell_type": "code",
   "execution_count": 10,
   "metadata": {},
   "outputs": [
    {
     "name": "stdout",
     "output_type": "stream",
     "text": [
      "Después de inicializar resultado\n",
      "[[2, 0], [3, 0], [4, 0], [5, 0], [6, 0], [7, 0], [8, 0], [9, 0]]\n",
      "n: 2  i: 0\n",
      "Después de incrementar resultado para el valor n = 2\n",
      "[[2, 1], [3, 0], [4, 0], [5, 0], [6, 0], [7, 0], [8, 0], [9, 0]]\n",
      "El valor que cambió fue: resultado[ 0 ]: [2, 1]\n"
     ]
    }
   ],
   "source": [
    "min , max = 2 , 9\n",
    "\n",
    "resultado = []  ## Inicializo con todos los número que tengo que buscar, y la cantidad de cero en las ocurrencias nates de la búsqueda\n",
    "for num in range(min, max+1):\n",
    "    resultado += [ [num, 0] ]\n",
    "\n",
    "print('Después de inicializar resultado')\n",
    "print(resultado)\n",
    "\n",
    "n = 2 ## 2 <= 5 <= 9, OK\n",
    "\n",
    "## Vamos a incrementar la posición en la que está n\n",
    "i = n - min\n",
    "print('n:', n, \" i:\", i)\n",
    "resultado[ i ][1] += 1  ## Incremento en la posición i  \n",
    "\n",
    "print('Después de incrementar resultado para el valor n =',n)\n",
    "print(resultado)\n",
    "print('El valor que cambió fue: resultado[',i,']:',resultado[i])\n",
    "\n"
   ]
  },
  {
   "cell_type": "markdown",
   "metadata": {},
   "source": [
    "Pueden ir probando con los distintos valores de n y ver los resultados."
   ]
  },
  {
   "cell_type": "markdown",
   "metadata": {},
   "source": [
    "Una vez que definimos como inicilizar resultados, y como podemos llvar de sde un valor n a saber que fila de resultado tengo que actualizar, sólo nos queda recorrer todos los valores de la matriz, e ir actualziado la cantidad de ocurrencias tal como hicimos en el ejemplo."
   ]
  },
  {
   "cell_type": "code",
   "execution_count": 11,
   "metadata": {},
   "outputs": [
    {
     "name": "stdout",
     "output_type": "stream",
     "text": [
      "[[2, 2], [3, 2], [4, 3], [5, 1], [6, 2], [7, 3], [8, 2], [9, 0], [10, 0], [11, 0], [12, 0], [13, 0], [14, 0], [15, 1]]\n"
     ]
    }
   ],
   "source": [
    "def frecuencia( matriz , min , max ):\n",
    "\n",
    "    resultado = []  ## Inicializo con todos los número que tengo que buscar, y la cantidad de cero en las ocurrencias nates de la búsqueda\n",
    "    for num in range(min, max+1):\n",
    "        resultado += [ [num, 0] ]\n",
    "\n",
    "    for fila in matriz:  ## Este for recorre todas las filas de la matriz, asignando una fila por vez a la variable fila\n",
    "        for valor in fila:  ## Este for recorre todos los valores de cada una de las filas\n",
    "            n = valor - min\n",
    "            resultado[n][1] += 1\n",
    "\n",
    "    return resultado\n",
    "\n",
    "\n",
    "## Probamos con ejemplo que definimos antes\n",
    "min, max = calcular_max_min(ejemplo)\n",
    "print(frecuencia(ejemplo, min , max))"
   ]
  },
  {
   "cell_type": "markdown",
   "metadata": {},
   "source": [
    "Con eso se completa el ejercicio. "
   ]
  },
  {
   "cell_type": "code",
   "execution_count": null,
   "metadata": {},
   "outputs": [],
   "source": []
  }
 ],
 "metadata": {
  "interpreter": {
   "hash": "31f2aee4e71d21fbe5cf8b01ff0e069b9275f58929596ceb00d14d90e3e16cd6"
  },
  "kernelspec": {
   "display_name": "Python 3 (ipykernel)",
   "language": "python",
   "name": "python3"
  },
  "language_info": {
   "codemirror_mode": {
    "name": "ipython",
    "version": 3
   },
   "file_extension": ".py",
   "mimetype": "text/x-python",
   "name": "python",
   "nbconvert_exporter": "python",
   "pygments_lexer": "ipython3",
   "version": "3.8.9"
  }
 },
 "nbformat": 4,
 "nbformat_minor": 4
}
