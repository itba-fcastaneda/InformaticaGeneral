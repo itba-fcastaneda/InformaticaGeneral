{
 "cells": [
  {
   "cell_type": "markdown",
   "metadata": {},
   "source": [
    "# Caminos en una cuadrícula"
   ]
  },
  {
   "cell_type": "markdown",
   "metadata": {},
   "source": [
    "## Consigna"
   ]
  },
  {
   "cell_type": "markdown",
   "metadata": {},
   "source": [
    "Suponga que hay una cuadrícula de 2x2. Asumiendo que se comienza en la esquina superior izquierda y se desea llegar a la inferior derecha, con la limitaciónd e que sólo se puede avanzar hacia la derecha o hacia abajo, puede verse que hay exáctamente 6 formas distintas de llegar. \n",
    "\n",
    "\n",
    "![Ejemplo2x2](../imagenes/cuadricula.png)\n",
    "\n",
    "Suponinendo que se tiene una cuadrícula de NxN, calcular la cantidad de formas de llegar."
   ]
  },
  {
   "cell_type": "markdown",
   "metadata": {},
   "source": [
    "## Tip\n",
    "\n",
    "Se puede considerar cada punto donde se cruzan dos línea un valor en una matriz, que cuente cuántas formas de llegar ahí hay. Cada punto va a ser la suma de las formas de llegar desde la izquierda y las formas de llegar desde arriba."
   ]
  },
  {
   "cell_type": "markdown",
   "metadata": {},
   "source": [
    "## Resolución"
   ]
  },
  {
   "cell_type": "markdown",
   "metadata": {},
   "source": [
    "Arranquemos seteando N."
   ]
  },
  {
   "cell_type": "code",
   "execution_count": 16,
   "metadata": {},
   "outputs": [],
   "source": [
    "N = 2"
   ]
  },
  {
   "cell_type": "markdown",
   "metadata": {},
   "source": [
    "Vamos a seguir el consejo y crear una matriz que cuante la forma de llegar a cada punto. Elpunto [0,0] tendrá una sóla forma de llegar y por lo tanto un valor de uno. \n",
    "\n",
    "También es fácil ver que todos los puntos en la fila 0, sólo se puede llegar desde la izquierda, de modo que todos valen 1. Lo mismo todos los puntos de la columna cero, que sólo se puede llegar desde arriba.\n",
    "\n",
    "Vamos a crear la matriz primero."
   ]
  },
  {
   "cell_type": "code",
   "execution_count": 17,
   "metadata": {},
   "outputs": [
    {
     "name": "stdout",
     "output_type": "stream",
     "text": [
      "[[1, 1, 1], [1, 0, 0], [1, 0, 0]]\n"
     ]
    }
   ],
   "source": [
    "M = [ ]\n",
    "for i in range(N+1): ## N+1 ya que si tengo 2x2 cuadrados, tengo 3x3 caminos que recorrer \n",
    "    line = []\n",
    "    for j in range(N+1):\n",
    "        if( i==0 or j==0 ):\n",
    "            line += [1]\n",
    "        else:\n",
    "            line += [0]\n",
    "    M += [line]\n",
    "print(M)"
   ]
  },
  {
   "cell_type": "markdown",
   "metadata": {},
   "source": [
    "Ahora, sólo debemos recorrer la matriz calculando los valores para todas las intersecciones de caminos. Como ya se los valores de la columna 0 y fila 0, puedo arrancar en la primera. Es importante ir recorriendola en un order donde cada valor pueda sumar los valores de arriba y la izquierda. "
   ]
  },
  {
   "cell_type": "code",
   "execution_count": 18,
   "metadata": {},
   "outputs": [
    {
     "name": "stdout",
     "output_type": "stream",
     "text": [
      "Caminos para llegar: 6\n"
     ]
    }
   ],
   "source": [
    "for i in range(1,N+1):\n",
    "    for j in range(1,N+1): ## Only becuase the M is a square \n",
    "        M[i][j] = M[i-1][j] + M[i][j-1]\n",
    "\n",
    "print('Caminos para llegar:',M[N][N])"
   ]
  },
  {
   "cell_type": "code",
   "execution_count": null,
   "metadata": {},
   "outputs": [],
   "source": []
  }
 ],
 "metadata": {
  "interpreter": {
   "hash": "31f2aee4e71d21fbe5cf8b01ff0e069b9275f58929596ceb00d14d90e3e16cd6"
  },
  "kernelspec": {
   "display_name": "Python 3.8.9 64-bit",
   "language": "python",
   "name": "python3"
  },
  "language_info": {
   "codemirror_mode": {
    "name": "ipython",
    "version": 3
   },
   "file_extension": ".py",
   "mimetype": "text/x-python",
   "name": "python",
   "nbconvert_exporter": "python",
   "pygments_lexer": "ipython3",
   "version": "3.8.9"
  },
  "orig_nbformat": 4
 },
 "nbformat": 4,
 "nbformat_minor": 2
}
