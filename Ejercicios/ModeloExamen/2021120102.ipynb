{
 "cells": [
  {
   "cell_type": "markdown",
   "metadata": {},
   "source": [
    "# Ejercicio Mayor producto de digitos consecutivos"
   ]
  },
  {
   "cell_type": "markdown",
   "metadata": {},
   "source": [
    "## Consigna\n",
    "\n",
    "Dado un número muy grande representado por una lista de cuatro o más dígitos (0-9), se debe encontrar los cuatro dígitos adyacentes que multiplicados entre si generen el produco más grande. La longitud del la lista no se sabe de antemano.\n",
    "\n",
    "Generar una función que reciba la lista y devuelva el valor del producto, y una lista con los cuatro dígitos que la produjeron."
   ]
  },
  {
   "cell_type": "markdown",
   "metadata": {},
   "source": [
    "### Ejemplo"
   ]
  },
  {
   "cell_type": "code",
   "execution_count": null,
   "metadata": {},
   "outputs": [],
   "source": [
    "ejemplo1=[1,2,3,4,5,1,0,5]"
   ]
  },
  {
   "cell_type": "markdown",
   "metadata": {},
   "source": [
    "El mayor producto es 120 y se forma con [2,3,4,5]. La función debe devolver prod=120 y digitos=[2,3,4,5]"
   ]
  },
  {
   "cell_type": "markdown",
   "metadata": {},
   "source": [
    "## Resolución"
   ]
  },
  {
   "cell_type": "markdown",
   "metadata": {},
   "source": [
    "Analicemos que datos sacamos de la consigna:\n",
    "* lista es una secuencia de dígitos entre 0 y 9.\n",
    "* No se conoce de ante mano la longitud de la lista\n",
    "* Se deben buscar el mayor producto entre cuatro dígitos consecutivos, y devolver la primera secuencia de números que devuelva el mayor producto"
   ]
  },
  {
   "cell_type": "markdown",
   "metadata": {},
   "source": [
    "Comencemos por definir la restuctura de la función:\n",
    "* Argumentos: lista de dígitos\n",
    "* Retorna: valor del mayor producto y lista de dígitos"
   ]
  },
  {
   "cell_type": "code",
   "execution_count": null,
   "metadata": {},
   "outputs": [],
   "source": [
    "def mayor_producto( lista ):\n",
    "    producto = None ## Después vemos que valor es el mejor para inicializarlo\n",
    "    digitos = None ## Después vemos que valor es el mejor para inicializarlo\n",
    "    \n",
    "    return producto, digitos"
   ]
  },
  {
   "cell_type": "markdown",
   "metadata": {},
   "source": [
    "Antes de continuar, va a ser cómodo tener una función auxiliar que nos permite calcular el producto entre todos los número de una lista, dado que pare algo que vamos a usar mucho."
   ]
  },
  {
   "cell_type": "code",
   "execution_count": 2,
   "metadata": {},
   "outputs": [],
   "source": [
    "def prod_lista( lista ):\n",
    "    res = 1 ## Inicilizo mi acumuluador \n",
    "    for n in lista:\n",
    "        res *= n\n",
    "    return res"
   ]
  },
  {
   "cell_type": "markdown",
   "metadata": {},
   "source": [
    "Como en toda búsqueda del mayor de un grupo de opciones, lo más fácil es inicializar con el primer valor de la serie. El primer valor de la lista sería los elementos del 0 al 3. "
   ]
  },
  {
   "cell_type": "code",
   "execution_count": 3,
   "metadata": {},
   "outputs": [],
   "source": [
    "def mayor_producto( lista ):\n",
    "    digitos = lista[0:4] ## [0:4] me devuelve una lista [ lista[0] , lista[1], lista[2], lista[3] ]\n",
    "    producto = prod_lista( digitos ) ## Después vemos que valor es el mejor para inicializarlo\n",
    "\n",
    "    pass ## Acá vamos a poner el código que recorra el resto de la lista\n",
    "\n",
    "    return producto, digitos"
   ]
  },
  {
   "cell_type": "markdown",
   "metadata": {},
   "source": [
    "Ahora que ya tenemos inicializado las variables que vamos a usar en la búsqueda, vamos a desarrollar el ciclo. Como tengo que evaluar todas las posibles opciones, voy a ir avanzando hasta llegar a los último cuatro dígitos. \n",
    "Parece el trabajo ideal para un range(). \n",
    "Es fácil saber donde empezar, en cero, pero ese valor ya lo tengo analizado con los valores que inicialicé ```productos```y ```digitos```. Así que que 1 sería el siguiente valor a analizar.\n",
    "Para entender en dónde termina el range, debemos recordar que si la lista tiene 10 items, el último tiene el índice [9], de modo que si yo quiero analizar los último cuatro dígitos, debe pararme en el lista[6] si quiero poder sacar la lista de los últimos 4 dígitos. \n",
    "Si tienen dudas pueden probar el range en el siguiente código."
   ]
  },
  {
   "cell_type": "code",
   "execution_count": 15,
   "metadata": {},
   "outputs": [
    {
     "name": "stdout",
     "output_type": "stream",
     "text": [
      "[1, 2, 3, 4, 5, 6]\n"
     ]
    }
   ],
   "source": [
    "lista = [0,1,2,3,4,5,6,7,8,9]\n",
    "print(list(range(1,len(lista)-4+1)))"
   ]
  },
  {
   "cell_type": "markdown",
   "metadata": {},
   "source": [
    "Ahora podemos hacer el ciclo que revise todas las combinaciones posibles de dígitos:"
   ]
  },
  {
   "cell_type": "code",
   "execution_count": null,
   "metadata": {},
   "outputs": [],
   "source": [
    "def mayor_producto( lista ):\n",
    "    digitos = lista[0:4] ## [0:4] me devuelve una lista [ lista[0] , lista[1], lista[2], lista[3] ]\n",
    "    producto = prod_lista( digitos ) ## Después vemos que valor es el mejor para inicializarlo\n",
    "\n",
    "    for i in range(1,len(lista)-4+1):\n",
    "        pass\n",
    "\n",
    "    return producto, digitos"
   ]
  },
  {
   "cell_type": "markdown",
   "metadata": {},
   "source": [
    "Por último aplicamos la lógica de búsque de un máximo, pero evaluando el producto de secuencias de 4 dígitos que comienzan en i."
   ]
  },
  {
   "cell_type": "code",
   "execution_count": 16,
   "metadata": {},
   "outputs": [],
   "source": [
    "def mayor_producto( lista ):\n",
    "    digitos = lista[0:4] ## [0:4] me devuelve una lista [ lista[0] , lista[1], lista[2], lista[3] ]\n",
    "    producto = prod_lista( digitos ) ## Después vemos que valor es el mejor para inicializarlo\n",
    "\n",
    "    for i in range(1,len(lista)-4+1):\n",
    "        dig_i = lista[i:i+4] ## Extraigo la sub lista\n",
    "        prod_i = prod_lista( dig_i ) ## Calculo el producto\n",
    "\n",
    "        ## Ahora veo si el valor de prod_i es mayor que producto\n",
    "        if( prod_i > producto):\n",
    "            ## ME toca actualizar todo\n",
    "            digitos = dig_i\n",
    "            producto = prod_i\n",
    "\n",
    "    return producto, digitos"
   ]
  },
  {
   "cell_type": "markdown",
   "metadata": {},
   "source": [
    "Ahora sólo queda probarlo con algunos ejemplos y verificar que funciona "
   ]
  },
  {
   "cell_type": "code",
   "execution_count": 17,
   "metadata": {},
   "outputs": [
    {
     "name": "stdout",
     "output_type": "stream",
     "text": [
      "(120, [2, 3, 4, 5])\n"
     ]
    }
   ],
   "source": [
    "ejemplo1=[1,2,3,4,5,1,0,5]\n",
    "print( mayor_producto(ejemplo1) )"
   ]
  },
  {
   "cell_type": "markdown",
   "metadata": {},
   "source": [
    "Podemos probar también con listas más grandes. Cambien los valores de ```long```para probar."
   ]
  },
  {
   "cell_type": "code",
   "execution_count": 33,
   "metadata": {},
   "outputs": [
    {
     "name": "stdout",
     "output_type": "stream",
     "text": [
      "Lista:  [0, 3, 7, 8, 9, 5, 2, 4, 5, 4, 3, 5, 5, 4, 1, 3, 1, 8, 1, 7, 6, 2, 7, 4, 8, 7, 6, 2, 5, 4]\n",
      "(2520, [7, 8, 9, 5])\n"
     ]
    }
   ],
   "source": [
    "## vamos a generar una lista al azar y ver que pasa\n",
    "from random import randint\n",
    "\n",
    "long = 30\n",
    "lista = []\n",
    "for i in range(long): ## Lista de longitud entre 10 y 20 digitos\n",
    "    lista+=[ randint(0,9) ] \n",
    "print('Lista: ',lista)\n",
    "print( mayor_producto(lista) )"
   ]
  },
  {
   "cell_type": "markdown",
   "metadata": {},
   "source": [
    "## Desafío extra"
   ]
  },
  {
   "cell_type": "markdown",
   "metadata": {},
   "source": [
    "Escribir una función que busque los productos por N digitos (0-9) consecutivos y devuelva la lista de todas las combinaciones que produzcan el mayor producto encontrado.\n",
    "N es número mayor a cero y menor o igual que la longitud de la lista."
   ]
  },
  {
   "cell_type": "markdown",
   "metadata": {},
   "source": [
    "Ya tenemos la función caso lista, sólo tenemos que agrgarle un argumento adiciona, que nos diga la cantidad de dígitos a evaluar y ajustar un poco el código."
   ]
  },
  {
   "cell_type": "code",
   "execution_count": null,
   "metadata": {},
   "outputs": [],
   "source": [
    "def mayor_producto( lista , n  ):\n",
    "    ## Argumentos:\n",
    "    # lista: lista de dígitos\n",
    "    # n: Cantidad de dígitos\n",
    "    \n",
    "    digitos = lista[0:n] ## [0:4] me devuelve una lista de los elementos de 0 a n\n",
    "    producto = prod_lista( digitos ) ## Después vemos que valor es el mejor para inicializarlo\n",
    "\n",
    "    for i in range(1,len(lista)-n+1):  ## Ajusto para que depende de n\n",
    "        dig_i = lista[i:i+n] ## Extraigo la sub lista\n",
    "        prod_i = prod_lista( dig_i ) ## Calculo el producto\n",
    "\n",
    "        ## Ahora veo si el valor de prod_i es mayor que producto\n",
    "        if( prod_i > producto):\n",
    "            ## ME toca actualizar todo\n",
    "            digitos = dig_i\n",
    "            producto = prod_i\n",
    "\n",
    "    return producto, digitos"
   ]
  },
  {
   "cell_type": "markdown",
   "metadata": {},
   "source": [
    "Y el otro requerimiento que tengo es devolver todos las combinaciones de dígitos que dan ese valor máximo, de modo que vamos a agregar otra variable para eso."
   ]
  },
  {
   "cell_type": "code",
   "execution_count": 36,
   "metadata": {},
   "outputs": [],
   "source": [
    "def mayor_producto_n( lista , n  ):\n",
    "    ## Argumentos:\n",
    "    # lista: lista de dígitos\n",
    "    # n: Cantidad de dígitos\n",
    "    \n",
    "    digitos = lista[0:n] ## [0:4] me devuelve una lista de los elementos de 0 a n\n",
    "    producto = prod_lista( digitos ) ## Después vemos que valor es el mejor para inicializarlo\n",
    "    lst_digitos = [ digitos ]\n",
    "\n",
    "    for i in range(1,len(lista)-n+1):  ## Ajusto para que depende de n\n",
    "        dig_i = lista[i:i+n] ## Extraigo la sub lista\n",
    "        prod_i = prod_lista( dig_i ) ## Calculo el producto\n",
    "\n",
    "        ## Ahora veo si el valor de prod_i es mayor que producto\n",
    "        if( prod_i > producto):\n",
    "            ## ME toca actualizar todo\n",
    "            producto = prod_i\n",
    "            lst_digitos = [ dig_i ]\n",
    "        elif ( prod_i == producto):\n",
    "            ## Encontre otro valor\n",
    "            # producto no cambia\n",
    "            # pero agrego una combinación más de digitos a la lista\n",
    "            lst_digitos += [ dig_i ]\n",
    "\n",
    "    return producto, lst_digitos"
   ]
  },
  {
   "cell_type": "markdown",
   "metadata": {},
   "source": [
    "Vamos a probarlo con algunos valores extremos..."
   ]
  },
  {
   "cell_type": "code",
   "execution_count": 43,
   "metadata": {},
   "outputs": [
    {
     "name": "stdout",
     "output_type": "stream",
     "text": [
      "Para lista = [0] es (0, [[0]])\n",
      "Para lista = [1, 2, 5, 6, 8, 3, 9, 7, 9, 6, 0, 1, 5, 6, 5, 7, 9, 2, 2] es (63, [[9, 7], [7, 9], [7, 9]])\n"
     ]
    }
   ],
   "source": [
    "caso1 = [0]\n",
    "print(\"Para lista =\",caso1,\"es\",mayor_producto_n(caso1,1))\n",
    "\n",
    "caso2 = [1,2,5,6,8,3,9,7,9,6,0,1,5,6,5,7,9,2,2]\n",
    "print(\"Para lista =\",caso2,\"es\",mayor_producto_n(caso2,2))\n"
   ]
  },
  {
   "cell_type": "code",
   "execution_count": 68,
   "metadata": {},
   "outputs": [
    {
     "name": "stdout",
     "output_type": "stream",
     "text": [
      "Lista:  [6, 4, 1, 8, 9, 8, 0, 2, 8, 3, 9, 5, 3, 1, 1, 0, 8, 9, 0, 4, 5, 1, 9, 6, 7, 4, 7, 5, 0, 1]\n",
      "(72, [[8, 9], [9, 8], [8, 9]])\n"
     ]
    }
   ],
   "source": [
    "from random import randint\n",
    "\n",
    "longitud = 60\n",
    "digitos = 2\n",
    "lista = []\n",
    "for i in range(long): ## Lista de longitud entre 10 y 20 digitos\n",
    "    lista+=[ randint(0,9) ] \n",
    "print('Lista: ',lista)\n",
    "print( mayor_producto_n(lista, digitos) )"
   ]
  }
 ],
 "metadata": {
  "interpreter": {
   "hash": "31f2aee4e71d21fbe5cf8b01ff0e069b9275f58929596ceb00d14d90e3e16cd6"
  },
  "kernelspec": {
   "display_name": "Python 3.8.9 64-bit",
   "language": "python",
   "name": "python3"
  },
  "language_info": {
   "codemirror_mode": {
    "name": "ipython",
    "version": 3
   },
   "file_extension": ".py",
   "mimetype": "text/x-python",
   "name": "python",
   "nbconvert_exporter": "python",
   "pygments_lexer": "ipython3",
   "version": "3.8.9"
  },
  "orig_nbformat": 4
 },
 "nbformat": 4,
 "nbformat_minor": 2
}
